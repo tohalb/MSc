{
  "nbformat": 4,
  "nbformat_minor": 0,
  "metadata": {
    "colab": {
      "name": "Section D - Enhancement - Eng FastText.ipynb",
      "version": "0.3.2",
      "provenance": [],
      "collapsed_sections": []
    },
    "kernelspec": {
      "name": "python3",
      "display_name": "Python 3"
    }
  },
  "cells": [
    {
      "metadata": {
        "id": "mCf7xhF6BWaF",
        "colab_type": "code",
        "outputId": "3be9d562-52ff-4a15-f24d-f40a1bba3b35",
        "colab": {
          "base_uri": "https://localhost:8080/",
          "height": 35
        }
      },
      "cell_type": "code",
      "source": [
        "import keras\n",
        "from keras_preprocessing import text\n",
        "import numpy as np\n",
        "from keras.layers import Lambda, GlobalAveragePooling1D, Dense, Embedding, Input, Conv1D, MaxPooling1D, LSTM, Dropout\n",
        "from keras import backend as K\n",
        "import keras.initializers\n",
        "from keras.models import Sequential\n",
        "from keras.preprocessing.text import Tokenizer\n",
        "from keras.preprocessing.sequence import pad_sequences\n",
        "import os\n",
        "import zipfile\n",
        "import csv,io\n",
        "import nltk\n",
        "import string\n",
        "from string import punctuation\n",
        "import re\n",
        "from sklearn.preprocessing import LabelBinarizer"
      ],
      "execution_count": 0,
      "outputs": [
        {
          "output_type": "stream",
          "text": [
            "Using TensorFlow backend.\n"
          ],
          "name": "stderr"
        }
      ]
    },
    {
      "metadata": {
        "id": "QVJMSUX2NNaE",
        "colab_type": "code",
        "outputId": "59a91457-6980-4d58-b599-41ec6fcbb6c9",
        "colab": {
          "base_uri": "https://localhost:8080/",
          "height": 52
        }
      },
      "cell_type": "code",
      "source": [
        "nltk.download(\"stopwords\")\n",
        "from nltk.corpus import stopwords"
      ],
      "execution_count": 0,
      "outputs": [
        {
          "output_type": "stream",
          "text": [
            "[nltk_data] Downloading package stopwords to /root/nltk_data...\n",
            "[nltk_data]   Package stopwords is already up-to-date!\n"
          ],
          "name": "stdout"
        }
      ]
    },
    {
      "metadata": {
        "id": "vOqSF9t9NUJQ",
        "colab_type": "code",
        "colab": {}
      },
      "cell_type": "code",
      "source": [
        "# Constants\n",
        "\n",
        "EMBED_SIZE=300\n",
        "VOCAB_SIZE = 10000\n",
        "INDEX_FROM = 2\n",
        "#MAXIMUM_LENGTH = 500\n",
        "TRAIN_SPLIT = 0.8"
      ],
      "execution_count": 0,
      "outputs": []
    },
    {
      "metadata": {
        "id": "ieIDEytVNdlz",
        "colab_type": "code",
        "outputId": "7d76bddb-373c-4ea4-edd8-3f491927c480",
        "colab": {
          "base_uri": "https://localhost:8080/",
          "height": 210
        }
      },
      "cell_type": "code",
      "source": [
        "# Get Data\n",
        "\n",
        "!wget http://alt.qcri.org/semeval2017/task4/data/uploads/codalab/4a-english.zip"
      ],
      "execution_count": 0,
      "outputs": [
        {
          "output_type": "stream",
          "text": [
            "--2019-02-20 02:08:46--  http://alt.qcri.org/semeval2017/task4/data/uploads/codalab/4a-english.zip\n",
            "Resolving alt.qcri.org (alt.qcri.org)... 13.93.27.76\n",
            "Connecting to alt.qcri.org (alt.qcri.org)|13.93.27.76|:80... connected.\n",
            "HTTP request sent, awaiting response... 200 OK\n",
            "Length: 1670639 (1.6M) [application/zip]\n",
            "Saving to: ‘4a-english.zip.1’\n",
            "\n",
            "4a-english.zip.1    100%[===================>]   1.59M  2.57MB/s    in 0.6s    \n",
            "\n",
            "2019-02-20 02:08:47 (2.57 MB/s) - ‘4a-english.zip.1’ saved [1670639/1670639]\n",
            "\n"
          ],
          "name": "stdout"
        }
      ]
    },
    {
      "metadata": {
        "id": "-F2fIRq_NhYo",
        "colab_type": "code",
        "colab": {}
      },
      "cell_type": "code",
      "source": [
        "# Extract Training Data File\n",
        "\n",
        "def extract_without_folder(arc_name, full_item_name, folder):\n",
        "    with zipfile.ZipFile(arc_name) as zf:\n",
        "        file_data = zf.read(full_item_name)\n",
        "    with open(os.path.join(folder, os.path.basename(full_item_name)), \"wb\") as fout:\n",
        "        fout.write(file_data)\n",
        "\n",
        "path_to_zip_file = '4a-english.zip'\n",
        "directory_to_extract_to = os.getcwd()  \n",
        "extract_without_folder(path_to_zip_file,'4A-English/SemEval2017-task4-dev.subtask-A.english.INPUT.txt',directory_to_extract_to )"
      ],
      "execution_count": 0,
      "outputs": []
    },
    {
      "metadata": {
        "id": "1hkLzt5KQIiO",
        "colab_type": "code",
        "outputId": "a17ff429-d23b-475f-a66c-7072d7c4c47a",
        "colab": {
          "base_uri": "https://localhost:8080/",
          "height": 180
        }
      },
      "cell_type": "code",
      "source": [
        "#Sanity Check: Read and Display data\n",
        "text_file = open(\"SemEval2017-task4-dev.subtask-A.english.INPUT.txt\", \"r\")\n",
        "corpus = text_file.read()\n",
        "print(len(corpus))\n",
        "print(corpus[:1000])"
      ],
      "execution_count": 0,
      "outputs": [
        {
          "output_type": "stream",
          "text": [
            "2995085\n",
            "619950566786113536\tneutral\t\"Picturehouse's, Pink Floyd's, 'Roger Waters: The Walll - opening 29 Sept is now making waves. Watch the trailer on Rolling Stone - look...\"\t\n",
            "619969366986235905\tneutral\tOrder Go Set a Watchman in store or through our website before Tuesday and get it half price! #GSAW @GSAWatchmanBook https://t.co/KET6EGD1an\t\n",
            "619971047195045888\tnegative\t\"If these runway renovations at the airport prevent me from seeing Taylor Swift on Monday, Bad Blood will have a new meaning.\"\t\n",
            "619974445185302528\tneutral\t\"If you could ask an onstage interview question at Miss USA tomorrow, what would it be?\"\t\n",
            "619987808317407232\tpositive\tA portion of book sales from our Harper Lee/Go Set a Watchman release party on Mon. 7/13 will support @CAP_Tulsa and the great work they do.\t\n",
            "619994586182619136\tpositive\t\"Excited to read \"\"Go Set a Watchman\"\" on Tuesday.  But can it possibly live up to \"\"To Kill a Mockingbird?\"\"  Any opinions?\"\t\n",
            "619998879447162881\tpositive\t\"Watching Miss USA tomorrow JUST to \n"
          ],
          "name": "stdout"
        }
      ]
    },
    {
      "metadata": {
        "id": "Cl6QSnsyQy-B",
        "colab_type": "code",
        "colab": {}
      },
      "cell_type": "code",
      "source": [
        "#Preprocessing 1 - Create tweet data and labels\n",
        "\n",
        "labels = []\n",
        "tweets = []\n",
        "f = csv.reader(io.StringIO(corpus), delimiter='\\t')\n",
        "for row in f:\n",
        "  labels.append(row[1])\n",
        "  tweets.append(row[2])\n",
        "    #print(row[1], row[2])"
      ],
      "execution_count": 0,
      "outputs": []
    },
    {
      "metadata": {
        "id": "7R4nBUSKmcF8",
        "colab_type": "code",
        "colab": {}
      },
      "cell_type": "code",
      "source": [
        "remove_terms = punctuation + '0123456789'"
      ],
      "execution_count": 0,
      "outputs": []
    },
    {
      "metadata": {
        "id": "4_E60Zd9mmuW",
        "colab_type": "code",
        "colab": {}
      },
      "cell_type": "code",
      "source": [
        "def normalize_document(doc):\n",
        "    stop_words = nltk.corpus.stopwords.words('english')\n",
        "    wpt = nltk.WordPunctTokenizer()\n",
        "\n",
        "\n",
        "    # lower case and remove special characters\\whitespaces\n",
        "\n",
        "    doc = re.sub(r'[^a-zA-Z\\s]', '', doc, re.I|re.A)\n",
        "\n",
        "    doc = doc.lower()\n",
        "\n",
        "    doc = doc.strip()\n",
        "\n",
        "    # tokenize document\n",
        "\n",
        "    tokens = wpt.tokenize(doc)\n",
        "\n",
        "    # filter stopwords out of document\n",
        "\n",
        "    filtered_tokens = [token for token in tokens if token not in stop_words]\n",
        "\n",
        "    # re-create document from filtered tokens\n",
        "\n",
        "    doc = ' '.join(filtered_tokens)\n",
        "\n",
        "    return doc\n",
        " "
      ],
      "execution_count": 0,
      "outputs": []
    },
    {
      "metadata": {
        "id": "YH9kzS8jmxrp",
        "colab_type": "code",
        "colab": {}
      },
      "cell_type": "code",
      "source": [
        "normalize_corpus = np.vectorize(normalize_document)\n",
        "normalized_corpus = [[word.lower() for word in sent if word not in remove_terms] for sent in tweets]\n",
        "\n",
        "normalized_corpus = [''.join(tok_sent) for tok_sent in normalized_corpus]\n",
        "\n",
        "#normalized_corpus = filter(None, normalize_corpus(normalized_corpus))\n",
        "#normalized_corpus = list(normalized_corpus)\n",
        "#normalized_corpus = [tok_sent for tok_sent in normalized_corpus if len(tok_sent.split()) > 2]\n",
        "\n",
        "normalized_corpus = list(normalized_corpus)"
      ],
      "execution_count": 0,
      "outputs": []
    },
    {
      "metadata": {
        "id": "VaVJbQuGm6mn",
        "colab_type": "code",
        "outputId": "819a58b1-1aa7-4ff9-9613-452af139a7ec",
        "colab": {
          "base_uri": "https://localhost:8080/",
          "height": 52
        }
      },
      "cell_type": "code",
      "source": [
        "print(tweets[0])\n",
        "print(normalized_corpus[0])"
      ],
      "execution_count": 0,
      "outputs": [
        {
          "output_type": "stream",
          "text": [
            "Picturehouse's, Pink Floyd's, 'Roger Waters: The Walll - opening 29 Sept is now making waves. Watch the trailer on Rolling Stone - look...\n",
            "picturehouses pink floyds roger waters the walll  opening  sept is now making waves watch the trailer on rolling stone  look\n"
          ],
          "name": "stdout"
        }
      ]
    },
    {
      "metadata": {
        "id": "ucGV7cKpQK0S",
        "colab_type": "code",
        "outputId": "e71aab90-fad9-463c-b0f2-326a86791dc3",
        "colab": {
          "base_uri": "https://localhost:8080/",
          "height": 93
        }
      },
      "cell_type": "code",
      "source": [
        "from keras.preprocessing.text import Tokenizer\n",
        "from keras.preprocessing.sequence import pad_sequences\n",
        "\n",
        "tokenizer = Tokenizer(nb_words=VOCAB_SIZE)\n",
        "tokenizer.fit_on_texts(normalized_corpus)\n",
        "sequences = tokenizer.texts_to_sequences(normalized_corpus)\n",
        "\n",
        "word_index = tokenizer.word_index\n",
        "print('Found %s unique tokens.' % len(word_index))"
      ],
      "execution_count": 0,
      "outputs": [
        {
          "output_type": "stream",
          "text": [
            "/usr/local/lib/python3.6/dist-packages/keras_preprocessing/text.py:178: UserWarning: The `nb_words` argument in `Tokenizer` has been renamed `num_words`.\n",
            "  warnings.warn('The `nb_words` argument in `Tokenizer` '\n"
          ],
          "name": "stderr"
        },
        {
          "output_type": "stream",
          "text": [
            "Found 37028 unique tokens.\n"
          ],
          "name": "stdout"
        }
      ]
    },
    {
      "metadata": {
        "id": "kbkFW5dmCEo1",
        "colab_type": "code",
        "colab": {}
      },
      "cell_type": "code",
      "source": [
        "def lengths(x):\n",
        "    if isinstance(x,list):\n",
        "        yield len(x)\n",
        "        for y in x:\n",
        "            yield from lengths(y)\n",
        "\n",
        "MAXIMUM_LENGTH = max([len(x) for x in normalized_corpus])"
      ],
      "execution_count": 0,
      "outputs": []
    },
    {
      "metadata": {
        "id": "Mpr9G5njR2f-",
        "colab_type": "code",
        "outputId": "d13533f6-4e15-4b98-d1f2-e95d30d918a0",
        "colab": {
          "base_uri": "https://localhost:8080/",
          "height": 42
        }
      },
      "cell_type": "code",
      "source": [
        "from keras.utils import to_categorical\n",
        "\n",
        "data = pad_sequences(sequences, maxlen=MAXIMUM_LENGTH)\n",
        "\n",
        "#labels = to_categorical(np.asarray(labels))\n",
        "print('Shape of data tensor:', data.shape)\n",
        "#print('Shape of label tensor:', labels.shape)"
      ],
      "execution_count": 0,
      "outputs": [
        {
          "output_type": "stream",
          "text": [
            "Shape of data tensor: (20632, 144)\n"
          ],
          "name": "stdout"
        }
      ]
    },
    {
      "metadata": {
        "id": "4k8dQ7cXS3wJ",
        "colab_type": "code",
        "outputId": "72178712-0df9-4128-bcd1-0df0e26a5117",
        "colab": {
          "base_uri": "https://localhost:8080/",
          "height": 298
        }
      },
      "cell_type": "code",
      "source": [
        "print(len(tweets))\n",
        "print(len(labels))\n",
        "print(len(data))\n",
        "print(len(sequences))\n",
        "print(len(normalized_corpus))\n",
        "print(data[0])"
      ],
      "execution_count": 0,
      "outputs": [
        {
          "output_type": "stream",
          "text": [
            "20632\n",
            "20632\n",
            "20632\n",
            "20632\n",
            "20632\n",
            "[   0    0    0    0    0    0    0    0    0    0    0    0    0    0\n",
            "    0    0    0    0    0    0    0    0    0    0    0    0    0    0\n",
            "    0    0    0    0    0    0    0    0    0    0    0    0    0    0\n",
            "    0    0    0    0    0    0    0    0    0    0    0    0    0    0\n",
            "    0    0    0    0    0    0    0    0    0    0    0    0    0    0\n",
            "    0    0    0    0    0    0    0    0    0    0    0    0    0    0\n",
            "    0    0    0    0    0    0    0    0    0    0    0    0    0    0\n",
            "    0    0    0    0    0    0    0    0    0    0    0    0    0    0\n",
            "    0    0    0    0    0    0    0    0    0    0    0    0    0    0\n",
            "    0 1665 3032 7939    1  911  445    9   65  591 6255  122    1 1191\n",
            "    7  405  422  331]\n"
          ],
          "name": "stdout"
        }
      ]
    },
    {
      "metadata": {
        "id": "mU8Q5DNYTFVk",
        "colab_type": "code",
        "outputId": "d1cd9d46-2600-47ed-c467-4b25fb24d7c1",
        "colab": {
          "base_uri": "https://localhost:8080/",
          "height": 228
        }
      },
      "cell_type": "code",
      "source": [
        "os.listdir()"
      ],
      "execution_count": 0,
      "outputs": [
        {
          "output_type": "execute_result",
          "data": {
            "text/plain": [
              "['.config',\n",
              " 'glove.6B.200d.txt',\n",
              " 'glove.6B.300d.txt',\n",
              " 'SemEval2017-task4-dev.subtask-A.english.INPUT.txt',\n",
              " 'SemEval2017-task4-dev.subtask-CE.english.INPUT.txt',\n",
              " 'skipgram_keras',\n",
              " 'glove.6B.50d.txt',\n",
              " '4a-english.zip',\n",
              " 'glove.6B.zip',\n",
              " 'glove.6B.100d.txt',\n",
              " '4c-english.zip',\n",
              " 'sample_data']"
            ]
          },
          "metadata": {
            "tags": []
          },
          "execution_count": 4
        }
      ]
    },
    {
      "metadata": {
        "id": "rdrzCgrCSnbN",
        "colab_type": "code",
        "colab": {}
      },
      "cell_type": "code",
      "source": [
        "# split the data into a training set and a validation set\n",
        "indices = np.arange(data.shape[0])\n",
        "#np.random.shuffle(indices)\n",
        "data = data[indices]\n",
        "#labels = labels[indices]\n"
      ],
      "execution_count": 0,
      "outputs": []
    },
    {
      "metadata": {
        "id": "9WRdzRvbTxlM",
        "colab_type": "code",
        "outputId": "0c8cf517-e5c7-441b-d303-aad63c14afa5",
        "colab": {
          "base_uri": "https://localhost:8080/",
          "height": 105
        }
      },
      "cell_type": "code",
      "source": [
        "\n",
        "\n",
        "nb_validation_samples = int(TRAIN_SPLIT * data.shape[0])\n",
        "\n",
        "x_val = data[:-nb_validation_samples]\n",
        "y_val = labels[:-nb_validation_samples]\n",
        "x_train = data[-nb_validation_samples:]\n",
        "y_train = labels[-nb_validation_samples:]\n",
        "\n",
        "\n",
        "print(nb_validation_samples)\n",
        "print(len(x_train))\n",
        "print(len(y_train))\n",
        "\n",
        "print(len(x_val))\n",
        "print(len(y_val))"
      ],
      "execution_count": 0,
      "outputs": [
        {
          "output_type": "stream",
          "text": [
            "16505\n",
            "16505\n",
            "16505\n",
            "4127\n",
            "4127\n"
          ],
          "name": "stdout"
        }
      ]
    },
    {
      "metadata": {
        "id": "zzC8dY4Uf2vl",
        "colab_type": "code",
        "colab": {}
      },
      "cell_type": "code",
      "source": [
        "encoder = LabelBinarizer()\n",
        "encoder.fit(y_train)\n",
        "y_train = encoder.transform(y_train)\n",
        "y_val = encoder.transform(y_val)"
      ],
      "execution_count": 0,
      "outputs": []
    },
    {
      "metadata": {
        "id": "aAexM5pmT-IU",
        "colab_type": "code",
        "outputId": "334ead0b-8b6f-4083-da49-e32dc17dde3a",
        "colab": {
          "base_uri": "https://localhost:8080/",
          "height": 240
        }
      },
      "cell_type": "code",
      "source": [
        "# Get Pre-trained Embeddings\n",
        "\n",
        "!wget https://dl.fbaipublicfiles.com/fasttext/vectors-crawl/cc.en.300.vec.gz"
      ],
      "execution_count": 0,
      "outputs": [
        {
          "output_type": "stream",
          "text": [
            "--2019-02-20 02:11:29--  https://dl.fbaipublicfiles.com/fasttext/vectors-crawl/cc.en.300.vec.gz\n",
            "Resolving dl.fbaipublicfiles.com (dl.fbaipublicfiles.com)... 104.20.6.166, 104.20.22.166, 2606:4700:10::6814:16a6, ...\n",
            "Connecting to dl.fbaipublicfiles.com (dl.fbaipublicfiles.com)|104.20.6.166|:443... connected.\n",
            "HTTP request sent, awaiting response... 200 OK\n",
            "Length: 1325960915 (1.2G) [binary/octet-stream]\n",
            "Saving to: ‘cc.en.300.vec.gz’\n",
            "\n",
            "cc.en.300.vec.gz    100%[===================>]   1.23G  24.8MB/s    in 56s     \n",
            "\n",
            "2019-02-20 02:12:25 (22.7 MB/s) - ‘cc.en.300.vec.gz’ saved [1325960915/1325960915]\n",
            "\n"
          ],
          "name": "stdout"
        }
      ]
    },
    {
      "metadata": {
        "id": "OQ5aASacEhdh",
        "colab_type": "code",
        "outputId": "2521d729-11fe-4b7a-a090-01d2f046acfa",
        "colab": {
          "base_uri": "https://localhost:8080/",
          "height": 163
        }
      },
      "cell_type": "code",
      "source": [
        "!pip install patool"
      ],
      "execution_count": 0,
      "outputs": [
        {
          "output_type": "stream",
          "text": [
            "Collecting patool\n",
            "\u001b[?25l  Downloading https://files.pythonhosted.org/packages/43/94/52243ddff508780dd2d8110964320ab4851134a55ab102285b46e740f76a/patool-1.12-py2.py3-none-any.whl (77kB)\n",
            "\u001b[K    100% |████████████████████████████████| 81kB 4.8MB/s \n",
            "\u001b[?25hInstalling collected packages: patool\n",
            "Successfully installed patool-1.12\n"
          ],
          "name": "stdout"
        }
      ]
    },
    {
      "metadata": {
        "id": "zbH1yv5rEav_",
        "colab_type": "code",
        "outputId": "9b3c3f39-b685-4356-f4f1-89ad3895726b",
        "colab": {
          "base_uri": "https://localhost:8080/",
          "height": 87
        }
      },
      "cell_type": "code",
      "source": [
        "import patoolib\n",
        "\n",
        "path_to_zip_file = 'cc.en.300.vec.gz'\n",
        "directory_to_extract_to = os.getcwd()  \n",
        "patoolib.extract_archive(path_to_zip_file,outdir = directory_to_extract_to )"
      ],
      "execution_count": 0,
      "outputs": [
        {
          "output_type": "stream",
          "text": [
            "patool: Extracting cc.en.300.vec.gz ...\n",
            "patool: running /usr/bin/7z e -o/content -- cc.en.300.vec.gz\n",
            "patool: ... cc.en.300.vec.gz extracted to `/content'.\n"
          ],
          "name": "stdout"
        },
        {
          "output_type": "execute_result",
          "data": {
            "text/plain": [
              "'/content'"
            ]
          },
          "metadata": {
            "tags": []
          },
          "execution_count": 21
        }
      ]
    },
    {
      "metadata": {
        "id": "ogmwkrpkV4if",
        "colab_type": "code",
        "outputId": "5833690c-9a56-499c-cfd3-f6da83c08f5a",
        "colab": {
          "base_uri": "https://localhost:8080/",
          "height": 42
        }
      },
      "cell_type": "code",
      "source": [
        "embeddings_index = {}\n",
        "f = open('cc.en.300.vec')\n",
        "for line in f:\n",
        "    values = line.split()\n",
        "    word = values[0]\n",
        "    coefs = np.asarray(values[1:], dtype='float32')\n",
        "    embeddings_index[word] = coefs\n",
        "f.close()\n",
        "\n",
        "print('Found %s word vectors.' % len(embeddings_index))"
      ],
      "execution_count": 0,
      "outputs": [
        {
          "output_type": "stream",
          "text": [
            "Found 2000000 word vectors.\n"
          ],
          "name": "stdout"
        }
      ]
    },
    {
      "metadata": {
        "id": "_0DvjSvWWPWl",
        "colab_type": "code",
        "colab": {}
      },
      "cell_type": "code",
      "source": [
        "embedding_matrix = np.zeros((len(word_index) + 1, EMBED_SIZE))\n",
        "for word, i in word_index.items():\n",
        "    embedding_vector = embeddings_index.get(word)\n",
        "    if embedding_vector is not None:\n",
        "        # words not found in embedding index will be all-zeros.\n",
        "        embedding_matrix[i] = embedding_vector"
      ],
      "execution_count": 0,
      "outputs": []
    },
    {
      "metadata": {
        "id": "WK_Lj9d8WfGI",
        "colab_type": "code",
        "colab": {}
      },
      "cell_type": "code",
      "source": [
        "from keras.layers import Embedding\n",
        "\n",
        "embedding_layer = Embedding(len(word_index) + 1,\n",
        "                            EMBED_SIZE,\n",
        "                            weights=[embedding_matrix],\n",
        "                            input_length=MAXIMUM_LENGTH,\n",
        "                            trainable=False)"
      ],
      "execution_count": 0,
      "outputs": []
    },
    {
      "metadata": {
        "id": "EG9VjLzyXpt3",
        "colab_type": "code",
        "colab": {}
      },
      "cell_type": "code",
      "source": [
        "class GlobalAveragePooling1DMasked(GlobalAveragePooling1D):\n",
        "    def call(self, x, mask=None):\n",
        "        if mask != None:\n",
        "            return K.sum(x, axis=1) / K.sum(mask, axis=1)\n",
        "        else:\n",
        "            return super().call(x)"
      ],
      "execution_count": 0,
      "outputs": []
    },
    {
      "metadata": {
        "id": "Fd2dGgGXXOZl",
        "colab_type": "code",
        "outputId": "6c91b3f4-5313-4f15-a201-a17f6d423d4e",
        "colab": {
          "base_uri": "https://localhost:8080/",
          "height": 356
        }
      },
      "cell_type": "code",
      "source": [
        "# Model with Embedding Layer\n",
        "model = Sequential()\n",
        "\n",
        "#We change our first layer in model1 to an Embedding layer\n",
        "model.add(keras.layers.Embedding(VOCAB_SIZE,16))\n",
        "\n",
        "\n",
        "#The second layer is to compute average on all word vectors \n",
        "model.add(GlobalAveragePooling1DMasked())\n",
        "\n",
        "\n",
        "\n",
        "#The output vector is piped through a fully-connected layer\n",
        "model.add(keras.layers.Dense(16, activation=K.relu))\n",
        "\n",
        "\n",
        "\n",
        "#The last layer is connected with a single output node with the sigmoid activation function\n",
        "model.add(keras.layers.Dense(3, activation=K.sigmoid))\n",
        "\n",
        "\n",
        "model.compile(optimizer='adam',\n",
        "              loss='categorical_crossentropy',\n",
        "              metrics=['accuracy'])\n",
        "\n",
        "model.summary()"
      ],
      "execution_count": 0,
      "outputs": [
        {
          "output_type": "stream",
          "text": [
            "WARNING:tensorflow:From /usr/local/lib/python3.6/dist-packages/tensorflow/python/framework/op_def_library.py:263: colocate_with (from tensorflow.python.framework.ops) is deprecated and will be removed in a future version.\n",
            "Instructions for updating:\n",
            "Colocations handled automatically by placer.\n",
            "_________________________________________________________________\n",
            "Layer (type)                 Output Shape              Param #   \n",
            "=================================================================\n",
            "embedding_2 (Embedding)      (None, None, 16)          160000    \n",
            "_________________________________________________________________\n",
            "global_average_pooling1d_mas (None, 16)                0         \n",
            "_________________________________________________________________\n",
            "dense_1 (Dense)              (None, 16)                272       \n",
            "_________________________________________________________________\n",
            "dense_2 (Dense)              (None, 3)                 51        \n",
            "=================================================================\n",
            "Total params: 160,323\n",
            "Trainable params: 160,323\n",
            "Non-trainable params: 0\n",
            "_________________________________________________________________\n"
          ],
          "name": "stdout"
        }
      ]
    },
    {
      "metadata": {
        "id": "PbOSqBD7Xy9s",
        "colab_type": "code",
        "outputId": "4086bff7-bb60-4d9e-8f55-4824ef54783b",
        "colab": {
          "base_uri": "https://localhost:8080/",
          "height": 233
        }
      },
      "cell_type": "code",
      "source": [
        "history = model.fit(x_train,\n",
        "                    np.array(y_train),\n",
        "                    epochs=3,\n",
        "                    batch_size=100,\n",
        "                    validation_data=(x_val, np.array(y_val)),\n",
        "                    verbose=1)\n"
      ],
      "execution_count": 0,
      "outputs": [
        {
          "output_type": "stream",
          "text": [
            "WARNING:tensorflow:From /usr/local/lib/python3.6/dist-packages/tensorflow/python/ops/math_ops.py:3066: to_int32 (from tensorflow.python.ops.math_ops) is deprecated and will be removed in a future version.\n",
            "Instructions for updating:\n",
            "Use tf.cast instead.\n",
            "Train on 16505 samples, validate on 4127 samples\n",
            "Epoch 1/3\n",
            "16505/16505 [==============================] - 1s 78us/step - loss: 1.0338 - acc: 0.5057 - val_loss: 1.0029 - val_acc: 0.4650\n",
            "Epoch 2/3\n",
            "16505/16505 [==============================] - 1s 58us/step - loss: 1.0002 - acc: 0.5103 - val_loss: 0.9975 - val_acc: 0.4650\n",
            "Epoch 3/3\n",
            "16505/16505 [==============================] - 1s 57us/step - loss: 0.9968 - acc: 0.5103 - val_loss: 0.9965 - val_acc: 0.4650\n"
          ],
          "name": "stdout"
        }
      ]
    },
    {
      "metadata": {
        "id": "cWiREfHqvr73",
        "colab_type": "code",
        "outputId": "b46af846-0edb-40db-cd4e-f0486c2a1c54",
        "colab": {
          "base_uri": "https://localhost:8080/",
          "height": 379
        }
      },
      "cell_type": "code",
      "source": [
        "import matplotlib.pyplot as plt\n",
        "\n",
        "history_dict = history.history\n",
        "\n",
        "acc = history_dict['acc']\n",
        "val_acc = history_dict['val_acc']\n",
        "loss = history_dict['loss']\n",
        "val_loss = history_dict['val_loss']\n",
        "\n",
        "epochs = range(1, len(acc) + 1)\n",
        "\n",
        "plt.plot(epochs, acc, 'bo', label='Training acc')\n",
        "plt.plot(epochs, val_acc, 'b', label='Validation acc')\n",
        "plt.title('Training and validation accuracy')\n",
        "plt.xlabel('Epochs')\n",
        "plt.ylabel('Accuracy')\n",
        "plt.legend()\n",
        "\n",
        "plt.show()"
      ],
      "execution_count": 0,
      "outputs": [
        {
          "output_type": "display_data",
          "data": {
            "image/png": "[encoded data removed]",
            "text/plain": [
              "<Figure size 576x396 with 1 Axes>"
            ]
          },
          "metadata": {
            "tags": []
          }
        }
      ]
    },
    {
      "metadata": {
        "id": "nWWHGRJ_YAt8",
        "colab_type": "code",
        "outputId": "0345a037-07ba-49bb-80fe-976e3c2b320a",
        "colab": {
          "base_uri": "https://localhost:8080/",
          "height": 210
        }
      },
      "cell_type": "code",
      "source": [
        "#print(x_train[0])\n",
        "#print(y_train[0])\n",
        "print(x_val[0])\n",
        "print(y_val[0])"
      ],
      "execution_count": 0,
      "outputs": [
        {
          "output_type": "stream",
          "text": [
            "[   0    0    0    0    0    0    0    0    0    0    0    0    0    0\n",
            "    0    0    0    0    0    0    0    0    0    0    0    0    0    0\n",
            "    0    0    0    0    0    0    0    0    0    0    0    0    0    0\n",
            "    0    0    0    0    0    0    0    0    0    0    0    0    0    0\n",
            "    0    0    0    0    0    0    0    0    0    0    0    0    0    0\n",
            "    0    0    0    0    0    0    0    0    0    0    0    0    0    0\n",
            "    0    0    0    0    0    0    0    0    0    0    0    0    0    0\n",
            "    0    0    0    0    0    0    0    0    0    0    0    0    0    0\n",
            "    0    0    0    0    0    0    0    0    0  444  451 1982    9   60\n",
            "  319 1982 5376    2    1   27  172]\n",
            "[0 1 0]\n"
          ],
          "name": "stdout"
        }
      ]
    },
    {
      "metadata": {
        "id": "PHjs_Oat6Jl5",
        "colab_type": "code",
        "colab": {}
      },
      "cell_type": "code",
      "source": [
        "model_lstm = Sequential() \n",
        "\n",
        "model_lstm.add(embedding_layer)\n",
        "\n",
        "#model_lstm.add(GlobalAveragePooling1DMasked())\n",
        "\n",
        "model_lstm.add(LSTM(100)) \n",
        "model_lstm.add(Dense(3, activation='sigmoid')) \n",
        "model_lstm.compile(loss='categorical_crossentropy',optimizer='adam', metrics=['accuracy']) \n"
      ],
      "execution_count": 0,
      "outputs": []
    },
    {
      "metadata": {
        "id": "g94zY33X957a",
        "colab_type": "code",
        "outputId": "a79f9580-8c9e-449f-d4be-30d624d0b47e",
        "colab": {
          "base_uri": "https://localhost:8080/",
          "height": 262
        }
      },
      "cell_type": "code",
      "source": [
        "print(model_lstm.summary())"
      ],
      "execution_count": 0,
      "outputs": [
        {
          "output_type": "stream",
          "text": [
            "_________________________________________________________________\n",
            "Layer (type)                 Output Shape              Param #   \n",
            "=================================================================\n",
            "embedding_1 (Embedding)      (None, 144, 300)          11108700  \n",
            "_________________________________________________________________\n",
            "lstm_1 (LSTM)                (None, 100)               160400    \n",
            "_________________________________________________________________\n",
            "dense_3 (Dense)              (None, 3)                 303       \n",
            "=================================================================\n",
            "Total params: 11,269,403\n",
            "Trainable params: 160,703\n",
            "Non-trainable params: 11,108,700\n",
            "_________________________________________________________________\n",
            "None\n"
          ],
          "name": "stdout"
        }
      ]
    },
    {
      "metadata": {
        "id": "QbyCWZN6-VIb",
        "colab_type": "code",
        "outputId": "5da70354-d4e5-4055-e02d-2e53fd8f6ecf",
        "colab": {
          "base_uri": "https://localhost:8080/",
          "height": 140
        }
      },
      "cell_type": "code",
      "source": [
        "history_lstm = model_lstm.fit(x_train,\n",
        "                    y_train,\n",
        "                    epochs=3,\n",
        "                    batch_size=100,\n",
        "                    validation_data=(x_val, y_val),\n",
        "                    verbose=1)"
      ],
      "execution_count": 0,
      "outputs": [
        {
          "output_type": "stream",
          "text": [
            "Train on 16505 samples, validate on 4127 samples\n",
            "Epoch 1/3\n",
            "16505/16505 [==============================] - 91s 5ms/step - loss: 0.9245 - acc: 0.5446 - val_loss: 0.8141 - val_acc: 0.6264\n",
            "Epoch 2/3\n",
            "16505/16505 [==============================] - 91s 5ms/step - loss: 0.8416 - acc: 0.5998 - val_loss: 0.7757 - val_acc: 0.6394\n",
            "Epoch 3/3\n",
            "16505/16505 [==============================] - 94s 6ms/step - loss: 0.7961 - acc: 0.6248 - val_loss: 0.7856 - val_acc: 0.6261\n"
          ],
          "name": "stdout"
        }
      ]
    },
    {
      "metadata": {
        "id": "JEwoNUcOvxuW",
        "colab_type": "code",
        "outputId": "f5e42886-cff3-4cf8-ddce-58ce8ac922fd",
        "colab": {
          "base_uri": "https://localhost:8080/",
          "height": 376
        }
      },
      "cell_type": "code",
      "source": [
        "import matplotlib.pyplot as plt\n",
        "\n",
        "history_dict_lstm = history_lstm.history\n",
        "\n",
        "acc = history_dict_lstm['acc']\n",
        "val_acc = history_dict_lstm['val_acc']\n",
        "loss = history_dict_lstm['loss']\n",
        "val_loss = history_dict_lstm['val_loss']\n",
        "\n",
        "epochs = range(1, len(acc) + 1)\n",
        "\n",
        "plt.plot(epochs, acc, 'bo', label='Training acc')\n",
        "plt.plot(epochs, val_acc, 'b', label='Validation acc')\n",
        "plt.title('Training and validation accuracy')\n",
        "plt.xlabel('Epochs')\n",
        "plt.ylabel('Accuracy')\n",
        "plt.legend()\n",
        "\n",
        "plt.show()"
      ],
      "execution_count": 0,
      "outputs": [
        {
          "output_type": "display_data",
          "data": {
            "image/png": "[encoded data removed]",
            "text/plain": [
              "<Figure size 576x396 with 1 Axes>"
            ]
          },
          "metadata": {
            "tags": []
          }
        }
      ]
    },
    {
      "metadata": {
        "id": "3RXYrCretYsy",
        "colab_type": "code",
        "outputId": "a4750282-ba57-4ba5-bcd6-0fcb9522897e",
        "colab": {
          "base_uri": "https://localhost:8080/",
          "height": 391
        }
      },
      "cell_type": "code",
      "source": [
        "model_lstm2 = Sequential() \n",
        "\n",
        "model_lstm2.add(embedding_layer)\n",
        "model_lstm2.add(Dropout(0.5))\n",
        "#model_lstm.add(GlobalAveragePooling1DMasked())\n",
        "\n",
        "model_lstm2.add(LSTM(100)) \n",
        "model_lstm2.add(Dropout(0.5))\n",
        "model_lstm2.add(Dense(3, activation='sigmoid')) \n",
        "model_lstm2.compile(loss='categorical_crossentropy',optimizer='adam', metrics=['accuracy']) \n",
        "\n",
        "model_lstm2.summary()"
      ],
      "execution_count": 0,
      "outputs": [
        {
          "output_type": "stream",
          "text": [
            "WARNING:tensorflow:From /usr/local/lib/python3.6/dist-packages/keras/backend/tensorflow_backend.py:3445: calling dropout (from tensorflow.python.ops.nn_ops) with keep_prob is deprecated and will be removed in a future version.\n",
            "Instructions for updating:\n",
            "Please use `rate` instead of `keep_prob`. Rate should be set to `rate = 1 - keep_prob`.\n",
            "_________________________________________________________________\n",
            "Layer (type)                 Output Shape              Param #   \n",
            "=================================================================\n",
            "embedding_1 (Embedding)      (None, 144, 300)          11108700  \n",
            "_________________________________________________________________\n",
            "dropout_1 (Dropout)          (None, 144, 300)          0         \n",
            "_________________________________________________________________\n",
            "lstm_3 (LSTM)                (None, 100)               160400    \n",
            "_________________________________________________________________\n",
            "dropout_2 (Dropout)          (None, 100)               0         \n",
            "_________________________________________________________________\n",
            "dense_5 (Dense)              (None, 3)                 303       \n",
            "=================================================================\n",
            "Total params: 11,269,403\n",
            "Trainable params: 160,703\n",
            "Non-trainable params: 11,108,700\n",
            "_________________________________________________________________\n"
          ],
          "name": "stdout"
        }
      ]
    },
    {
      "metadata": {
        "id": "62TbopMRuY22",
        "colab_type": "code",
        "outputId": "cf2a5b93-8fed-4e73-c9a4-c7d920d1eb7d",
        "colab": {
          "base_uri": "https://localhost:8080/",
          "height": 140
        }
      },
      "cell_type": "code",
      "source": [
        "history_lstm2 = model_lstm2.fit(x_train,\n",
        "                    y_train,\n",
        "                    epochs=3,\n",
        "                    batch_size=100,\n",
        "                    validation_data=(x_val, y_val),\n",
        "                    verbose=1)"
      ],
      "execution_count": 0,
      "outputs": [
        {
          "output_type": "stream",
          "text": [
            "Train on 16505 samples, validate on 4127 samples\n",
            "Epoch 1/3\n",
            "16505/16505 [==============================] - 97s 6ms/step - loss: 0.9653 - acc: 0.5263 - val_loss: 0.8445 - val_acc: 0.6046\n",
            "Epoch 2/3\n",
            "16505/16505 [==============================] - 96s 6ms/step - loss: 0.8893 - acc: 0.5718 - val_loss: 0.8075 - val_acc: 0.6380\n",
            "Epoch 3/3\n",
            "16505/16505 [==============================] - 97s 6ms/step - loss: 0.8636 - acc: 0.5854 - val_loss: 0.7980 - val_acc: 0.6487\n"
          ],
          "name": "stdout"
        }
      ]
    },
    {
      "metadata": {
        "id": "h7UFX0TQv3Yg",
        "colab_type": "code",
        "outputId": "d9bfdf00-d18c-4d33-b681-ec8ae7c38667",
        "colab": {
          "base_uri": "https://localhost:8080/",
          "height": 376
        }
      },
      "cell_type": "code",
      "source": [
        "import matplotlib.pyplot as plt\n",
        "\n",
        "history_dict_lstm2 = history_lstm2.history\n",
        "\n",
        "acc = history_dict_lstm2['acc']\n",
        "val_acc = history_dict_lstm2['val_acc']\n",
        "loss = history_dict_lstm2['loss']\n",
        "val_loss = history_dict_lstm2['val_loss']\n",
        "\n",
        "epochs = range(1, len(acc) + 1)\n",
        "\n",
        "plt.plot(epochs, acc, 'bo', label='Training acc')\n",
        "plt.plot(epochs, val_acc, 'b', label='Validation acc')\n",
        "plt.title('Training and validation accuracy')\n",
        "plt.xlabel('Epochs')\n",
        "plt.ylabel('Accuracy')\n",
        "plt.legend()\n",
        "\n",
        "plt.show()"
      ],
      "execution_count": 0,
      "outputs": [
        {
          "output_type": "display_data",
          "data": {
            "image/png": "[encoded data removed]",
            "text/plain": [
              "<Figure size 576x396 with 1 Axes>"
            ]
          },
          "metadata": {
            "tags": []
          }
        }
      ]
    },
    {
      "metadata": {
        "id": "vq_OClC8KOho",
        "colab_type": "code",
        "outputId": "9c7396c1-e25b-4478-b6b4-ca15ce017f30",
        "colab": {
          "base_uri": "https://localhost:8080/",
          "height": 315
        }
      },
      "cell_type": "code",
      "source": [
        "from keras import optimizers\n",
        "ad= optimizers.adam(lr=0.01)\n",
        "\n",
        "model_lstm3 = Sequential() \n",
        "\n",
        "model_lstm3.add(embedding_layer)\n",
        "model_lstm3.add(Dropout(0.5))\n",
        "#model_lstm.add(GlobalAveragePooling1DMasked())\n",
        "\n",
        "model_lstm3.add(LSTM(100)) \n",
        "model_lstm3.add(Dropout(0.5))\n",
        "model_lstm3.add(Dense(3, activation='sigmoid')) \n",
        "\n",
        "model_lstm3.compile(loss='categorical_crossentropy',optimizer=ad,  metrics=['accuracy']) \n",
        "\n",
        "model_lstm3.summary()"
      ],
      "execution_count": 0,
      "outputs": [
        {
          "output_type": "stream",
          "text": [
            "_________________________________________________________________\n",
            "Layer (type)                 Output Shape              Param #   \n",
            "=================================================================\n",
            "embedding_1 (Embedding)      (None, 144, 300)          11108700  \n",
            "_________________________________________________________________\n",
            "dropout_7 (Dropout)          (None, 144, 300)          0         \n",
            "_________________________________________________________________\n",
            "lstm_6 (LSTM)                (None, 100)               160400    \n",
            "_________________________________________________________________\n",
            "dropout_8 (Dropout)          (None, 100)               0         \n",
            "_________________________________________________________________\n",
            "dense_8 (Dense)              (None, 3)                 303       \n",
            "=================================================================\n",
            "Total params: 11,269,403\n",
            "Trainable params: 160,703\n",
            "Non-trainable params: 11,108,700\n",
            "_________________________________________________________________\n"
          ],
          "name": "stdout"
        }
      ]
    },
    {
      "metadata": {
        "id": "gDoKf37lKwZO",
        "colab_type": "code",
        "outputId": "268631f7-5931-4500-efd8-75a6321c8638",
        "colab": {
          "base_uri": "https://localhost:8080/",
          "height": 140
        }
      },
      "cell_type": "code",
      "source": [
        "history_lstm3 = model_lstm3.fit(x_train,\n",
        "                    y_train,\n",
        "                    epochs=3,\n",
        "                    batch_size=100,\n",
        "                    validation_data=(x_val, y_val),\n",
        "                    verbose=1)"
      ],
      "execution_count": 0,
      "outputs": [
        {
          "output_type": "stream",
          "text": [
            "Train on 16505 samples, validate on 4127 samples\n",
            "Epoch 1/3\n",
            "16505/16505 [==============================] - 96s 6ms/step - loss: 0.9584 - acc: 0.5221 - val_loss: 0.9277 - val_acc: 0.5575\n",
            "Epoch 2/3\n",
            "16505/16505 [==============================] - 95s 6ms/step - loss: 0.8633 - acc: 0.5867 - val_loss: 0.8067 - val_acc: 0.6249\n",
            "Epoch 3/3\n",
            "16505/16505 [==============================] - 95s 6ms/step - loss: 0.8043 - acc: 0.6238 - val_loss: 0.7134 - val_acc: 0.6806\n"
          ],
          "name": "stdout"
        }
      ]
    },
    {
      "metadata": {
        "id": "N5KCihOjM89T",
        "colab_type": "code",
        "outputId": "be8bff11-f165-40b7-8a31-17e0f1c2bbdc",
        "colab": {
          "base_uri": "https://localhost:8080/",
          "height": 376
        }
      },
      "cell_type": "code",
      "source": [
        "import matplotlib.pyplot as plt\n",
        "\n",
        "history_dict_lstm3 = history_lstm3.history\n",
        "\n",
        "acc = history_dict_lstm3['acc']\n",
        "val_acc = history_dict_lstm3['val_acc']\n",
        "loss = history_dict_lstm3['loss']\n",
        "val_loss = history_dict_lstm3['val_loss']\n",
        "\n",
        "epochs = range(1, len(acc) + 1)\n",
        "\n",
        "plt.plot(epochs, acc, 'bo', label='Training acc')\n",
        "plt.plot(epochs, val_acc, 'b', label='Validation acc')\n",
        "plt.title('Training and validation accuracy')\n",
        "plt.xlabel('Epochs')\n",
        "plt.ylabel('Accuracy')\n",
        "plt.legend()\n",
        "\n",
        "plt.show()"
      ],
      "execution_count": 0,
      "outputs": [
        {
          "output_type": "display_data",
          "data": {
            "image/png": "[encoded data removed]",
            "text/plain": [
              "<Figure size 576x396 with 1 Axes>"
            ]
          },
          "metadata": {
            "tags": []
          }
        }
      ]
    },
    {
      "metadata": {
        "id": "-iDI5t44NU_P",
        "colab_type": "code",
        "outputId": "388ebdc6-ab7c-4042-a221-216563718065",
        "colab": {
          "base_uri": "https://localhost:8080/",
          "height": 315
        }
      },
      "cell_type": "code",
      "source": [
        "from keras import optimizers\n",
        "ad= optimizers.adam(lr=0.01)\n",
        "\n",
        "model_lstm4 = Sequential() \n",
        "\n",
        "model_lstm4.add(embedding_layer)\n",
        "model_lstm4.add(Dropout(0.5))\n",
        "#model_lstm.add(GlobalAveragePooling1DMasked())\n",
        "\n",
        "model_lstm4.add(LSTM(100)) \n",
        "model_lstm4.add(Dropout(0.5))\n",
        "model_lstm4.add(Dense(3, activation='sigmoid')) \n",
        "\n",
        "model_lstm4.compile(loss='categorical_crossentropy',optimizer=ad,  metrics=['accuracy']) \n",
        "\n",
        "model_lstm4.summary()"
      ],
      "execution_count": 0,
      "outputs": [
        {
          "output_type": "stream",
          "text": [
            "_________________________________________________________________\n",
            "Layer (type)                 Output Shape              Param #   \n",
            "=================================================================\n",
            "embedding_1 (Embedding)      (None, 144, 300)          11108700  \n",
            "_________________________________________________________________\n",
            "dropout_11 (Dropout)         (None, 144, 300)          0         \n",
            "_________________________________________________________________\n",
            "lstm_8 (LSTM)                (None, 100)               160400    \n",
            "_________________________________________________________________\n",
            "dropout_12 (Dropout)         (None, 100)               0         \n",
            "_________________________________________________________________\n",
            "dense_9 (Dense)              (None, 3)                 303       \n",
            "=================================================================\n",
            "Total params: 11,269,403\n",
            "Trainable params: 160,703\n",
            "Non-trainable params: 11,108,700\n",
            "_________________________________________________________________\n"
          ],
          "name": "stdout"
        }
      ]
    },
    {
      "metadata": {
        "id": "k4ymK0u3NrP5",
        "colab_type": "code",
        "outputId": "bc8082fc-3efd-4de8-a187-28d592b5d2b3",
        "colab": {
          "base_uri": "https://localhost:8080/",
          "height": 245
        }
      },
      "cell_type": "code",
      "source": [
        "history_lstm4 = model_lstm4.fit(x_train,\n",
        "                    y_train,\n",
        "                    epochs=6,\n",
        "                    batch_size=100,\n",
        "                    validation_data=(x_val, y_val),\n",
        "                    verbose=1)"
      ],
      "execution_count": 0,
      "outputs": [
        {
          "output_type": "stream",
          "text": [
            "Train on 16505 samples, validate on 4127 samples\n",
            "Epoch 1/6\n",
            "16505/16505 [==============================] - 99s 6ms/step - loss: 0.9444 - acc: 0.5387 - val_loss: 0.8327 - val_acc: 0.6147\n",
            "Epoch 2/6\n",
            "16505/16505 [==============================] - 95s 6ms/step - loss: 0.8402 - acc: 0.6005 - val_loss: 0.7461 - val_acc: 0.6542\n",
            "Epoch 3/6\n",
            "16505/16505 [==============================] - 95s 6ms/step - loss: 0.7948 - acc: 0.6323 - val_loss: 0.7214 - val_acc: 0.6729\n",
            "Epoch 4/6\n",
            "16505/16505 [==============================] - 96s 6ms/step - loss: 0.7735 - acc: 0.6476 - val_loss: 0.7087 - val_acc: 0.6850\n",
            "Epoch 5/6\n",
            "16505/16505 [==============================] - 95s 6ms/step - loss: 0.7582 - acc: 0.6556 - val_loss: 0.6840 - val_acc: 0.6913\n",
            "Epoch 6/6\n",
            "16505/16505 [==============================] - 95s 6ms/step - loss: 0.7303 - acc: 0.6648 - val_loss: 0.6928 - val_acc: 0.6826\n"
          ],
          "name": "stdout"
        }
      ]
    },
    {
      "metadata": {
        "id": "hW-xAfwkQTdl",
        "colab_type": "code",
        "outputId": "19f90d92-8cfe-43cb-9c74-1ea6d9745692",
        "colab": {
          "base_uri": "https://localhost:8080/",
          "height": 376
        }
      },
      "cell_type": "code",
      "source": [
        "import matplotlib.pyplot as plt\n",
        "\n",
        "history_dict_lstm4 = history_lstm4.history\n",
        "\n",
        "acc = history_dict_lstm4['acc']\n",
        "val_acc = history_dict_lstm4['val_acc']\n",
        "loss = history_dict_lstm4['loss']\n",
        "val_loss = history_dict_lstm4['val_loss']\n",
        "\n",
        "epochs = range(1, len(acc) + 1)\n",
        "\n",
        "plt.plot(epochs, acc, 'bo', label='Training acc')\n",
        "plt.plot(epochs, val_acc, 'b', label='Validation acc')\n",
        "plt.title('Training and validation accuracy')\n",
        "plt.xlabel('Epochs')\n",
        "plt.ylabel('Accuracy')\n",
        "plt.legend()\n",
        "\n",
        "plt.show()"
      ],
      "execution_count": 0,
      "outputs": [
        {
          "output_type": "display_data",
          "data": {
            "image/png": "[encoded data removed]",
            "text/plain": [
              "<Figure size 576x396 with 1 Axes>"
            ]
          },
          "metadata": {
            "tags": []
          }
        }
      ]
    },
    {
      "metadata": {
        "id": "5WnaldsdQ0-I",
        "colab_type": "code",
        "outputId": "a446824f-9775-4567-ace8-34e20e72a8f6",
        "colab": {
          "base_uri": "https://localhost:8080/",
          "height": 315
        }
      },
      "cell_type": "code",
      "source": [
        "from keras import optimizers\n",
        "from keras.layers import Activation\n",
        "ad= optimizers.adam(lr=0.01)\n",
        "\n",
        "\n",
        "model_lstm6 = Sequential() \n",
        "\n",
        "model_lstm6.add(embedding_layer)\n",
        "model_lstm6.add(Dropout(0.5))\n",
        "#model_lstm.add(GlobalAveragePooling1DMasked())\n",
        "\n",
        "model_lstm6.add(LSTM(100,activation='tanh')) \n",
        "model_lstm6.add(Dropout(0.5))\n",
        "model_lstm6.add(Dense(3, activation='sigmoid')) \n",
        "\n",
        "model_lstm6.compile(loss='categorical_crossentropy',optimizer=ad,  metrics=['accuracy']) \n",
        "\n",
        "model_lstm6.summary()"
      ],
      "execution_count": 0,
      "outputs": [
        {
          "output_type": "stream",
          "text": [
            "_________________________________________________________________\n",
            "Layer (type)                 Output Shape              Param #   \n",
            "=================================================================\n",
            "embedding_1 (Embedding)      (None, 144, 300)          11108700  \n",
            "_________________________________________________________________\n",
            "dropout_19 (Dropout)         (None, 144, 300)          0         \n",
            "_________________________________________________________________\n",
            "lstm_12 (LSTM)               (None, 100)               160400    \n",
            "_________________________________________________________________\n",
            "dropout_20 (Dropout)         (None, 100)               0         \n",
            "_________________________________________________________________\n",
            "dense_13 (Dense)             (None, 3)                 303       \n",
            "=================================================================\n",
            "Total params: 11,269,403\n",
            "Trainable params: 160,703\n",
            "Non-trainable params: 11,108,700\n",
            "_________________________________________________________________\n"
          ],
          "name": "stdout"
        }
      ]
    },
    {
      "metadata": {
        "id": "vHGP7r7BR3Vx",
        "colab_type": "code",
        "outputId": "4ba81e0e-4691-4c66-d986-50221629d0c4",
        "colab": {
          "base_uri": "https://localhost:8080/",
          "height": 245
        }
      },
      "cell_type": "code",
      "source": [
        "history_lstm6 = model_lstm6.fit(x_train,\n",
        "                    y_train,\n",
        "                    epochs=6,\n",
        "                    batch_size=100,\n",
        "                    validation_data=(x_val, y_val),\n",
        "                    verbose=1)"
      ],
      "execution_count": 0,
      "outputs": [
        {
          "output_type": "stream",
          "text": [
            "Train on 16505 samples, validate on 4127 samples\n",
            "Epoch 1/6\n",
            "16505/16505 [==============================] - 96s 6ms/step - loss: 0.9347 - acc: 0.5361 - val_loss: 0.7655 - val_acc: 0.6504\n",
            "Epoch 2/6\n",
            "16505/16505 [==============================] - 95s 6ms/step - loss: 0.8400 - acc: 0.6068 - val_loss: 0.7334 - val_acc: 0.6731\n",
            "Epoch 3/6\n",
            "16505/16505 [==============================] - 94s 6ms/step - loss: 0.7891 - acc: 0.6353 - val_loss: 0.7347 - val_acc: 0.6729\n",
            "Epoch 4/6\n",
            "16505/16505 [==============================] - 94s 6ms/step - loss: 0.7642 - acc: 0.6499 - val_loss: 0.6865 - val_acc: 0.6964\n",
            "Epoch 5/6\n",
            "16505/16505 [==============================] - 94s 6ms/step - loss: 0.7528 - acc: 0.6582 - val_loss: 0.6780 - val_acc: 0.6993\n",
            "Epoch 6/6\n",
            "16505/16505 [==============================] - 94s 6ms/step - loss: 0.7296 - acc: 0.6710 - val_loss: 0.6875 - val_acc: 0.6942\n"
          ],
          "name": "stdout"
        }
      ]
    },
    {
      "metadata": {
        "id": "VN7pziTCVkaE",
        "colab_type": "code",
        "outputId": "7b5beab3-29fd-4503-d038-c5e7c4ac7b77",
        "colab": {
          "base_uri": "https://localhost:8080/",
          "height": 376
        }
      },
      "cell_type": "code",
      "source": [
        "import matplotlib.pyplot as plt\n",
        "\n",
        "history_dict_lstm6 = history_lstm6.history\n",
        "\n",
        "acc = history_dict_lstm6['acc']\n",
        "val_acc = history_dict_lstm6['val_acc']\n",
        "loss = history_dict_lstm6['loss']\n",
        "val_loss = history_dict_lstm6['val_loss']\n",
        "\n",
        "epochs = range(1, len(acc) + 1)\n",
        "\n",
        "plt.plot(epochs, acc, 'bo', label='Training acc')\n",
        "plt.plot(epochs, val_acc, 'b', label='Validation acc')\n",
        "plt.title('Training and validation accuracy')\n",
        "plt.xlabel('Epochs')\n",
        "plt.ylabel('Accuracy')\n",
        "plt.legend()\n",
        "\n",
        "plt.show()"
      ],
      "execution_count": 0,
      "outputs": [
        {
          "output_type": "display_data",
          "data": {
            "image/png": "[encoded data removed]",
            "text/plain": [
              "<Figure size 576x396 with 1 Axes>"
            ]
          },
          "metadata": {
            "tags": []
          }
        }
      ]
    },
    {
      "metadata": {
        "id": "NgWrz4BhV_uK",
        "colab_type": "code",
        "outputId": "2b32715d-05e1-4905-990a-9d89cbef536b",
        "colab": {
          "base_uri": "https://localhost:8080/",
          "height": 315
        }
      },
      "cell_type": "code",
      "source": [
        "from keras import optimizers\n",
        "from keras.layers import Activation\n",
        "ad= optimizers.adam(lr=0.01)\n",
        "\n",
        "\n",
        "model_lstm7 = Sequential() \n",
        "\n",
        "model_lstm7.add(embedding_layer)\n",
        "model_lstm7.add(Dropout(0.5))\n",
        "#model_lstm.add(GlobalAveragePooling1DMasked())\n",
        "\n",
        "model_lstm7.add(LSTM(100,activation='tanh')) \n",
        "\n",
        "model_lstm7.add(Dropout(0.5))\n",
        "model_lstm7.add(Dense(3, activation='softmax')) \n",
        "\n",
        "model_lstm7.compile(loss='categorical_crossentropy',optimizer=ad,  metrics=['accuracy']) \n",
        "\n",
        "model_lstm7.summary()"
      ],
      "execution_count": 0,
      "outputs": [
        {
          "output_type": "stream",
          "text": [
            "_________________________________________________________________\n",
            "Layer (type)                 Output Shape              Param #   \n",
            "=================================================================\n",
            "embedding_1 (Embedding)      (None, 144, 300)          11108700  \n",
            "_________________________________________________________________\n",
            "dropout_25 (Dropout)         (None, 144, 300)          0         \n",
            "_________________________________________________________________\n",
            "lstm_16 (LSTM)               (None, 100)               160400    \n",
            "_________________________________________________________________\n",
            "dropout_26 (Dropout)         (None, 100)               0         \n",
            "_________________________________________________________________\n",
            "dense_15 (Dense)             (None, 3)                 303       \n",
            "=================================================================\n",
            "Total params: 11,269,403\n",
            "Trainable params: 160,703\n",
            "Non-trainable params: 11,108,700\n",
            "_________________________________________________________________\n"
          ],
          "name": "stdout"
        }
      ]
    },
    {
      "metadata": {
        "id": "FW3qVW3uWmK4",
        "colab_type": "code",
        "outputId": "91b902db-1e6d-4ae7-cad9-c41290f5536a",
        "colab": {
          "base_uri": "https://localhost:8080/",
          "height": 245
        }
      },
      "cell_type": "code",
      "source": [
        "history_lstm7 = model_lstm7.fit(x_train,\n",
        "                    y_train,\n",
        "                    epochs=6,\n",
        "                    batch_size=100,\n",
        "                    validation_data=(x_val, y_val),\n",
        "                    verbose=1)"
      ],
      "execution_count": 0,
      "outputs": [
        {
          "output_type": "stream",
          "text": [
            "Train on 16505 samples, validate on 4127 samples\n",
            "Epoch 1/6\n",
            "16505/16505 [==============================] - 99s 6ms/step - loss: 0.9234 - acc: 0.5498 - val_loss: 0.7827 - val_acc: 0.6513\n",
            "Epoch 2/6\n",
            "16505/16505 [==============================] - 98s 6ms/step - loss: 0.8365 - acc: 0.6065 - val_loss: 0.7249 - val_acc: 0.6768\n",
            "Epoch 3/6\n",
            "16505/16505 [==============================] - 96s 6ms/step - loss: 0.7933 - acc: 0.6353 - val_loss: 0.7138 - val_acc: 0.6780\n",
            "Epoch 4/6\n",
            "16505/16505 [==============================] - 96s 6ms/step - loss: 0.7747 - acc: 0.6431 - val_loss: 0.7031 - val_acc: 0.6814\n",
            "Epoch 5/6\n",
            "16505/16505 [==============================] - 97s 6ms/step - loss: 0.7568 - acc: 0.6544 - val_loss: 0.6939 - val_acc: 0.6942\n",
            "Epoch 6/6\n",
            "16505/16505 [==============================] - 96s 6ms/step - loss: 0.7330 - acc: 0.6694 - val_loss: 0.7102 - val_acc: 0.6693\n"
          ],
          "name": "stdout"
        }
      ]
    },
    {
      "metadata": {
        "id": "7PHxNWRxZKmF",
        "colab_type": "code",
        "outputId": "cc44dbf9-988f-4e76-997d-524a55304086",
        "colab": {
          "base_uri": "https://localhost:8080/",
          "height": 379
        }
      },
      "cell_type": "code",
      "source": [
        "import matplotlib.pyplot as plt\n",
        "\n",
        "history_dict_lstm7 = history_lstm7.history\n",
        "\n",
        "acc = history_dict_lstm7['acc']\n",
        "val_acc = history_dict_lstm7['val_acc']\n",
        "loss = history_dict_lstm7['loss']\n",
        "val_loss = history_dict_lstm7['val_loss']\n",
        "\n",
        "epochs = range(1, len(acc) + 1)\n",
        "\n",
        "plt.plot(epochs, acc, 'bo', label='Training acc')\n",
        "plt.plot(epochs, val_acc, 'b', label='Validation acc')\n",
        "plt.title('Training and validation accuracy')\n",
        "plt.xlabel('Epochs')\n",
        "plt.ylabel('Accuracy')\n",
        "plt.legend()\n",
        "\n",
        "plt.show()"
      ],
      "execution_count": 0,
      "outputs": [
        {
          "output_type": "display_data",
          "data": {
            "image/png": "[encoded data removed]",
            "text/plain": [
              "<Figure size 576x396 with 1 Axes>"
            ]
          },
          "metadata": {
            "tags": []
          }
        }
      ]
    },
    {
      "metadata": {
        "id": "EjPgjnjMm2Fe",
        "colab_type": "code",
        "outputId": "2e8dccfb-78f4-4663-fbe4-3c4e9b84c3a4",
        "colab": {
          "base_uri": "https://localhost:8080/",
          "height": 443
        }
      },
      "cell_type": "code",
      "source": [
        "model_lstm8 = Sequential() \n",
        "\n",
        "model_lstm8.add(embedding_layer)\n",
        "model_lstm8.add(Dropout(0.3))\n",
        "\n",
        "model_lstm8.add(LSTM(100)) \n",
        "model_lstm8.add(Dropout(0.3))\n",
        "model_lstm8.add(Dense(3, activation='softmax')) \n",
        "model_lstm8.compile(loss='categorical_crossentropy',optimizer='adam', metrics=['accuracy']) \n",
        "\n",
        "model_lstm8.summary()"
      ],
      "execution_count": 0,
      "outputs": [
        {
          "output_type": "stream",
          "text": [
            "WARNING:tensorflow:From /usr/local/lib/python3.6/dist-packages/tensorflow/python/framework/op_def_library.py:263: colocate_with (from tensorflow.python.framework.ops) is deprecated and will be removed in a future version.\n",
            "Instructions for updating:\n",
            "Colocations handled automatically by placer.\n",
            "WARNING:tensorflow:From /usr/local/lib/python3.6/dist-packages/keras/backend/tensorflow_backend.py:3445: calling dropout (from tensorflow.python.ops.nn_ops) with keep_prob is deprecated and will be removed in a future version.\n",
            "Instructions for updating:\n",
            "Please use `rate` instead of `keep_prob`. Rate should be set to `rate = 1 - keep_prob`.\n",
            "_________________________________________________________________\n",
            "Layer (type)                 Output Shape              Param #   \n",
            "=================================================================\n",
            "embedding_1 (Embedding)      (None, 144, 300)          11108700  \n",
            "_________________________________________________________________\n",
            "dropout_1 (Dropout)          (None, 144, 300)          0         \n",
            "_________________________________________________________________\n",
            "lstm_1 (LSTM)                (None, 100)               160400    \n",
            "_________________________________________________________________\n",
            "dropout_2 (Dropout)          (None, 100)               0         \n",
            "_________________________________________________________________\n",
            "dense_1 (Dense)              (None, 3)                 303       \n",
            "=================================================================\n",
            "Total params: 11,269,403\n",
            "Trainable params: 160,703\n",
            "Non-trainable params: 11,108,700\n",
            "_________________________________________________________________\n"
          ],
          "name": "stdout"
        }
      ]
    },
    {
      "metadata": {
        "id": "NBD5tVYjnI09",
        "colab_type": "code",
        "outputId": "a6c41837-a85c-4a41-b30e-5a5ea4662323",
        "colab": {
          "base_uri": "https://localhost:8080/",
          "height": 1003
        }
      },
      "cell_type": "code",
      "source": [
        "history_lstm8 = model_lstm8.fit(x_train,\n",
        "                    y_train,\n",
        "                    epochs=6,\n",
        "                    batch_size=100,\n",
        "                    validation_data=(x_val, y_val),\n",
        "                    verbose=1)"
      ],
      "execution_count": 0,
      "outputs": [
        {
          "output_type": "stream",
          "text": [
            "WARNING:tensorflow:From /usr/local/lib/python3.6/dist-packages/tensorflow/python/ops/math_ops.py:3066: to_int32 (from tensorflow.python.ops.math_ops) is deprecated and will be removed in a future version.\n",
            "Instructions for updating:\n",
            "Use tf.cast instead.\n",
            "Train on 16505 samples, validate on 4127 samples\n",
            "Epoch 1/6\n",
            "16505/16505 [==============================] - 103s 6ms/step - loss: 0.9355 - acc: 0.5400 - val_loss: 0.8966 - val_acc: 0.5580\n",
            "Epoch 2/6\n",
            "16505/16505 [==============================] - 103s 6ms/step - loss: 0.8494 - acc: 0.5965 - val_loss: 0.7803 - val_acc: 0.6474\n",
            "Epoch 3/6\n",
            "16505/16505 [==============================] - 102s 6ms/step - loss: 0.8238 - acc: 0.6099 - val_loss: 0.7534 - val_acc: 0.6639\n",
            "Epoch 4/6\n",
            "16505/16505 [==============================] - 103s 6ms/step - loss: 0.8073 - acc: 0.6213 - val_loss: 0.7356 - val_acc: 0.6719\n",
            "Epoch 5/6\n",
            "16505/16505 [==============================] - 102s 6ms/step - loss: 0.7875 - acc: 0.6335 - val_loss: 0.7279 - val_acc: 0.6668\n",
            "Epoch 6/6\n",
            "16505/16505 [==============================] - 102s 6ms/step - loss: 0.7817 - acc: 0.6404 - val_loss: 0.7323 - val_acc: 0.6702\n"
          ],
          "name": "stdout"
        }
      ]
    },
    {
      "metadata": {
        "id": "_qPJJkGJnbDR",
        "colab_type": "code",
        "outputId": "229b033b-295d-4cf0-8c57-ec615c235e1f",
        "colab": {
          "base_uri": "https://localhost:8080/",
          "height": 52
        }
      },
      "cell_type": "code",
      "source": [
        "results_lstm8 = model_lstm8.evaluate(x_val,y_val)\n",
        "print('Test Loss: ', results_lstm8[0], 'Test Accuracy: ',results_lstm8[1])"
      ],
      "execution_count": 0,
      "outputs": [
        {
          "output_type": "stream",
          "text": [
            "4127/4127 [==============================] - 12s 3ms/step\n",
            "Test Loss:  0.7323334260832637 Test Accuracy:  0.6702204989930577\n"
          ],
          "name": "stdout"
        }
      ]
    },
    {
      "metadata": {
        "id": "Ae1q4sh7njKQ",
        "colab_type": "code",
        "outputId": "dc25f9d0-cc07-40c9-b58d-62a42146dce5",
        "colab": {
          "base_uri": "https://localhost:8080/",
          "height": 376
        }
      },
      "cell_type": "code",
      "source": [
        "import matplotlib.pyplot as plt\n",
        "\n",
        "history_dict_lstm8 = history_lstm8.history\n",
        "\n",
        "acc = history_dict_lstm8['acc']\n",
        "val_acc = history_dict_lstm8['val_acc']\n",
        "loss = history_dict_lstm8['loss']\n",
        "val_loss = history_dict_lstm8['val_loss']\n",
        "\n",
        "epochs = range(1, len(acc) + 1)\n",
        "\n",
        "plt.plot(epochs, acc, 'bo', label='Training acc')\n",
        "plt.plot(epochs, val_acc, 'b', label='Validation acc')\n",
        "plt.title('Training and validation accuracy')\n",
        "plt.xlabel('Epochs')\n",
        "plt.ylabel('Accuracy')\n",
        "plt.legend()\n",
        "\n",
        "plt.show()"
      ],
      "execution_count": 0,
      "outputs": [
        {
          "output_type": "display_data",
          "data": {
            "image/png": "[encoded data removed]",
            "text/plain": [
              "<Figure size 576x396 with 1 Axes>"
            ]
          },
          "metadata": {
            "tags": []
          }
        }
      ]
    },
    {
      "metadata": {
        "id": "CYKS8hfLxamZ",
        "colab_type": "code",
        "outputId": "593d7f24-3fb4-4abb-dff8-96a76788abe2",
        "colab": {
          "base_uri": "https://localhost:8080/",
          "height": 315
        }
      },
      "cell_type": "code",
      "source": [
        "model_lstm9 = Sequential() \n",
        "\n",
        "model_lstm9.add(embedding_layer)\n",
        "model_lstm9.add(Dropout(0.3))\n",
        "\n",
        "model_lstm9.add(LSTM(100,activation='tanh')) \n",
        "model_lstm9.add(Dropout(0.3))\n",
        "model_lstm9.add(Dense(3, activation='softmax')) \n",
        "model_lstm9.compile(loss='categorical_crossentropy',optimizer='adam', metrics=['accuracy']) \n",
        "\n",
        "model_lstm9.summary()"
      ],
      "execution_count": 0,
      "outputs": [
        {
          "output_type": "stream",
          "text": [
            "_________________________________________________________________\n",
            "Layer (type)                 Output Shape              Param #   \n",
            "=================================================================\n",
            "embedding_1 (Embedding)      (None, 144, 300)          11108700  \n",
            "_________________________________________________________________\n",
            "dropout_3 (Dropout)          (None, 144, 300)          0         \n",
            "_________________________________________________________________\n",
            "lstm_2 (LSTM)                (None, 100)               160400    \n",
            "_________________________________________________________________\n",
            "dropout_4 (Dropout)          (None, 100)               0         \n",
            "_________________________________________________________________\n",
            "dense_2 (Dense)              (None, 3)                 303       \n",
            "=================================================================\n",
            "Total params: 11,269,403\n",
            "Trainable params: 160,703\n",
            "Non-trainable params: 11,108,700\n",
            "_________________________________________________________________\n"
          ],
          "name": "stdout"
        }
      ]
    },
    {
      "metadata": {
        "id": "Cn-S-MXbxndb",
        "colab_type": "code",
        "outputId": "d14418ee-32df-465f-a5f3-3a6a68a2b5dc",
        "colab": {
          "base_uri": "https://localhost:8080/",
          "height": 245
        }
      },
      "cell_type": "code",
      "source": [
        "history_lstm9 = model_lstm9.fit(x_train,\n",
        "                    y_train,\n",
        "                    epochs=6,\n",
        "                    batch_size=100,\n",
        "                    validation_data=(x_val, y_val),\n",
        "                    verbose=1)"
      ],
      "execution_count": 0,
      "outputs": [
        {
          "output_type": "stream",
          "text": [
            "Train on 16505 samples, validate on 4127 samples\n",
            "Epoch 1/6\n",
            "16505/16505 [==============================] - 103s 6ms/step - loss: 0.9365 - acc: 0.5493 - val_loss: 0.8518 - val_acc: 0.5869\n",
            "Epoch 2/6\n",
            "16505/16505 [==============================] - 102s 6ms/step - loss: 0.8528 - acc: 0.5930 - val_loss: 0.7850 - val_acc: 0.6295\n",
            "Epoch 3/6\n",
            "16505/16505 [==============================] - 103s 6ms/step - loss: 0.8264 - acc: 0.6077 - val_loss: 0.7438 - val_acc: 0.6663\n",
            "Epoch 4/6\n",
            "16505/16505 [==============================] - 102s 6ms/step - loss: 0.8022 - acc: 0.6254 - val_loss: 0.7399 - val_acc: 0.6726\n",
            "Epoch 5/6\n",
            "16505/16505 [==============================] - 102s 6ms/step - loss: 0.7931 - acc: 0.6325 - val_loss: 0.7201 - val_acc: 0.6768\n",
            "Epoch 6/6\n",
            "16505/16505 [==============================] - 103s 6ms/step - loss: 0.7745 - acc: 0.6454 - val_loss: 0.7373 - val_acc: 0.6637\n"
          ],
          "name": "stdout"
        }
      ]
    }
  ]
}