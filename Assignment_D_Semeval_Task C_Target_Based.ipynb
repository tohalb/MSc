{
  "nbformat": 4,
  "nbformat_minor": 0,
  "metadata": {
    "colab": {
      "name": "Submit - Assignment D - Semeval - Target Based.ipynb",
      "version": "0.3.2",
      "provenance": [],
      "collapsed_sections": []
    },
    "kernelspec": {
      "name": "python3",
      "display_name": "Python 3"
    }
  },
  "cells": [
    {
      "metadata": {
        "id": "mCf7xhF6BWaF",
        "colab_type": "code",
        "colab": {
          "base_uri": "https://localhost:8080/",
          "height": 35
        },
        "outputId": "697390e9-127d-4890-c7c1-c011ca7547d8"
      },
      "cell_type": "code",
      "source": [
        "import keras\n",
        "from keras_preprocessing import text\n",
        "import numpy as np\n",
        "from keras.layers import Lambda, GlobalAveragePooling1D, Dense, Embedding, Input, Conv1D, MaxPooling1D, LSTM, Dropout\n",
        "from keras import backend as K\n",
        "import keras.initializers\n",
        "from keras.models import Sequential\n",
        "from keras.preprocessing.text import Tokenizer\n",
        "from keras.preprocessing.sequence import pad_sequences\n",
        "import os\n",
        "import zipfile\n",
        "import csv,io\n",
        "import nltk\n",
        "import string\n",
        "from string import punctuation\n",
        "import re\n",
        "import zipfile\n",
        "from sklearn.preprocessing import LabelBinarizer"
      ],
      "execution_count": 1,
      "outputs": [
        {
          "output_type": "stream",
          "text": [
            "Using TensorFlow backend.\n"
          ],
          "name": "stderr"
        }
      ]
    },
    {
      "metadata": {
        "id": "QVJMSUX2NNaE",
        "colab_type": "code",
        "outputId": "ae188345-c6cc-45fc-b4c2-31a6b0b4d52f",
        "colab": {
          "base_uri": "https://localhost:8080/",
          "height": 52
        }
      },
      "cell_type": "code",
      "source": [
        "nltk.download(\"stopwords\")\n",
        "from nltk.corpus import stopwords"
      ],
      "execution_count": 2,
      "outputs": [
        {
          "output_type": "stream",
          "text": [
            "[nltk_data] Downloading package stopwords to /root/nltk_data...\n",
            "[nltk_data]   Package stopwords is already up-to-date!\n"
          ],
          "name": "stdout"
        }
      ]
    },
    {
      "metadata": {
        "id": "vOqSF9t9NUJQ",
        "colab_type": "code",
        "colab": {}
      },
      "cell_type": "code",
      "source": [
        "# Constants\n",
        "\n",
        "EMBED_SIZE=100\n",
        "VOCAB_SIZE = 10000\n",
        "INDEX_FROM = 2\n",
        "#MAXIMUM_LENGTH = 500\n",
        "TRAIN_SPLIT = 0.8"
      ],
      "execution_count": 0,
      "outputs": []
    },
    {
      "metadata": {
        "id": "ieIDEytVNdlz",
        "colab_type": "code",
        "outputId": "1c6f353a-c1b8-4efc-da38-dda28c8a82aa",
        "colab": {
          "base_uri": "https://localhost:8080/",
          "height": 275
        }
      },
      "cell_type": "code",
      "source": [
        "# Get Data\n",
        "\n",
        "!wget http://alt.qcri.org/semeval2017/task4/data/uploads/codalab/4c-english.zip"
      ],
      "execution_count": 4,
      "outputs": [
        {
          "output_type": "stream",
          "text": [
            "--2019-02-21 00:23:55--  http://alt.qcri.org/semeval2017/task4/data/uploads/codalab/4c-english.zip\n",
            "Resolving alt.qcri.org (alt.qcri.org)... 13.93.27.76\n",
            "Connecting to alt.qcri.org (alt.qcri.org)|13.93.27.76|:80... connected.\n",
            "HTTP request sent, awaiting response... 200 OK\n",
            "Length: 1693434 (1.6M) [application/zip]\n",
            "Saving to: ‘4c-english.zip’\n",
            "\n",
            "4c-english.zip      100%[===================>]   1.61M  2.58MB/s    in 0.6s    \n",
            "\n",
            "2019-02-21 00:23:56 (2.58 MB/s) - ‘4c-english.zip’ saved [1693434/1693434]\n",
            "\n"
          ],
          "name": "stdout"
        }
      ]
    },
    {
      "metadata": {
        "id": "-F2fIRq_NhYo",
        "colab_type": "code",
        "colab": {}
      },
      "cell_type": "code",
      "source": [
        "# Extract Training Data File\n",
        "\n",
        "def extract_without_folder(arc_name, full_item_name, folder):\n",
        "    with zipfile.ZipFile(arc_name) as zf:\n",
        "        file_data = zf.read(full_item_name)\n",
        "    with open(os.path.join(folder, os.path.basename(full_item_name)), \"wb\") as fout:\n",
        "        fout.write(file_data)\n",
        "\n",
        "path_to_zip_file = '4c-english.zip'\n",
        "directory_to_extract_to = os.getcwd()  \n",
        "extract_without_folder(path_to_zip_file,'4C-English/SemEval2017-task4-dev.subtask-CE.english.INPUT.txt',directory_to_extract_to )"
      ],
      "execution_count": 0,
      "outputs": []
    },
    {
      "metadata": {
        "id": "1hkLzt5KQIiO",
        "colab_type": "code",
        "outputId": "faa14a09-c99d-41ff-a23d-236b9e47b58f",
        "colab": {
          "base_uri": "https://localhost:8080/",
          "height": 207
        }
      },
      "cell_type": "code",
      "source": [
        "#Sanity Check: Read and Display data\n",
        "text_file = open(\"SemEval2017-task4-dev.subtask-CE.english.INPUT.txt\", \"r\")\n",
        "corpus = text_file.read()\n",
        "print(len(corpus))\n",
        "print(corpus[:1000])"
      ],
      "execution_count": 6,
      "outputs": [
        {
          "output_type": "stream",
          "text": [
            "3048844\n",
            "681563394940473347\tamy schumer\t-1\t@MargaretsBelly Amy Schumer is the stereotypical 1st world Laci Green feminazi. Plus she's unfunny\n",
            "675847244747177984\tamy schumer\t-1\t@dani_pitter I mean I get the hype around JLaw. I may not like her but I get her hype. I just don't understand Amy Schumer and her hype\n",
            "672827854279843840\tamy schumer\t-1\tAmy Schumer at the #GQmenoftheyear2015 party in a dress we pretty much hate: https://t.co/j5HmmyM99j #GQMOTY2015 https://t.co/V8xzmPmPYX\n",
            "671502639671042048\tamy schumer\t-1\t\"Amy Schumer may have brought us Trainwreck, but that word just got redefined on #TheVoice.\"\n",
            "677359143108214784\tamy schumer\t-1\tI just think that sports are stupid &amp;anyone who likes them is a lesser person &amp; has a small intellect- Amy Schumer https://t.co/fdjWKKG5AR\n",
            "663714752162607104\tamy schumer\t-1\t\"If you do like Amy Schumer, I hope you went &amp; saw her Saturday bc after this ridiculousness, I highly doubt Maine will be on list of faves.\"\n",
            "671468325617033216\tamy schumer\t-1\t\"Peo\n"
          ],
          "name": "stdout"
        }
      ]
    },
    {
      "metadata": {
        "id": "Cl6QSnsyQy-B",
        "colab_type": "code",
        "colab": {}
      },
      "cell_type": "code",
      "source": [
        "#Preprocessing 1 - Create tweet data and labels\n",
        "\n",
        "labels = []\n",
        "targets = []\n",
        "tweets = []\n",
        "f = csv.reader(io.StringIO(corpus), delimiter='\\t')\n",
        "for row in f:\n",
        "  targets.append(row[1])\n",
        "  labels.append(row[2])\n",
        "  tweets.append(row[3])\n",
        "\n"
      ],
      "execution_count": 0,
      "outputs": []
    },
    {
      "metadata": {
        "id": "17lYTw0mXj6M",
        "colab_type": "code",
        "outputId": "433919f0-8b5d-4a97-e342-9c062717ff55",
        "colab": {
          "base_uri": "https://localhost:8080/",
          "height": 102
        }
      },
      "cell_type": "code",
      "source": [
        "#Sanity Check\n",
        "print(targets[0])\n",
        "print(labels[0])\n",
        "print(tweets[0])"
      ],
      "execution_count": 8,
      "outputs": [
        {
          "output_type": "stream",
          "text": [
            "amy schumer\n",
            "-1\n",
            "@MargaretsBelly Amy Schumer is the stereotypical 1st world Laci Green feminazi. Plus she's unfunny\n"
          ],
          "name": "stdout"
        }
      ]
    },
    {
      "metadata": {
        "id": "5SeDsZHLx7ii",
        "colab_type": "code",
        "colab": {}
      },
      "cell_type": "code",
      "source": [
        "remove_terms = punctuation + '0123456789'"
      ],
      "execution_count": 0,
      "outputs": []
    },
    {
      "metadata": {
        "id": "epIzCcD5x-T-",
        "colab_type": "code",
        "colab": {}
      },
      "cell_type": "code",
      "source": [
        "def normalize_document(doc):\n",
        "    stop_words = nltk.corpus.stopwords.words('english')\n",
        "    wpt = nltk.WordPunctTokenizer()\n",
        "\n",
        "\n",
        "    # lower case and remove special characters\\whitespaces\n",
        "\n",
        "    doc = re.sub(r'[^a-zA-Z\\s]', '', doc, re.I|re.A)\n",
        "\n",
        "    doc = doc.lower()\n",
        "\n",
        "    doc = doc.strip()\n",
        "\n",
        "    # tokenize document\n",
        "\n",
        "    tokens = wpt.tokenize(doc)\n",
        "\n",
        "    # filter stopwords out of document\n",
        "\n",
        "    filtered_tokens = [token for token in tokens if token not in stop_words]\n",
        "\n",
        "    # re-create document from filtered tokens\n",
        "\n",
        "    doc = ' '.join(filtered_tokens)\n",
        "\n",
        "    return doc\n",
        " "
      ],
      "execution_count": 0,
      "outputs": []
    },
    {
      "metadata": {
        "id": "zghwnsfuyMRM",
        "colab_type": "code",
        "colab": {}
      },
      "cell_type": "code",
      "source": [
        "normalize_corpus = np.vectorize(normalize_document)\n",
        "normalized_corpus = [[word.lower() for word in sent if word not in remove_terms] for sent in tweets]\n",
        "\n",
        "normalized_corpus = [''.join(tok_sent) for tok_sent in normalized_corpus]\n",
        "\n",
        "#normalized_corpus = filter(None, normalize_corpus(normalized_corpus))\n",
        "#normalized_corpus = list(normalized_corpus)\n",
        "#normalized_corpus = [tok_sent for tok_sent in normalized_corpus if len(tok_sent.split()) > 2]\n",
        "\n",
        "normalized_corpus = list(normalized_corpus)"
      ],
      "execution_count": 0,
      "outputs": []
    },
    {
      "metadata": {
        "id": "CuXQ1aV4ySfr",
        "colab_type": "code",
        "outputId": "43ff7ec4-b935-4a64-caac-eaa335730b55",
        "colab": {
          "base_uri": "https://localhost:8080/",
          "height": 84
        }
      },
      "cell_type": "code",
      "source": [
        "print(tweets[0])\n",
        "print(normalized_corpus[0])"
      ],
      "execution_count": 12,
      "outputs": [
        {
          "output_type": "stream",
          "text": [
            "@MargaretsBelly Amy Schumer is the stereotypical 1st world Laci Green feminazi. Plus she's unfunny\n",
            "margaretsbelly amy schumer is the stereotypical st world laci green feminazi plus shes unfunny\n"
          ],
          "name": "stdout"
        }
      ]
    },
    {
      "metadata": {
        "id": "iXjKkMB9y7g0",
        "colab_type": "code",
        "outputId": "60601023-be2b-4da8-97ca-c2b146138371",
        "colab": {
          "base_uri": "https://localhost:8080/",
          "height": 109
        }
      },
      "cell_type": "code",
      "source": [
        "#  Apply Target Masking to make the problem one of text classification\n",
        "\n",
        "target_mask = '*TARGET*'\n",
        "normalized_tweets = []\n",
        "for i in range(len(tweets)):\n",
        "  new_tweet = normalized_corpus[i].replace(targets[i],target_mask)\n",
        "  normalized_tweets.append(new_tweet)\n",
        "\n",
        "normalized_corpus = normalized_tweets #To reuse earlier code\n",
        "\n",
        "print(len(normalized_tweets))\n",
        "print(tweets[1500])\n",
        "print(normalized_corpus[1500])"
      ],
      "execution_count": 13,
      "outputs": [
        {
          "output_type": "stream",
          "text": [
            "20632\n",
            "That brawl between undertaker and Brock Lesnar was crazy last Monday on Raw I want to see more\n",
            "that brawl between undertaker and *TARGET* was crazy last monday on raw i want to see more\n"
          ],
          "name": "stdout"
        }
      ]
    },
    {
      "metadata": {
        "id": "ucGV7cKpQK0S",
        "colab_type": "code",
        "outputId": "2d3ea808-263b-4bd3-e4b1-0894725ae0a4",
        "colab": {
          "base_uri": "https://localhost:8080/",
          "height": 120
        }
      },
      "cell_type": "code",
      "source": [
        "from keras.preprocessing.text import Tokenizer\n",
        "from keras.preprocessing.sequence import pad_sequences\n",
        "\n",
        "tokenizer = Tokenizer(nb_words=VOCAB_SIZE)\n",
        "tokenizer.fit_on_texts(normalized_corpus)\n",
        "sequences = tokenizer.texts_to_sequences(normalized_corpus)\n",
        "\n",
        "word_index = tokenizer.word_index\n",
        "print('Found %s unique tokens.' % len(word_index))"
      ],
      "execution_count": 14,
      "outputs": [
        {
          "output_type": "stream",
          "text": [
            "/usr/local/lib/python3.6/dist-packages/keras_preprocessing/text.py:178: UserWarning: The `nb_words` argument in `Tokenizer` has been renamed `num_words`.\n",
            "  warnings.warn('The `nb_words` argument in `Tokenizer` '\n"
          ],
          "name": "stderr"
        },
        {
          "output_type": "stream",
          "text": [
            "Found 36721 unique tokens.\n"
          ],
          "name": "stdout"
        }
      ]
    },
    {
      "metadata": {
        "id": "kbkFW5dmCEo1",
        "colab_type": "code",
        "colab": {}
      },
      "cell_type": "code",
      "source": [
        "def lengths(x):\n",
        "    if isinstance(x,list):\n",
        "        yield len(x)\n",
        "        for y in x:\n",
        "            yield from lengths(y)\n",
        "\n",
        "MAXIMUM_LENGTH = max([len(x) for x in normalized_corpus])"
      ],
      "execution_count": 0,
      "outputs": []
    },
    {
      "metadata": {
        "id": "Mpr9G5njR2f-",
        "colab_type": "code",
        "outputId": "d432a40a-2d40-4074-ff17-d6ab25147a59",
        "colab": {
          "base_uri": "https://localhost:8080/",
          "height": 35
        }
      },
      "cell_type": "code",
      "source": [
        "from keras.utils import to_categorical\n",
        "\n",
        "data = pad_sequences(sequences, maxlen=MAXIMUM_LENGTH)\n",
        "\n",
        "#labels = to_categorical(np.asarray(labels))\n",
        "print('Shape of data tensor:', data.shape)\n",
        "#print('Shape of label tensor:', labels.shape)"
      ],
      "execution_count": 16,
      "outputs": [
        {
          "output_type": "stream",
          "text": [
            "Shape of data tensor: (20632, 154)\n"
          ],
          "name": "stdout"
        }
      ]
    },
    {
      "metadata": {
        "id": "4k8dQ7cXS3wJ",
        "colab_type": "code",
        "outputId": "1497372e-9a61-4620-f58a-0b9d0e6ad40a",
        "colab": {
          "base_uri": "https://localhost:8080/",
          "height": 210
        }
      },
      "cell_type": "code",
      "source": [
        "print(data[0])"
      ],
      "execution_count": 0,
      "outputs": [
        {
          "output_type": "stream",
          "text": [
            "[   0    0    0    0    0    0    0    0    0    0    0    0    0    0\n",
            "    0    0    0    0    0    0    0    0    0    0    0    0    0    0\n",
            "    0    0    0    0    0    0    0    0    0    0    0    0    0    0\n",
            "    0    0    0    0    0    0    0    0    0    0    0    0    0    0\n",
            "    0    0    0    0    0    0    0    0    0    0    0    0    0    0\n",
            "    0    0    0    0    0    0    0    0    0    0    0    0    0    0\n",
            "    0    0    0    0    0    0    0    0    0    0    0    0    0    0\n",
            "    0    0    0    0    0    0    0    0    0    0    0    0    0    0\n",
            "    0    0    0    0    0    0    0    0    0    0    0    0    0    0\n",
            "    0    0    0    0    0    0    0    0    0    0    0    0    0    0\n",
            "    0    0    0    0    0    1   10    2 7843   33  152 1221  968  393]\n"
          ],
          "name": "stdout"
        }
      ]
    },
    {
      "metadata": {
        "id": "mU8Q5DNYTFVk",
        "colab_type": "code",
        "outputId": "1549d85d-f1cf-4146-a83d-7412750b132f",
        "colab": {
          "base_uri": "https://localhost:8080/",
          "height": 298
        }
      },
      "cell_type": "code",
      "source": [
        "os.listdir()"
      ],
      "execution_count": 0,
      "outputs": [
        {
          "output_type": "execute_result",
          "data": {
            "text/plain": [
              "['.config',\n",
              " 'glove.6B.200d.txt',\n",
              " 'glove.6B.300d.txt',\n",
              " 'cc.ar.300.vec.gz',\n",
              " 'SemEval2017-task4-dev.subtask-A.english.INPUT.txt',\n",
              " 'SemEval2017-task4-dev.subtask-A.arabic.INPUT.txt',\n",
              " '4c-english.zip.1',\n",
              " 'SemEval2017-task4-dev.subtask-CE.english.INPUT.txt',\n",
              " 'glove.6B.50d.txt',\n",
              " '4a-english.zip',\n",
              " 'glove.6B.zip',\n",
              " 'glove.6B.100d.txt',\n",
              " 'cc.ar.300.vec',\n",
              " '4a-arabic.zip',\n",
              " '4c-english.zip',\n",
              " 'sample_data']"
            ]
          },
          "metadata": {
            "tags": []
          },
          "execution_count": 64
        }
      ]
    },
    {
      "metadata": {
        "id": "rdrzCgrCSnbN",
        "colab_type": "code",
        "colab": {}
      },
      "cell_type": "code",
      "source": [
        "# split the data into a training set and a validation set\n",
        "indices = np.arange(data.shape[0])\n",
        "#np.random.shuffle(indices)\n",
        "data = data[indices]\n",
        "#targets = targets[indices]\n",
        "#labels = labels[indices]\n",
        "\n"
      ],
      "execution_count": 0,
      "outputs": []
    },
    {
      "metadata": {
        "id": "9WRdzRvbTxlM",
        "colab_type": "code",
        "colab": {}
      },
      "cell_type": "code",
      "source": [
        "\n",
        "\n",
        "nb_validation_samples = int(TRAIN_SPLIT * data.shape[0])\n",
        "\n",
        "x_val = data[:-nb_validation_samples]\n",
        "y_val = labels[:-nb_validation_samples]\n",
        "x_train = data[-nb_validation_samples:]\n",
        "y_train = labels[-nb_validation_samples:]\n",
        "\n",
        "#y_train2 = targets[:-nb_validation_samples]\n",
        "#y_val2 = targets[-nb_validation_samples:]"
      ],
      "execution_count": 0,
      "outputs": []
    },
    {
      "metadata": {
        "id": "zzC8dY4Uf2vl",
        "colab_type": "code",
        "colab": {}
      },
      "cell_type": "code",
      "source": [
        "encoder = LabelBinarizer()\n",
        "encoder.fit(y_train)\n",
        "y_train = encoder.transform(y_train)\n",
        "y_val = encoder.transform(y_val)\n",
        "\n",
        "#y_train2 = encoder.transform(y_train2)\n",
        "#y_val2 = encoder.transform(y_val2)"
      ],
      "execution_count": 0,
      "outputs": []
    },
    {
      "metadata": {
        "id": "aAexM5pmT-IU",
        "colab_type": "code",
        "outputId": "134f987d-d4a5-4311-feb1-44d5b32a66c8",
        "colab": {
          "base_uri": "https://localhost:8080/",
          "height": 563
        }
      },
      "cell_type": "code",
      "source": [
        "# Get Pre-trained Embeddings\n",
        "\n",
        "!wget http://nlp.stanford.edu/data/glove.6B.zip"
      ],
      "execution_count": 21,
      "outputs": [
        {
          "output_type": "stream",
          "text": [
            "--2019-02-21 00:26:04--  http://nlp.stanford.edu/data/glove.6B.zip\n",
            "Resolving nlp.stanford.edu (nlp.stanford.edu)... 171.64.67.140\n",
            "Connecting to nlp.stanford.edu (nlp.stanford.edu)|171.64.67.140|:80... connected.\n",
            "HTTP request sent, awaiting response... 302 Found\n",
            "Location: https://nlp.stanford.edu/data/glove.6B.zip [following]\n",
            "--2019-02-21 00:26:05--  https://nlp.stanford.edu/data/glove.6B.zip\n",
            "Connecting to nlp.stanford.edu (nlp.stanford.edu)|171.64.67.140|:443... connected.\n",
            "HTTP request sent, awaiting response... 200 OK\n",
            "Length: 862182613 (822M) [application/zip]\n",
            "Saving to: ‘glove.6B.zip’\n",
            "\n",
            "glove.6B.zip        100%[===================>] 822.24M  40.3MB/s    in 24s     \n",
            "\n",
            "2019-02-21 00:26:29 (34.3 MB/s) - ‘glove.6B.zip’ saved [862182613/862182613]\n",
            "\n"
          ],
          "name": "stdout"
        }
      ]
    },
    {
      "metadata": {
        "id": "4fVV_FTDUoA8",
        "colab_type": "code",
        "colab": {}
      },
      "cell_type": "code",
      "source": [
        "#Unzip the embedding files\n",
        "\n",
        "path_to_zip_file = 'glove.6B.zip'\n",
        "directory_to_extract_to = os.getcwd()  \n",
        "\n",
        "zip_ref = zipfile.ZipFile(path_to_zip_file, 'r')\n",
        "zip_ref.extractall(directory_to_extract_to)\n",
        "zip_ref.close()"
      ],
      "execution_count": 0,
      "outputs": []
    },
    {
      "metadata": {
        "id": "ogmwkrpkV4if",
        "colab_type": "code",
        "colab": {
          "base_uri": "https://localhost:8080/",
          "height": 42
        },
        "outputId": "1dade6b7-4f88-4d22-a2c6-fd0f5d31e132"
      },
      "cell_type": "code",
      "source": [
        "embeddings_index = {}\n",
        "f = open('glove.6B.100d.txt')\n",
        "for line in f:\n",
        "    values = line.split()\n",
        "    word = values[0]\n",
        "    coefs = np.asarray(values[1:], dtype='float32')\n",
        "    embeddings_index[word] = coefs\n",
        "f.close()\n",
        "\n",
        "print('Found %s word vectors.' % len(embeddings_index))"
      ],
      "execution_count": 23,
      "outputs": [
        {
          "output_type": "stream",
          "text": [
            "Found 400000 word vectors.\n"
          ],
          "name": "stdout"
        }
      ]
    },
    {
      "metadata": {
        "id": "_0DvjSvWWPWl",
        "colab_type": "code",
        "colab": {}
      },
      "cell_type": "code",
      "source": [
        "embedding_matrix = np.zeros((len(word_index) + 1, EMBED_SIZE))\n",
        "for word, i in word_index.items():\n",
        "    embedding_vector = embeddings_index.get(word)\n",
        "    if embedding_vector is not None:\n",
        "        # words not found in embedding index will be all-zeros.\n",
        "        embedding_matrix[i] = embedding_vector"
      ],
      "execution_count": 0,
      "outputs": []
    },
    {
      "metadata": {
        "id": "WK_Lj9d8WfGI",
        "colab_type": "code",
        "colab": {}
      },
      "cell_type": "code",
      "source": [
        "from keras.layers import Embedding\n",
        "\n",
        "embedding_layer = Embedding(len(word_index) + 1,\n",
        "                            EMBED_SIZE,\n",
        "                            weights=[embedding_matrix],\n",
        "                            input_length=MAXIMUM_LENGTH,\n",
        "                            trainable=False)"
      ],
      "execution_count": 0,
      "outputs": []
    },
    {
      "metadata": {
        "id": "EG9VjLzyXpt3",
        "colab_type": "code",
        "colab": {}
      },
      "cell_type": "code",
      "source": [
        "class GlobalAveragePooling1DMasked(GlobalAveragePooling1D):\n",
        "    def call(self, x, mask=None):\n",
        "        if mask != None:\n",
        "            return K.sum(x, axis=1) / K.sum(mask, axis=1)\n",
        "        else:\n",
        "            return super().call(x)"
      ],
      "execution_count": 0,
      "outputs": []
    },
    {
      "metadata": {
        "id": "Fd2dGgGXXOZl",
        "colab_type": "code",
        "colab": {
          "base_uri": "https://localhost:8080/",
          "height": 383
        },
        "outputId": "b5b5cb42-eb91-4242-a8ab-44881e3e526b"
      },
      "cell_type": "code",
      "source": [
        "# Model with Embedding Layer\n",
        "model = Sequential()\n",
        "\n",
        "#We change our first layer in model1 to an Embedding layer\n",
        "model.add(keras.layers.Embedding(VOCAB_SIZE,16))\n",
        "\n",
        "\n",
        "#The second layer is to compute average on all word vectors \n",
        "model.add(GlobalAveragePooling1DMasked())\n",
        "\n",
        "\n",
        "\n",
        "#The output vector is piped through a fully-connected layer\n",
        "model.add(keras.layers.Dense(16, activation=K.relu))\n",
        "\n",
        "\n",
        "\n",
        "#The last layer is connected with a single output node with the sigmoid activation function\n",
        "model.add(keras.layers.Dense(5, activation=K.softmax))\n",
        "\n",
        "\n",
        "model.compile(optimizer='adam',\n",
        "              loss='categorical_crossentropy',\n",
        "              metrics=['accuracy'])\n",
        "\n",
        "model.summary()"
      ],
      "execution_count": 27,
      "outputs": [
        {
          "output_type": "stream",
          "text": [
            "WARNING:tensorflow:From /usr/local/lib/python3.6/dist-packages/tensorflow/python/framework/op_def_library.py:263: colocate_with (from tensorflow.python.framework.ops) is deprecated and will be removed in a future version.\n",
            "Instructions for updating:\n",
            "Colocations handled automatically by placer.\n",
            "_________________________________________________________________\n",
            "Layer (type)                 Output Shape              Param #   \n",
            "=================================================================\n",
            "embedding_2 (Embedding)      (None, None, 16)          160000    \n",
            "_________________________________________________________________\n",
            "global_average_pooling1d_mas (None, 16)                0         \n",
            "_________________________________________________________________\n",
            "dense_1 (Dense)              (None, 16)                272       \n",
            "_________________________________________________________________\n",
            "dense_2 (Dense)              (None, 5)                 85        \n",
            "=================================================================\n",
            "Total params: 160,357\n",
            "Trainable params: 160,357\n",
            "Non-trainable params: 0\n",
            "_________________________________________________________________\n"
          ],
          "name": "stdout"
        }
      ]
    },
    {
      "metadata": {
        "id": "PbOSqBD7Xy9s",
        "colab_type": "code",
        "outputId": "e40ad190-668c-4738-d027-3e9db1b9c0f4",
        "colab": {
          "base_uri": "https://localhost:8080/",
          "height": 260
        }
      },
      "cell_type": "code",
      "source": [
        "history = model.fit(x_train,\n",
        "                    np.array(y_train),\n",
        "                    epochs=3,\n",
        "                    batch_size=100,\n",
        "                    validation_data=(x_val, np.array(y_val)),\n",
        "                    verbose=1)\n"
      ],
      "execution_count": 28,
      "outputs": [
        {
          "output_type": "stream",
          "text": [
            "WARNING:tensorflow:From /usr/local/lib/python3.6/dist-packages/tensorflow/python/ops/math_ops.py:3066: to_int32 (from tensorflow.python.ops.math_ops) is deprecated and will be removed in a future version.\n",
            "Instructions for updating:\n",
            "Use tf.cast instead.\n",
            "Train on 16505 samples, validate on 4127 samples\n",
            "Epoch 1/3\n",
            "16505/16505 [==============================] - 1s 82us/step - loss: 1.2972 - acc: 0.4922 - val_loss: 1.1824 - val_acc: 0.4723\n",
            "Epoch 2/3\n",
            "16505/16505 [==============================] - 1s 69us/step - loss: 1.0681 - acc: 0.4927 - val_loss: 1.1207 - val_acc: 0.4723\n",
            "Epoch 3/3\n",
            "16505/16505 [==============================] - 1s 69us/step - loss: 1.0487 - acc: 0.4927 - val_loss: 1.1139 - val_acc: 0.4723\n"
          ],
          "name": "stdout"
        }
      ]
    },
    {
      "metadata": {
        "id": "Ps9aepAn57Py",
        "colab_type": "code",
        "outputId": "4cc67f40-5aa7-471a-b313-9b447d859c86",
        "colab": {
          "base_uri": "https://localhost:8080/",
          "height": 376
        }
      },
      "cell_type": "code",
      "source": [
        "import matplotlib.pyplot as plt\n",
        "\n",
        "history_dict = history.history\n",
        "\n",
        "acc = history_dict['acc']\n",
        "val_acc = history_dict['val_acc']\n",
        "loss = history_dict['loss']\n",
        "val_loss = history_dict['val_loss']\n",
        "\n",
        "epochs = range(1, len(acc) + 1)\n",
        "\n",
        "plt.plot(epochs, acc, 'bo', label='Training acc')\n",
        "plt.plot(epochs, val_acc, 'b', label='Validation acc')\n",
        "plt.title('Training and validation accuracy')\n",
        "plt.xlabel('Epochs')\n",
        "plt.ylabel('Accuracy')\n",
        "plt.legend()\n",
        "\n",
        "plt.show()"
      ],
      "execution_count": 0,
      "outputs": [
        {
          "output_type": "display_data",
          "data": {
            "image/png": "[encoded data removed]",
            "text/plain": [
              "<Figure size 576x396 with 1 Axes>"
            ]
          },
          "metadata": {
            "tags": []
          }
        }
      ]
    },
    {
      "metadata": {
        "id": "nWWHGRJ_YAt8",
        "colab_type": "code",
        "colab": {}
      },
      "cell_type": "code",
      "source": [
        "#print(x_train[0])\n",
        "#print(y_train[0])\n",
        "print(x_val[0])\n",
        "print(y_val[0])"
      ],
      "execution_count": 0,
      "outputs": []
    },
    {
      "metadata": {
        "id": "PHjs_Oat6Jl5",
        "colab_type": "code",
        "outputId": "9b266f53-a64f-4f72-f46d-65dd5f6fe85f",
        "colab": {
          "base_uri": "https://localhost:8080/",
          "height": 280
        }
      },
      "cell_type": "code",
      "source": [
        "model_lstm = Sequential() \n",
        "\n",
        "model_lstm.add(embedding_layer)\n",
        "\n",
        "#model_lstm.add(GlobalAveragePooling1DMasked())\n",
        "\n",
        "model_lstm.add(LSTM(100)) \n",
        "model_lstm.add(Dense(5, activation='softmax')) \n",
        "model_lstm.compile(loss='categorical_crossentropy',optimizer='adam', metrics=['accuracy']) \n",
        "\n",
        "model.summary()"
      ],
      "execution_count": 29,
      "outputs": [
        {
          "output_type": "stream",
          "text": [
            "_________________________________________________________________\n",
            "Layer (type)                 Output Shape              Param #   \n",
            "=================================================================\n",
            "embedding_2 (Embedding)      (None, None, 16)          160000    \n",
            "_________________________________________________________________\n",
            "global_average_pooling1d_mas (None, 16)                0         \n",
            "_________________________________________________________________\n",
            "dense_1 (Dense)              (None, 16)                272       \n",
            "_________________________________________________________________\n",
            "dense_2 (Dense)              (None, 5)                 85        \n",
            "=================================================================\n",
            "Total params: 160,357\n",
            "Trainable params: 160,357\n",
            "Non-trainable params: 0\n",
            "_________________________________________________________________\n"
          ],
          "name": "stdout"
        }
      ]
    },
    {
      "metadata": {
        "id": "QbyCWZN6-VIb",
        "colab_type": "code",
        "outputId": "31dd9868-cd05-4246-a633-4a32f9a883d9",
        "colab": {
          "base_uri": "https://localhost:8080/",
          "height": 1003
        }
      },
      "cell_type": "code",
      "source": [
        "history_lstm = model_lstm.fit(x_train,\n",
        "                    y_train,\n",
        "                    epochs=3,\n",
        "                    batch_size=100,\n",
        "                    validation_data=(x_val, y_val),\n",
        "                    verbose=1)\n"
      ],
      "execution_count": 30,
      "outputs": [
        {
          "output_type": "stream",
          "text": [
            "Train on 16505 samples, validate on 4127 samples\n",
            "Epoch 1/3\n",
            "16505/16505 [==============================] - 75s 5ms/step - loss: 0.9759 - acc: 0.5664 - val_loss: 1.0335 - val_acc: 0.5350\n",
            "Epoch 2/3\n",
            "16505/16505 [==============================] - 75s 5ms/step - loss: 0.8952 - acc: 0.6001 - val_loss: 0.9616 - val_acc: 0.5592\n",
            "Epoch 3/3\n",
            "16505/16505 [==============================] - 74s 5ms/step - loss: 0.8693 - acc: 0.6111 - val_loss: 0.9649 - val_acc: 0.5602\n"
          ],
          "name": "stdout"
        }
      ]
    },
    {
      "metadata": {
        "id": "YIimQzfpZ5_I",
        "colab_type": "code",
        "outputId": "61ef99df-aebc-401e-9ec7-34bf5c809bb2",
        "colab": {
          "base_uri": "https://localhost:8080/",
          "height": 52
        }
      },
      "cell_type": "code",
      "source": [
        "results_lstm = model_lstm.evaluate(x_val,y_val)\n",
        "print('Test Loss: ', results_lstm[0], 'Test Accuracy: ',results_lstm[1])"
      ],
      "execution_count": 31,
      "outputs": [
        {
          "output_type": "stream",
          "text": [
            "4127/4127 [==============================] - 5s 1ms/step\n",
            "Test Loss:  0.9648769575139354 Test Accuracy:  0.5602132298841238\n"
          ],
          "name": "stdout"
        }
      ]
    },
    {
      "metadata": {
        "id": "uM8lYMHd_pVA",
        "colab_type": "code",
        "outputId": "8f74cf8f-b083-4451-8fda-f1d3141e2073",
        "colab": {
          "base_uri": "https://localhost:8080/",
          "height": 376
        }
      },
      "cell_type": "code",
      "source": [
        "import matplotlib.pyplot as plt\n",
        "\n",
        "history_dict_lstm = history_lstm.history\n",
        "\n",
        "acc = history_dict_lstm['acc']\n",
        "val_acc = history_dict_lstm['val_acc']\n",
        "loss = history_dict_lstm['loss']\n",
        "val_loss = history_dict_lstm['val_loss']\n",
        "\n",
        "epochs = range(1, len(acc) + 1)\n",
        "\n",
        "plt.plot(epochs, acc, 'bo', label='Training acc')\n",
        "plt.plot(epochs, val_acc, 'b', label='Validation acc')\n",
        "plt.title('Training and validation accuracy')\n",
        "plt.xlabel('Epochs')\n",
        "plt.ylabel('Accuracy')\n",
        "plt.legend()\n",
        "\n",
        "plt.show()"
      ],
      "execution_count": 32,
      "outputs": [
        {
          "output_type": "display_data",
          "data": {
            "image/png": "[encoded data removed]",
            "text/plain": [
              "<Figure size 576x396 with 1 Axes>"
            ]
          },
          "metadata": {
            "tags": []
          }
        }
      ]
    },
    {
      "metadata": {
        "id": "D6cghOyWeR5k",
        "colab_type": "code",
        "colab": {
          "base_uri": "https://localhost:8080/",
          "height": 283
        },
        "outputId": "f5e45ca7-45cc-42bc-a4bc-092fa5fa3075"
      },
      "cell_type": "code",
      "source": [
        "history_lstm_6 = model_lstm.fit(x_train,\n",
        "                    y_train,\n",
        "                    epochs=6,\n",
        "                    batch_size=100,\n",
        "                    validation_data=(x_val, y_val),\n",
        "                    verbose=1)\n"
      ],
      "execution_count": 33,
      "outputs": [
        {
          "output_type": "stream",
          "text": [
            "Train on 16505 samples, validate on 4127 samples\n",
            "Epoch 1/6\n",
            "16505/16505 [==============================] - 74s 5ms/step - loss: 0.8443 - acc: 0.6239 - val_loss: 0.9552 - val_acc: 0.5646\n",
            "Epoch 2/6\n",
            "16505/16505 [==============================] - 73s 4ms/step - loss: 0.8203 - acc: 0.6334 - val_loss: 0.9339 - val_acc: 0.5721\n",
            "Epoch 3/6\n",
            "16505/16505 [==============================] - 73s 4ms/step - loss: 0.8025 - acc: 0.6447 - val_loss: 0.9789 - val_acc: 0.5643\n",
            "Epoch 4/6\n",
            "16505/16505 [==============================] - 73s 4ms/step - loss: 0.7848 - acc: 0.6511 - val_loss: 0.9836 - val_acc: 0.5658\n",
            "Epoch 5/6\n",
            "16505/16505 [==============================] - 73s 4ms/step - loss: 0.7628 - acc: 0.6623 - val_loss: 0.9526 - val_acc: 0.5752\n",
            "Epoch 6/6\n",
            "16505/16505 [==============================] - 73s 4ms/step - loss: 0.7418 - acc: 0.6745 - val_loss: 0.9991 - val_acc: 0.5701\n"
          ],
          "name": "stdout"
        }
      ]
    },
    {
      "metadata": {
        "id": "G_CEUDXZgNGU",
        "colab_type": "code",
        "colab": {
          "base_uri": "https://localhost:8080/",
          "height": 52
        },
        "outputId": "952e852c-77e8-4b15-9345-0889e0caf4ff"
      },
      "cell_type": "code",
      "source": [
        "results_lstm_6 = model_lstm.evaluate(x_val,y_val)\n",
        "print('Test Loss: ', results_lstm[0], 'Test Accuracy: ',results_lstm[1])"
      ],
      "execution_count": 34,
      "outputs": [
        {
          "output_type": "stream",
          "text": [
            "4127/4127 [==============================] - 5s 1ms/step\n",
            "Test Loss:  0.9648769575139354 Test Accuracy:  0.5602132298841238\n"
          ],
          "name": "stdout"
        }
      ]
    },
    {
      "metadata": {
        "id": "5B1n5jQfAAhI",
        "colab_type": "code",
        "outputId": "6a8dfc91-67b8-46b5-8175-f9d0e242577e",
        "colab": {
          "base_uri": "https://localhost:8080/",
          "height": 315
        }
      },
      "cell_type": "code",
      "source": [
        "model_lstm2 = Sequential() \n",
        "\n",
        "model_lstm2.add(embedding_layer)\n",
        "model_lstm2.add(Dropout(0.5))\n",
        "#model_lstm.add(GlobalAveragePooling1DMasked())\n",
        "\n",
        "model_lstm2.add(LSTM(100)) \n",
        "model_lstm2.add(Dropout(0.5))\n",
        "model_lstm2.add(Dense(5, activation='softmax')) \n",
        "model_lstm2.compile(loss='categorical_crossentropy',optimizer='adam', metrics=['accuracy']) \n",
        "\n",
        "model_lstm2.summary()"
      ],
      "execution_count": 0,
      "outputs": [
        {
          "output_type": "stream",
          "text": [
            "_________________________________________________________________\n",
            "Layer (type)                 Output Shape              Param #   \n",
            "=================================================================\n",
            "embedding_1 (Embedding)      (None, 154, 100)          3672200   \n",
            "_________________________________________________________________\n",
            "dropout_9 (Dropout)          (None, 154, 100)          0         \n",
            "_________________________________________________________________\n",
            "lstm_8 (LSTM)                (None, 100)               80400     \n",
            "_________________________________________________________________\n",
            "dropout_10 (Dropout)         (None, 100)               0         \n",
            "_________________________________________________________________\n",
            "dense_12 (Dense)             (None, 5)                 505       \n",
            "=================================================================\n",
            "Total params: 3,753,105\n",
            "Trainable params: 80,905\n",
            "Non-trainable params: 3,672,200\n",
            "_________________________________________________________________\n"
          ],
          "name": "stdout"
        }
      ]
    },
    {
      "metadata": {
        "id": "ZLsyCvtxAMi0",
        "colab_type": "code",
        "outputId": "eb874c07-0b6f-451c-f48b-6687991faf5b",
        "colab": {
          "base_uri": "https://localhost:8080/",
          "height": 140
        }
      },
      "cell_type": "code",
      "source": [
        "history_lstm2 = model_lstm2.fit(x_train,\n",
        "                    y_train,\n",
        "                    epochs=3,\n",
        "                    batch_size=100,\n",
        "                    validation_data=(x_val, y_val),\n",
        "                    verbose=1)"
      ],
      "execution_count": 0,
      "outputs": [
        {
          "output_type": "stream",
          "text": [
            "Train on 16505 samples, validate on 4127 samples\n",
            "Epoch 1/3\n",
            "16505/16505 [==============================] - 77s 5ms/step - loss: 1.0541 - acc: 0.5174 - val_loss: 1.0158 - val_acc: 0.5241\n",
            "Epoch 2/3\n",
            "16505/16505 [==============================] - 74s 4ms/step - loss: 0.9786 - acc: 0.5581 - val_loss: 0.9888 - val_acc: 0.5440\n",
            "Epoch 3/3\n",
            "16505/16505 [==============================] - 75s 5ms/step - loss: 0.9562 - acc: 0.5686 - val_loss: 0.9738 - val_acc: 0.5459\n"
          ],
          "name": "stdout"
        }
      ]
    },
    {
      "metadata": {
        "id": "u1gZFPU9bMP8",
        "colab_type": "code",
        "outputId": "20984022-a4ab-44f1-f1af-aabaf0d00b26",
        "colab": {
          "base_uri": "https://localhost:8080/",
          "height": 52
        }
      },
      "cell_type": "code",
      "source": [
        "results_lstm2 = model_lstm2.evaluate(x_val,y_val)\n",
        "print('Test Loss: ', results_lstm2[0], 'Test Accuracy: ',results_lstm2[1])"
      ],
      "execution_count": 0,
      "outputs": [
        {
          "output_type": "stream",
          "text": [
            "4127/4127 [==============================] - 5s 1ms/step\n",
            "Test Loss:  0.9738151708670613 Test Accuracy:  0.5459171309796378\n"
          ],
          "name": "stdout"
        }
      ]
    },
    {
      "metadata": {
        "id": "xXfnsM-kAR9T",
        "colab_type": "code",
        "outputId": "58243531-6796-491e-af7c-45986ac5b562",
        "colab": {
          "base_uri": "https://localhost:8080/",
          "height": 379
        }
      },
      "cell_type": "code",
      "source": [
        "import matplotlib.pyplot as plt\n",
        "\n",
        "history_dict_lstm2 = history_lstm2.history\n",
        "\n",
        "acc = history_dict_lstm2['acc']\n",
        "val_acc = history_dict_lstm2['val_acc']\n",
        "loss = history_dict_lstm2['loss']\n",
        "val_loss = history_dict_lstm2['val_loss']\n",
        "\n",
        "epochs = range(1, len(acc) + 1)\n",
        "\n",
        "plt.plot(epochs, acc, 'bo', label='Training acc')\n",
        "plt.plot(epochs, val_acc, 'b', label='Validation acc')\n",
        "plt.title('Training and validation accuracy')\n",
        "plt.xlabel('Epochs')\n",
        "plt.ylabel('Accuracy')\n",
        "plt.legend()\n",
        "\n",
        "plt.show()"
      ],
      "execution_count": 0,
      "outputs": [
        {
          "output_type": "display_data",
          "data": {
            "image/png": "[encoded data removed]",
            "text/plain": [
              "<Figure size 576x396 with 1 Axes>"
            ]
          },
          "metadata": {
            "tags": []
          }
        }
      ]
    },
    {
      "metadata": {
        "id": "FA8HRjcfbc3S",
        "colab_type": "code",
        "outputId": "b4caffa9-7d5b-4155-a590-ef72530be4f2",
        "colab": {
          "base_uri": "https://localhost:8080/",
          "height": 315
        }
      },
      "cell_type": "code",
      "source": [
        "model_lstm3 = Sequential() \n",
        "\n",
        "model_lstm3.add(embedding_layer)\n",
        "model_lstm3.add(Dropout(0.5))\n",
        "#model_lstm.add(GlobalAveragePooling1DMasked())\n",
        "\n",
        "model_lstm3.add(LSTM(100)) \n",
        "model_lstm3.add(Dropout(0.5))\n",
        "model_lstm3.add(Dense(5, activation='softmax')) \n",
        "model_lstm3.compile(loss='categorical_crossentropy',optimizer='adam', metrics=['accuracy']) \n",
        "\n",
        "model_lstm3.summary()"
      ],
      "execution_count": 0,
      "outputs": [
        {
          "output_type": "stream",
          "text": [
            "_________________________________________________________________\n",
            "Layer (type)                 Output Shape              Param #   \n",
            "=================================================================\n",
            "embedding_1 (Embedding)      (None, 154, 100)          3672200   \n",
            "_________________________________________________________________\n",
            "dropout_11 (Dropout)         (None, 154, 100)          0         \n",
            "_________________________________________________________________\n",
            "lstm_9 (LSTM)                (None, 100)               80400     \n",
            "_________________________________________________________________\n",
            "dropout_12 (Dropout)         (None, 100)               0         \n",
            "_________________________________________________________________\n",
            "dense_13 (Dense)             (None, 5)                 505       \n",
            "=================================================================\n",
            "Total params: 3,753,105\n",
            "Trainable params: 80,905\n",
            "Non-trainable params: 3,672,200\n",
            "_________________________________________________________________\n"
          ],
          "name": "stdout"
        }
      ]
    },
    {
      "metadata": {
        "id": "u5S-ubLvbvOf",
        "colab_type": "code",
        "outputId": "dd054111-cb2e-4cff-ee50-e25e9d533d08",
        "colab": {
          "base_uri": "https://localhost:8080/",
          "height": 245
        }
      },
      "cell_type": "code",
      "source": [
        "history_lstm3 = model_lstm3.fit(x_train,\n",
        "                    y_train,\n",
        "                    epochs=6,\n",
        "                    batch_size=100,\n",
        "                    validation_data=(x_val, y_val),\n",
        "                    verbose=1)"
      ],
      "execution_count": 0,
      "outputs": [
        {
          "output_type": "stream",
          "text": [
            "Train on 16505 samples, validate on 4127 samples\n",
            "Epoch 1/6\n",
            "16505/16505 [==============================] - 79s 5ms/step - loss: 1.0611 - acc: 0.5094 - val_loss: 1.0885 - val_acc: 0.5025\n",
            "Epoch 2/6\n",
            "16505/16505 [==============================] - 75s 5ms/step - loss: 0.9744 - acc: 0.5586 - val_loss: 0.9898 - val_acc: 0.5374\n",
            "Epoch 3/6\n",
            "16505/16505 [==============================] - 76s 5ms/step - loss: 0.9482 - acc: 0.5739 - val_loss: 0.9768 - val_acc: 0.5413\n",
            "Epoch 4/6\n",
            "16505/16505 [==============================] - 75s 5ms/step - loss: 0.9277 - acc: 0.5904 - val_loss: 0.9596 - val_acc: 0.5476\n",
            "Epoch 5/6\n",
            "16505/16505 [==============================] - 76s 5ms/step - loss: 0.9188 - acc: 0.5862 - val_loss: 0.9925 - val_acc: 0.5326\n",
            "Epoch 6/6\n",
            "16505/16505 [==============================] - 75s 5ms/step - loss: 0.9103 - acc: 0.5912 - val_loss: 0.9415 - val_acc: 0.5602\n"
          ],
          "name": "stdout"
        }
      ]
    },
    {
      "metadata": {
        "id": "MiB4BODNeC29",
        "colab_type": "code",
        "outputId": "26c6c687-50e4-4a78-8838-062542f1b58e",
        "colab": {
          "base_uri": "https://localhost:8080/",
          "height": 52
        }
      },
      "cell_type": "code",
      "source": [
        "results_lstm3 = model_lstm3.evaluate(x_val,y_val)\n",
        "print('Test Loss: ', results_lstm3[0], 'Test Accuracy: ',results_lstm3[1])"
      ],
      "execution_count": 0,
      "outputs": [
        {
          "output_type": "stream",
          "text": [
            "4127/4127 [==============================] - 5s 1ms/step\n",
            "Test Loss:  0.941548328134492 Test Accuracy:  0.5602132298913451\n"
          ],
          "name": "stdout"
        }
      ]
    },
    {
      "metadata": {
        "id": "78ZbTwMkeV3p",
        "colab_type": "code",
        "outputId": "f8acc36a-c008-4f89-f894-e9baf8b599fd",
        "colab": {
          "base_uri": "https://localhost:8080/",
          "height": 379
        }
      },
      "cell_type": "code",
      "source": [
        "import matplotlib.pyplot as plt\n",
        "\n",
        "history_dict_lstm3 = history_lstm3.history\n",
        "\n",
        "acc = history_dict_lstm3['acc']\n",
        "val_acc = history_dict_lstm3['val_acc']\n",
        "loss = history_dict_lstm3['loss']\n",
        "val_loss = history_dict_lstm3['val_loss']\n",
        "\n",
        "epochs = range(1, len(acc) + 1)\n",
        "\n",
        "plt.plot(epochs, acc, 'bo', label='Training acc')\n",
        "plt.plot(epochs, val_acc, 'b', label='Validation acc')\n",
        "plt.title('Training and validation accuracy')\n",
        "plt.xlabel('Epochs')\n",
        "plt.ylabel('Accuracy')\n",
        "plt.legend()\n",
        "\n",
        "plt.show()"
      ],
      "execution_count": 0,
      "outputs": [
        {
          "output_type": "display_data",
          "data": {
            "image/png": "[encoded data removed]",
            "text/plain": [
              "<Figure size 576x396 with 1 Axes>"
            ]
          },
          "metadata": {
            "tags": []
          }
        }
      ]
    },
    {
      "metadata": {
        "id": "6w0XeU71ewWg",
        "colab_type": "code",
        "outputId": "68f34fb2-11f5-4a63-8162-d62861a0a02c",
        "colab": {
          "base_uri": "https://localhost:8080/",
          "height": 315
        }
      },
      "cell_type": "code",
      "source": [
        "model_lstm4 = Sequential() \n",
        "\n",
        "model_lstm4.add(embedding_layer)\n",
        "model_lstm4.add(Dropout(0.3))\n",
        "#model_lstm.add(GlobalAveragePooling1DMasked())\n",
        "\n",
        "model_lstm4.add(LSTM(100)) \n",
        "model_lstm4.add(Dropout(0.3))\n",
        "model_lstm4.add(Dense(5, activation='softmax')) \n",
        "model_lstm4.compile(loss='categorical_crossentropy',optimizer='adam', metrics=['accuracy']) \n",
        "\n",
        "model_lstm4.summary()"
      ],
      "execution_count": 0,
      "outputs": [
        {
          "output_type": "stream",
          "text": [
            "_________________________________________________________________\n",
            "Layer (type)                 Output Shape              Param #   \n",
            "=================================================================\n",
            "embedding_1 (Embedding)      (None, 154, 100)          3672200   \n",
            "_________________________________________________________________\n",
            "dropout_13 (Dropout)         (None, 154, 100)          0         \n",
            "_________________________________________________________________\n",
            "lstm_10 (LSTM)               (None, 100)               80400     \n",
            "_________________________________________________________________\n",
            "dropout_14 (Dropout)         (None, 100)               0         \n",
            "_________________________________________________________________\n",
            "dense_14 (Dense)             (None, 5)                 505       \n",
            "=================================================================\n",
            "Total params: 3,753,105\n",
            "Trainable params: 80,905\n",
            "Non-trainable params: 3,672,200\n",
            "_________________________________________________________________\n"
          ],
          "name": "stdout"
        }
      ]
    },
    {
      "metadata": {
        "id": "dQ1k0E4zfCrV",
        "colab_type": "code",
        "outputId": "c136e392-743a-430f-9592-54a07eae530a",
        "colab": {
          "base_uri": "https://localhost:8080/",
          "height": 245
        }
      },
      "cell_type": "code",
      "source": [
        "history_lstm4 = model_lstm4.fit(x_train,\n",
        "                    y_train,\n",
        "                    epochs=6,\n",
        "                    batch_size=100,\n",
        "                    validation_data=(x_val, y_val),\n",
        "                    verbose=1)"
      ],
      "execution_count": 0,
      "outputs": [
        {
          "output_type": "stream",
          "text": [
            "Train on 16505 samples, validate on 4127 samples\n",
            "Epoch 1/6\n",
            "16505/16505 [==============================] - 79s 5ms/step - loss: 1.0350 - acc: 0.5263 - val_loss: 1.0286 - val_acc: 0.5161\n",
            "Epoch 2/6\n",
            "16505/16505 [==============================] - 76s 5ms/step - loss: 0.9434 - acc: 0.5762 - val_loss: 0.9658 - val_acc: 0.5512\n",
            "Epoch 3/6\n",
            "16505/16505 [==============================] - 75s 5ms/step - loss: 0.9152 - acc: 0.5901 - val_loss: 0.9701 - val_acc: 0.5459\n",
            "Epoch 4/6\n",
            "16505/16505 [==============================] - 76s 5ms/step - loss: 0.8955 - acc: 0.5974 - val_loss: 0.9565 - val_acc: 0.5583\n",
            "Epoch 5/6\n",
            "16505/16505 [==============================] - 76s 5ms/step - loss: 0.8780 - acc: 0.6039 - val_loss: 0.9469 - val_acc: 0.5583\n",
            "Epoch 6/6\n",
            "16505/16505 [==============================] - 76s 5ms/step - loss: 0.8684 - acc: 0.6090 - val_loss: 0.9476 - val_acc: 0.5694\n"
          ],
          "name": "stdout"
        }
      ]
    },
    {
      "metadata": {
        "id": "CjC2uikphcgQ",
        "colab_type": "code",
        "colab": {}
      },
      "cell_type": "code",
      "source": [
        "results_lstm4 = model_lstm4.evaluate(x_val,y_val)\n",
        "print('Test Loss: ', results_lstm4[0], 'Test Accuracy: ',results_lstm4[1])"
      ],
      "execution_count": 0,
      "outputs": []
    },
    {
      "metadata": {
        "id": "eYRliJokn8Z0",
        "colab_type": "code",
        "outputId": "3b61b94c-5e0e-4edd-96c6-6973a326dce8",
        "colab": {
          "base_uri": "https://localhost:8080/",
          "height": 379
        }
      },
      "cell_type": "code",
      "source": [
        "import matplotlib.pyplot as plt\n",
        "\n",
        "history_dict_lstm4 = history_lstm4.history\n",
        "\n",
        "acc = history_dict_lstm4['acc']\n",
        "val_acc = history_dict_lstm4['val_acc']\n",
        "loss = history_dict_lstm4['loss']\n",
        "val_loss = history_dict_lstm4['val_loss']\n",
        "\n",
        "epochs = range(1, len(acc) + 1)\n",
        "\n",
        "plt.plot(epochs, acc, 'bo', label='Training acc')\n",
        "plt.plot(epochs, val_acc, 'b', label='Validation acc')\n",
        "plt.title('Training and validation accuracy')\n",
        "plt.xlabel('Epochs')\n",
        "plt.ylabel('Accuracy')\n",
        "plt.legend()\n",
        "\n",
        "plt.show()"
      ],
      "execution_count": 0,
      "outputs": [
        {
          "output_type": "display_data",
          "data": {
            "image/png": "[encoded data removed]",
            "text/plain": [
              "<Figure size 576x396 with 1 Axes>"
            ]
          },
          "metadata": {
            "tags": []
          }
        }
      ]
    },
    {
      "metadata": {
        "id": "Az3wOAILggBN",
        "colab_type": "code",
        "colab": {
          "base_uri": "https://localhost:8080/",
          "height": 412
        },
        "outputId": "3adddaa3-4b79-4755-d172-aa04e8438bf0"
      },
      "cell_type": "code",
      "source": [
        "model_lstm5 = Sequential() \n",
        "\n",
        "model_lstm5.add(embedding_layer)\n",
        "model_lstm5.add(Dropout(0.3))\n",
        "#model_lstm.add(GlobalAveragePooling1DMasked())\n",
        "\n",
        "model_lstm5.add(LSTM(100)) \n",
        "model_lstm5.add(Dropout(0.3))\n",
        "model_lstm5.add(Dense(5, activation='softmax')) \n",
        "model_lstm5.compile(loss='categorical_crossentropy',optimizer='adam', metrics=['accuracy']) \n",
        "\n",
        "model_lstm5.summary()"
      ],
      "execution_count": 36,
      "outputs": [
        {
          "output_type": "stream",
          "text": [
            "WARNING:tensorflow:From /usr/local/lib/python3.6/dist-packages/keras/backend/tensorflow_backend.py:3445: calling dropout (from tensorflow.python.ops.nn_ops) with keep_prob is deprecated and will be removed in a future version.\n",
            "Instructions for updating:\n",
            "Please use `rate` instead of `keep_prob`. Rate should be set to `rate = 1 - keep_prob`.\n",
            "_________________________________________________________________\n",
            "Layer (type)                 Output Shape              Param #   \n",
            "=================================================================\n",
            "embedding_1 (Embedding)      (None, 154, 100)          3672200   \n",
            "_________________________________________________________________\n",
            "dropout_1 (Dropout)          (None, 154, 100)          0         \n",
            "_________________________________________________________________\n",
            "lstm_2 (LSTM)                (None, 100)               80400     \n",
            "_________________________________________________________________\n",
            "dropout_2 (Dropout)          (None, 100)               0         \n",
            "_________________________________________________________________\n",
            "dense_4 (Dense)              (None, 5)                 505       \n",
            "=================================================================\n",
            "Total params: 3,753,105\n",
            "Trainable params: 80,905\n",
            "Non-trainable params: 3,672,200\n",
            "_________________________________________________________________\n"
          ],
          "name": "stdout"
        }
      ]
    },
    {
      "metadata": {
        "id": "6LzSBqW-hJTs",
        "colab_type": "code",
        "colab": {
          "base_uri": "https://localhost:8080/",
          "height": 283
        },
        "outputId": "9c20e4fc-ea1d-4cff-9fc9-b6d9ed60fbc5"
      },
      "cell_type": "code",
      "source": [
        "history_lstm5 = model_lstm5.fit(x_train,\n",
        "                    y_train,\n",
        "                    epochs=6,\n",
        "                    batch_size=32,\n",
        "                    validation_data=(x_val, y_val),\n",
        "                    verbose=1)"
      ],
      "execution_count": 37,
      "outputs": [
        {
          "output_type": "stream",
          "text": [
            "Train on 16505 samples, validate on 4127 samples\n",
            "Epoch 1/6\n",
            "16505/16505 [==============================] - 88s 5ms/step - loss: 1.0040 - acc: 0.5370 - val_loss: 0.9922 - val_acc: 0.5413\n",
            "Epoch 2/6\n",
            "16505/16505 [==============================] - 87s 5ms/step - loss: 0.9198 - acc: 0.5885 - val_loss: 0.9596 - val_acc: 0.5486\n",
            "Epoch 3/6\n",
            "16505/16505 [==============================] - 88s 5ms/step - loss: 0.8934 - acc: 0.5967 - val_loss: 0.9506 - val_acc: 0.5653\n",
            "Epoch 4/6\n",
            "16505/16505 [==============================] - 86s 5ms/step - loss: 0.8731 - acc: 0.6087 - val_loss: 0.9354 - val_acc: 0.5704\n",
            "Epoch 5/6\n",
            "16505/16505 [==============================] - 87s 5ms/step - loss: 0.8583 - acc: 0.6130 - val_loss: 0.9375 - val_acc: 0.5735\n",
            "Epoch 6/6\n",
            "16505/16505 [==============================] - 87s 5ms/step - loss: 0.8453 - acc: 0.6225 - val_loss: 0.9201 - val_acc: 0.5823\n"
          ],
          "name": "stdout"
        }
      ]
    },
    {
      "metadata": {
        "id": "MhMhPVChgqWZ",
        "colab_type": "code",
        "colab": {
          "base_uri": "https://localhost:8080/",
          "height": 52
        },
        "outputId": "63268f92-12dd-4f09-95c2-ac69926b2563"
      },
      "cell_type": "code",
      "source": [
        "results_lstm5 = model_lstm5.evaluate(x_val,y_val)\n",
        "print('Test Loss: ', results_lstm5[0], 'Test Accuracy: ',results_lstm5[1])"
      ],
      "execution_count": 39,
      "outputs": [
        {
          "output_type": "stream",
          "text": [
            "4127/4127 [==============================] - 5s 1ms/step\n",
            "Test Loss:  0.9200697241986032 Test Accuracy:  0.5822631450695364\n"
          ],
          "name": "stdout"
        }
      ]
    },
    {
      "metadata": {
        "id": "2yUdAT1lnmNg",
        "colab_type": "code",
        "colab": {
          "base_uri": "https://localhost:8080/",
          "height": 376
        },
        "outputId": "11eb2e41-93c1-4f31-81ac-8514a477ffa1"
      },
      "cell_type": "code",
      "source": [
        "import matplotlib.pyplot as plt\n",
        "\n",
        "history_dict_lstm5 = history_lstm5.history\n",
        "\n",
        "acc = history_dict_lstm5['acc']\n",
        "val_acc = history_dict_lstm5['val_acc']\n",
        "loss = history_dict_lstm5['loss']\n",
        "val_loss = history_dict_lstm5['val_loss']\n",
        "\n",
        "epochs = range(1, len(acc) + 1)\n",
        "\n",
        "plt.plot(epochs, acc, 'bo', label='Training acc')\n",
        "plt.plot(epochs, val_acc, 'b', label='Validation acc')\n",
        "plt.title('Training and validation accuracy')\n",
        "plt.xlabel('Epochs')\n",
        "plt.ylabel('Accuracy')\n",
        "plt.legend()\n",
        "\n",
        "plt.show()"
      ],
      "execution_count": 42,
      "outputs": [
        {
          "output_type": "display_data",
          "data": {
            "image/png": "[encoded data removed]",
            "text/plain": [
              "<Figure size 576x396 with 1 Axes>"
            ]
          },
          "metadata": {
            "tags": []
          }
        }
      ]
    },
    {
      "metadata": {
        "id": "wRLm_tnHjnse",
        "colab_type": "code",
        "colab": {
          "base_uri": "https://localhost:8080/",
          "height": 315
        },
        "outputId": "c761b46e-d369-4aae-fd9e-13eade332025"
      },
      "cell_type": "code",
      "source": [
        "model_lstm6 = Sequential() \n",
        "\n",
        "model_lstm6.add(embedding_layer)\n",
        "model_lstm6.add(Dropout(0.3))\n",
        "#model_lstm.add(GlobalAveragePooling1DMasked())\n",
        "\n",
        "model_lstm6.add(LSTM(100)) \n",
        "model_lstm6.add(Dropout(0.3))\n",
        "model_lstm6.add(Dense(5, activation='softmax')) \n",
        "model_lstm6.compile(loss='categorical_crossentropy',optimizer='adam', metrics=['accuracy']) \n",
        "\n",
        "model_lstm6.summary()"
      ],
      "execution_count": 38,
      "outputs": [
        {
          "output_type": "stream",
          "text": [
            "_________________________________________________________________\n",
            "Layer (type)                 Output Shape              Param #   \n",
            "=================================================================\n",
            "embedding_1 (Embedding)      (None, 154, 100)          3672200   \n",
            "_________________________________________________________________\n",
            "dropout_3 (Dropout)          (None, 154, 100)          0         \n",
            "_________________________________________________________________\n",
            "lstm_3 (LSTM)                (None, 100)               80400     \n",
            "_________________________________________________________________\n",
            "dropout_4 (Dropout)          (None, 100)               0         \n",
            "_________________________________________________________________\n",
            "dense_5 (Dense)              (None, 5)                 505       \n",
            "=================================================================\n",
            "Total params: 3,753,105\n",
            "Trainable params: 80,905\n",
            "Non-trainable params: 3,672,200\n",
            "_________________________________________________________________\n"
          ],
          "name": "stdout"
        }
      ]
    },
    {
      "metadata": {
        "id": "MT46fpbVj4nv",
        "colab_type": "code",
        "colab": {
          "base_uri": "https://localhost:8080/",
          "height": 283
        },
        "outputId": "e1c1dde5-20e1-4f3c-b4f3-b14dcf347379"
      },
      "cell_type": "code",
      "source": [
        "history_lstm6 = model_lstm6.fit(x_train,\n",
        "                    y_train,\n",
        "                    epochs=6,\n",
        "                    batch_size=16,\n",
        "                    validation_data=(x_val, y_val),\n",
        "                    verbose=1)"
      ],
      "execution_count": 40,
      "outputs": [
        {
          "output_type": "stream",
          "text": [
            "Train on 16505 samples, validate on 4127 samples\n",
            "Epoch 1/6\n",
            "16505/16505 [==============================] - 142s 9ms/step - loss: 0.9822 - acc: 0.5524 - val_loss: 0.9809 - val_acc: 0.5498\n",
            "Epoch 2/6\n",
            "16505/16505 [==============================] - 141s 9ms/step - loss: 0.9149 - acc: 0.5890 - val_loss: 0.9613 - val_acc: 0.5602\n",
            "Epoch 3/6\n",
            "16505/16505 [==============================] - 138s 8ms/step - loss: 0.8886 - acc: 0.5999 - val_loss: 0.9398 - val_acc: 0.5638\n",
            "Epoch 4/6\n",
            "16505/16505 [==============================] - 139s 8ms/step - loss: 0.8655 - acc: 0.6101 - val_loss: 0.9257 - val_acc: 0.5774\n",
            "Epoch 5/6\n",
            "16505/16505 [==============================] - 139s 8ms/step - loss: 0.8481 - acc: 0.6204 - val_loss: 0.9412 - val_acc: 0.5750\n",
            "Epoch 6/6\n",
            "16505/16505 [==============================] - 140s 9ms/step - loss: 0.8314 - acc: 0.6250 - val_loss: 0.9238 - val_acc: 0.5837\n"
          ],
          "name": "stdout"
        }
      ]
    },
    {
      "metadata": {
        "id": "uYaK3pAinQpR",
        "colab_type": "code",
        "colab": {
          "base_uri": "https://localhost:8080/",
          "height": 52
        },
        "outputId": "ad9da038-1bdb-40a0-c1a0-a73beb0e514d"
      },
      "cell_type": "code",
      "source": [
        "results_lstm6 = model_lstm6.evaluate(x_val,y_val)\n",
        "print('Test Loss: ', results_lstm6[0], 'Test Accuracy: ',results_lstm6[1])"
      ],
      "execution_count": 41,
      "outputs": [
        {
          "output_type": "stream",
          "text": [
            "4127/4127 [==============================] - 4s 1ms/step\n",
            "Test Loss:  0.9237843861526747 Test Accuracy:  0.5837169856172455\n"
          ],
          "name": "stdout"
        }
      ]
    },
    {
      "metadata": {
        "id": "QgW-yyRsn8RC",
        "colab_type": "code",
        "colab": {
          "base_uri": "https://localhost:8080/",
          "height": 376
        },
        "outputId": "fe7e28cb-c868-4b45-a4e6-394e374afa30"
      },
      "cell_type": "code",
      "source": [
        "import matplotlib.pyplot as plt\n",
        "\n",
        "history_dict_lstm6 = history_lstm6.history\n",
        "\n",
        "acc = history_dict_lstm6['acc']\n",
        "val_acc = history_dict_lstm6['val_acc']\n",
        "loss = history_dict_lstm6['loss']\n",
        "val_loss = history_dict_lstm6['val_loss']\n",
        "\n",
        "epochs = range(1, len(acc) + 1)\n",
        "\n",
        "plt.plot(epochs, acc, 'bo', label='Training acc')\n",
        "plt.plot(epochs, val_acc, 'b', label='Validation acc')\n",
        "plt.title('Training and validation accuracy')\n",
        "plt.xlabel('Epochs')\n",
        "plt.ylabel('Accuracy')\n",
        "plt.legend()\n",
        "\n",
        "plt.show()"
      ],
      "execution_count": 43,
      "outputs": [
        {
          "output_type": "display_data",
          "data": {
            "image/png": "[encoded data removed]",
            "text/plain": [
              "<Figure size 576x396 with 1 Axes>"
            ]
          },
          "metadata": {
            "tags": []
          }
        }
      ]
    },
    {
      "metadata": {
        "id": "t_PsqZ1ioMvR",
        "colab_type": "code",
        "colab": {
          "base_uri": "https://localhost:8080/",
          "height": 262
        },
        "outputId": "367f2607-a37a-40f4-f665-487ed924298f"
      },
      "cell_type": "code",
      "source": [
        "os.listdir()"
      ],
      "execution_count": 44,
      "outputs": [
        {
          "output_type": "execute_result",
          "data": {
            "text/plain": [
              "['.config',\n",
              " 'glove.6B.50d.txt',\n",
              " 'SemEval2017-task4-dev.subtask-A.arabic.INPUT.txt',\n",
              " 'cc.ar.300.vec.gz',\n",
              " 'SemEval2017-task4-dev.subtask-CE.english.INPUT.txt',\n",
              " 'SemEval2017-task4-test.subtask-A.arabic.txt',\n",
              " '4a-arabic.zip',\n",
              " 'glove.6B.300d.txt',\n",
              " 'cc.ar.300.vec',\n",
              " 'glove.6B.zip',\n",
              " '4c-english.zip',\n",
              " 'glove.6B.100d.txt',\n",
              " 'glove.6B.200d.txt',\n",
              " 'sample_data']"
            ]
          },
          "metadata": {
            "tags": []
          },
          "execution_count": 44
        }
      ]
    },
    {
      "metadata": {
        "id": "SfoviFfxo3I1",
        "colab_type": "code",
        "colab": {
          "base_uri": "https://localhost:8080/",
          "height": 216
        },
        "outputId": "bfbf3fe0-0ded-4f49-833a-b0573fb3d63e"
      },
      "cell_type": "code",
      "source": [
        "text_file = open(\"SemEval2017-task4-test.subtask-CE.english.txt\", \"r\")\n",
        "test_corpus = text_file.read()\n",
        "print(len(test_corpus))\n",
        "print(test_corpus[:1000])"
      ],
      "execution_count": 47,
      "outputs": [
        {
          "output_type": "stream",
          "text": [
            "747542\n",
            "55040\tgrayson allen\t2\tGrayson Allen is so cute 😭😭😭\n",
            "801608340082162944\tgrayson allen\t0\t#FrankJackson Grayson Allen & Frank Jackson Duke Full Highlights 11.15.16. vs Kansas - 23 … https://t.co/TQrtLTobuG https://t.co/SF1DuAnL6c\n",
            "801608486736034944\tgrayson allen\t0\tFrank Jackson led the Blue Devils with 19 points along with Grayson Allen who also put up 17 on the board. #Duke\n",
            "801609588449693056\tgrayson allen\t0\tGrayson Allen passed Antonio Lang & Andre Dawkins into 62nd #DukeScoringList\n",
            "801610715350055936\tgrayson allen\t1\t@BrocKuerzi they went down to the last play against Kansas without 2 or 3 of their starters and Grayson Allen is winning POY\n",
            "801611617783992064\tgrayson allen\t1\t@BrocKuerzi lol Grayson Allen would outscore every guard on UK's team\n",
            "801612735385661056\tgrayson allen\t0\t@brendan_gacek Grayson Allen is a Dwayne wade James harden hybrid\n",
            "801617001965874944\tgrayson allen\t-1\t@cagle_erin @katiehindersman Katie, don't worry about the Duke/Grayson Allen talk. He will trip people all year \n"
          ],
          "name": "stdout"
        }
      ]
    },
    {
      "metadata": {
        "id": "Pghf-pUCpb5U",
        "colab_type": "code",
        "colab": {
          "base_uri": "https://localhost:8080/",
          "height": 110
        },
        "outputId": "dc455931-d9a5-4531-e9e3-88ce537438b9"
      },
      "cell_type": "code",
      "source": [
        "labels = []\n",
        "targets = []\n",
        "test_tweets = []\n",
        "f = csv.reader(io.StringIO(test_corpus), delimiter='\\t')\n",
        "for row in f:\n",
        "  targets.append(row[1])\n",
        "  labels.append(row[2])\n",
        "  test_tweets.append(row[3])\n",
        "\n",
        "\n",
        "normalize_corpus = np.vectorize(normalize_document)\n",
        "normalized_corpus = [[word.lower() for word in sent if word not in remove_terms] for sent in test_tweets]\n",
        "\n",
        "normalized_corpus = [''.join(tok_sent) for tok_sent in normalized_corpus]\n",
        "\n",
        "#normalized_corpus = filter(None, normalize_corpus(normalized_corpus))\n",
        "#normalized_corpus = list(normalized_corpus)\n",
        "#normalized_corpus = [tok_sent for tok_sent in normalized_corpus if len(tok_sent.split()) > 2]\n",
        "\n",
        "normalized_corpus = list(normalized_corpus)\n",
        "\n",
        "\n",
        "target_mask = '*TARGET*'\n",
        "normalized_tweets = []\n",
        "for i in range(len(tweets)):\n",
        "  new_tweet = normalized_corpus[i].replace(targets[i],target_mask)\n",
        "  normalized_tweets.append(new_tweet)\n",
        "\n",
        "normalized_corpus = normalized_tweets #To reuse earlier code\n",
        "\n",
        "\n",
        "tokenizer = Tokenizer(nb_words=VOCAB_SIZE)\n",
        "tokenizer.fit_on_texts(normalized_corpus)\n",
        "sequences = tokenizer.texts_to_sequences(normalized_corpus)\n",
        "\n",
        "word_index = tokenizer.word_index\n",
        "print('Found %s unique tokens.' % len(word_index))\n",
        "\n",
        "\n",
        "data = pad_sequences(sequences, maxlen=MAXIMUM_LENGTH)\n",
        "\n",
        "print('Shape of data tensor:', data.shape)\n",
        "\n",
        "\n",
        "# split the data into a training set and a validation set\n",
        "indices = np.arange(data.shape[0])\n",
        "#np.random.shuffle(indices)\n",
        "data = data[indices]\n",
        "\n",
        "nb_validation_samples = int(TRAIN_SPLIT * data.shape[0])\n",
        "\n",
        "x_val = data[:-nb_validation_samples]\n",
        "y_val = labels[:-nb_validation_samples]\n",
        "x_train = data[-nb_validation_samples:]\n",
        "y_train = labels[-nb_validation_samples:]\n",
        "\n",
        "encoder = LabelBinarizer()\n",
        "encoder.fit(y_train)\n",
        "y_train = encoder.transform(y_train)\n",
        "y_val = encoder.transform(y_val)\n"
      ],
      "execution_count": 50,
      "outputs": [
        {
          "output_type": "stream",
          "text": [
            "/usr/local/lib/python3.6/dist-packages/keras_preprocessing/text.py:178: UserWarning: The `nb_words` argument in `Tokenizer` has been renamed `num_words`.\n",
            "  warnings.warn('The `nb_words` argument in `Tokenizer` '\n"
          ],
          "name": "stderr"
        },
        {
          "output_type": "stream",
          "text": [
            "Found 17367 unique tokens.\n",
            "Shape of data tensor: (4951, 154)\n"
          ],
          "name": "stdout"
        }
      ]
    }
  ]
}