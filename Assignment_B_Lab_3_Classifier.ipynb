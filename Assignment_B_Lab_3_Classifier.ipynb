{
  "nbformat": 4,
  "nbformat_minor": 0,
  "metadata": {
    "colab": {
      "name": "Submit Lab 3 Classifier.ipynb",
      "version": "0.3.2",
      "provenance": [],
      "collapsed_sections": []
    },
    "kernelspec": {
      "name": "python3",
      "display_name": "Python 3"
    },
    "accelerator": "GPU"
  },
  "cells": [
    {
      "metadata": {
        "id": "hExKCzh6doIW",
        "colab_type": "text"
      },
      "cell_type": "markdown",
      "source": [
        "# Lab 3 - Neural Network Classifier Using Simple Word Embeddings\n",
        "\n",
        "\n",
        "\n",
        "---\n",
        "\n",
        "\n",
        "\n",
        "\n",
        "\n",
        "\n",
        "\n",
        "\n",
        "\n",
        "\n",
        "\n",
        "\n",
        "\n"
      ]
    },
    {
      "metadata": {
        "id": "HixoFOoCIJ7V",
        "colab_type": "text"
      },
      "cell_type": "markdown",
      "source": [
        "In this session, we demonstrate how to solve a text classification task using simple \n",
        "feedforward neural network classifier. We will use IMDB Large Movie Review Dataset to train a binary classification model, able to predict whether a review is positive or negative. First, our network takes one-hot word vectors as input, averages them to make one vector and trains a \n",
        "fully-connected layer to predict the output. In the second part, we replace the one-hot vectors with the word embeddings and add a layer to see how much that improves the performance.\n",
        "\n",
        "We are going to use Keras Sequential API in this session. The Sequential API allows you to make models layer-by-layer. But it is not straightforward to define models where layers connect to more than just the previous and next layers. "
      ]
    },
    {
      "metadata": {
        "id": "m8fpBfhBpupy",
        "colab_type": "code",
        "outputId": "0173d26b-e134-4ad7-c746-a0570aad543f",
        "colab": {
          "base_uri": "https://localhost:8080/",
          "height": 35
        }
      },
      "cell_type": "code",
      "source": [
        "import keras\n",
        "import numpy as np\n",
        "from keras.layers import Lambda, GlobalAveragePooling1D, Dense, Embedding\n",
        "from keras import backend as K\n",
        "from keras.models import Sequential\n",
        "from keras.initializers import Constant\n",
        "import os"
      ],
      "execution_count": 1,
      "outputs": [
        {
          "output_type": "stream",
          "text": [
            "Using TensorFlow backend.\n"
          ],
          "name": "stderr"
        }
      ]
    },
    {
      "metadata": {
        "id": "cqvPQvgvPv1W",
        "colab_type": "text"
      },
      "cell_type": "markdown",
      "source": [
        "### Downloading data"
      ]
    },
    {
      "metadata": {
        "id": "EundMtGPpCdf",
        "colab_type": "text"
      },
      "cell_type": "markdown",
      "source": [
        "The dataset we will be using is the IMDB Large Movie Review Dataset, which consists of 50000 labeled movie reviews. These are split into 25,000 reviews for training and 25,000 reviews for testing. The  dataset contains an even number of positive and negative reviews, so randomly guessing yields 50% accuracy. The data is preprocessed. For text classification, it is ususal to limit the size of the vocabulary to stop the dataset from becoming too sparse, creating possible overfitting. We keep the top 10,000 most frequently occurring words in the training data.\n"
      ]
    },
    {
      "metadata": {
        "id": "NyuSzkafqNca",
        "colab_type": "code",
        "outputId": "179dedad-31fc-4f6c-99ca-fe7da9dfcf92",
        "colab": {
          "base_uri": "https://localhost:8080/",
          "height": 52
        }
      },
      "cell_type": "code",
      "source": [
        "imdb = keras.datasets.imdb\n",
        "(X_train, y_train), (X_test, y_test) = imdb.load_data(num_words=10000)"
      ],
      "execution_count": 2,
      "outputs": [
        {
          "output_type": "stream",
          "text": [
            "Downloading data from https://s3.amazonaws.com/text-datasets/imdb.npz\n",
            "17465344/17464789 [==============================] - 1s 0us/step\n"
          ],
          "name": "stdout"
        }
      ]
    },
    {
      "metadata": {
        "id": "6U4iCV9-rmay",
        "colab_type": "text"
      },
      "cell_type": "markdown",
      "source": [
        "We now can start playing around with the data, let’s first see the length:"
      ]
    },
    {
      "metadata": {
        "id": "h-gjWRAuqg5s",
        "colab_type": "code",
        "outputId": "9e8fe9ec-c942-4bf8-f275-a56af7da47ed",
        "colab": {
          "base_uri": "https://localhost:8080/",
          "height": 35
        }
      },
      "cell_type": "code",
      "source": [
        "print(\"Training entries: {}, labels: {}\".format(len(X_train), len(y_train)))"
      ],
      "execution_count": 3,
      "outputs": [
        {
          "output_type": "stream",
          "text": [
            "Training entries: 25000, labels: 25000\n"
          ],
          "name": "stdout"
        }
      ]
    },
    {
      "metadata": {
        "id": "MTRZrpcyr-4x",
        "colab_type": "text"
      },
      "cell_type": "markdown",
      "source": [
        "The  reviews have been converted to integers and each integer represents a  word in a dictionary. "
      ]
    },
    {
      "metadata": {
        "id": "79Ev72Kgq4XL",
        "colab_type": "code",
        "outputId": "7c9bbbae-a405-4f82-bc58-5b0f19fefb68",
        "colab": {
          "base_uri": "https://localhost:8080/",
          "height": 3839
        }
      },
      "cell_type": "code",
      "source": [
        " X_train[0]"
      ],
      "execution_count": 4,
      "outputs": [
        {
          "output_type": "execute_result",
          "data": {
            "text/plain": [
              "[1,\n",
              " 14,\n",
              " 22,\n",
              " 16,\n",
              " 43,\n",
              " 530,\n",
              " 973,\n",
              " 1622,\n",
              " 1385,\n",
              " 65,\n",
              " 458,\n",
              " 4468,\n",
              " 66,\n",
              " 3941,\n",
              " 4,\n",
              " 173,\n",
              " 36,\n",
              " 256,\n",
              " 5,\n",
              " 25,\n",
              " 100,\n",
              " 43,\n",
              " 838,\n",
              " 112,\n",
              " 50,\n",
              " 670,\n",
              " 2,\n",
              " 9,\n",
              " 35,\n",
              " 480,\n",
              " 284,\n",
              " 5,\n",
              " 150,\n",
              " 4,\n",
              " 172,\n",
              " 112,\n",
              " 167,\n",
              " 2,\n",
              " 336,\n",
              " 385,\n",
              " 39,\n",
              " 4,\n",
              " 172,\n",
              " 4536,\n",
              " 1111,\n",
              " 17,\n",
              " 546,\n",
              " 38,\n",
              " 13,\n",
              " 447,\n",
              " 4,\n",
              " 192,\n",
              " 50,\n",
              " 16,\n",
              " 6,\n",
              " 147,\n",
              " 2025,\n",
              " 19,\n",
              " 14,\n",
              " 22,\n",
              " 4,\n",
              " 1920,\n",
              " 4613,\n",
              " 469,\n",
              " 4,\n",
              " 22,\n",
              " 71,\n",
              " 87,\n",
              " 12,\n",
              " 16,\n",
              " 43,\n",
              " 530,\n",
              " 38,\n",
              " 76,\n",
              " 15,\n",
              " 13,\n",
              " 1247,\n",
              " 4,\n",
              " 22,\n",
              " 17,\n",
              " 515,\n",
              " 17,\n",
              " 12,\n",
              " 16,\n",
              " 626,\n",
              " 18,\n",
              " 2,\n",
              " 5,\n",
              " 62,\n",
              " 386,\n",
              " 12,\n",
              " 8,\n",
              " 316,\n",
              " 8,\n",
              " 106,\n",
              " 5,\n",
              " 4,\n",
              " 2223,\n",
              " 5244,\n",
              " 16,\n",
              " 480,\n",
              " 66,\n",
              " 3785,\n",
              " 33,\n",
              " 4,\n",
              " 130,\n",
              " 12,\n",
              " 16,\n",
              " 38,\n",
              " 619,\n",
              " 5,\n",
              " 25,\n",
              " 124,\n",
              " 51,\n",
              " 36,\n",
              " 135,\n",
              " 48,\n",
              " 25,\n",
              " 1415,\n",
              " 33,\n",
              " 6,\n",
              " 22,\n",
              " 12,\n",
              " 215,\n",
              " 28,\n",
              " 77,\n",
              " 52,\n",
              " 5,\n",
              " 14,\n",
              " 407,\n",
              " 16,\n",
              " 82,\n",
              " 2,\n",
              " 8,\n",
              " 4,\n",
              " 107,\n",
              " 117,\n",
              " 5952,\n",
              " 15,\n",
              " 256,\n",
              " 4,\n",
              " 2,\n",
              " 7,\n",
              " 3766,\n",
              " 5,\n",
              " 723,\n",
              " 36,\n",
              " 71,\n",
              " 43,\n",
              " 530,\n",
              " 476,\n",
              " 26,\n",
              " 400,\n",
              " 317,\n",
              " 46,\n",
              " 7,\n",
              " 4,\n",
              " 2,\n",
              " 1029,\n",
              " 13,\n",
              " 104,\n",
              " 88,\n",
              " 4,\n",
              " 381,\n",
              " 15,\n",
              " 297,\n",
              " 98,\n",
              " 32,\n",
              " 2071,\n",
              " 56,\n",
              " 26,\n",
              " 141,\n",
              " 6,\n",
              " 194,\n",
              " 7486,\n",
              " 18,\n",
              " 4,\n",
              " 226,\n",
              " 22,\n",
              " 21,\n",
              " 134,\n",
              " 476,\n",
              " 26,\n",
              " 480,\n",
              " 5,\n",
              " 144,\n",
              " 30,\n",
              " 5535,\n",
              " 18,\n",
              " 51,\n",
              " 36,\n",
              " 28,\n",
              " 224,\n",
              " 92,\n",
              " 25,\n",
              " 104,\n",
              " 4,\n",
              " 226,\n",
              " 65,\n",
              " 16,\n",
              " 38,\n",
              " 1334,\n",
              " 88,\n",
              " 12,\n",
              " 16,\n",
              " 283,\n",
              " 5,\n",
              " 16,\n",
              " 4472,\n",
              " 113,\n",
              " 103,\n",
              " 32,\n",
              " 15,\n",
              " 16,\n",
              " 5345,\n",
              " 19,\n",
              " 178,\n",
              " 32]"
            ]
          },
          "metadata": {
            "tags": []
          },
          "execution_count": 4
        }
      ]
    },
    {
      "metadata": {
        "id": "Tvuu4KhStqei",
        "colab_type": "text"
      },
      "cell_type": "markdown",
      "source": [
        "We can convert integers back to words by querying a dictionary object that contains the integer to string mapping:"
      ]
    },
    {
      "metadata": {
        "id": "gMCH1OoDrSNR",
        "colab_type": "code",
        "outputId": "537dfce1-fae2-4eaa-8c1f-65654a5328bf",
        "colab": {
          "base_uri": "https://localhost:8080/",
          "height": 52
        }
      },
      "cell_type": "code",
      "source": [
        "\n",
        "word_index = imdb.get_word_index()"
      ],
      "execution_count": 5,
      "outputs": [
        {
          "output_type": "stream",
          "text": [
            "Downloading data from https://s3.amazonaws.com/text-datasets/imdb_word_index.json\n",
            "1646592/1641221 [==============================] - 0s 0us/step\n"
          ],
          "name": "stdout"
        }
      ]
    },
    {
      "metadata": {
        "id": "5IreFXgruZot",
        "colab_type": "text"
      },
      "cell_type": "markdown",
      "source": [
        "Index 1 represents the beginning of the sentence and the index 2 is assigned to all unknown tokens. Index 0 will be used for padding."
      ]
    },
    {
      "metadata": {
        "id": "abIb7Fe5u3GQ",
        "colab_type": "code",
        "colab": {}
      },
      "cell_type": "code",
      "source": [
        "\n",
        "word_index = {k:(v+3) for k,v in word_index.items()}\n",
        "word_index[\"<PAD>\"] = 0\n",
        "word_index[\"<START>\"] = 1\n",
        "word_index[\"<UNK>\"] = 2  \n",
        "word_index[\"<UNUSED>\"] = 3"
      ],
      "execution_count": 0,
      "outputs": []
    },
    {
      "metadata": {
        "id": "9TnnSuspvC5b",
        "colab_type": "text"
      },
      "cell_type": "markdown",
      "source": [
        "To reverse key and values in a dictionary:"
      ]
    },
    {
      "metadata": {
        "id": "nKOiVVXQu-_I",
        "colab_type": "code",
        "colab": {}
      },
      "cell_type": "code",
      "source": [
        "reverse_word_index = dict([(value, key) for (key, value) in word_index.items()])"
      ],
      "execution_count": 0,
      "outputs": []
    },
    {
      "metadata": {
        "id": "ZmTJEm8xvUvW",
        "colab_type": "text"
      },
      "cell_type": "markdown",
      "source": [
        "To view a word:"
      ]
    },
    {
      "metadata": {
        "id": "SqN5jgVKvJJZ",
        "colab_type": "code",
        "outputId": "946fdd05-f565-4f39-a206-1f095c53e4b4",
        "colab": {
          "base_uri": "https://localhost:8080/",
          "height": 35
        }
      },
      "cell_type": "code",
      "source": [
        "reverse_word_index[25]"
      ],
      "execution_count": 8,
      "outputs": [
        {
          "output_type": "execute_result",
          "data": {
            "text/plain": [
              "'you'"
            ]
          },
          "metadata": {
            "tags": []
          },
          "execution_count": 8
        }
      ]
    },
    {
      "metadata": {
        "id": "Q6QjrzgVvrYn",
        "colab_type": "text"
      },
      "cell_type": "markdown",
      "source": [
        "And to recreate the whole sentence from our training data we define decode_review:\n"
      ]
    },
    {
      "metadata": {
        "id": "wvrKeMgxvWlv",
        "colab_type": "code",
        "colab": {}
      },
      "cell_type": "code",
      "source": [
        "def decode_review(text):\n",
        "    return ' '.join([reverse_word_index.get(i, '?') for i in text])"
      ],
      "execution_count": 0,
      "outputs": []
    },
    {
      "metadata": {
        "id": "Sxg4YA_NvdRg",
        "colab_type": "code",
        "outputId": "fe8473ee-6757-413d-89e3-69c4c19be933",
        "colab": {
          "base_uri": "https://localhost:8080/",
          "height": 70
        }
      },
      "cell_type": "code",
      "source": [
        "decode_review(X_train[10])"
      ],
      "execution_count": 10,
      "outputs": [
        {
          "output_type": "execute_result",
          "data": {
            "text/plain": [
              "\"<START> french horror cinema has seen something of a revival over the last couple of years with great films such as inside and <UNK> romance <UNK> on to the scene <UNK> <UNK> the revival just slightly but stands head and shoulders over most modern horror titles and is surely one of the best french horror films ever made <UNK> was obviously shot on a low budget but this is made up for in far more ways than one by the originality of the film and this in turn is <UNK> by the excellent writing and acting that ensure the film is a winner the plot focuses on two main ideas prison and black magic the central character is a man named <UNK> sent to prison for fraud he is put in a cell with three others the quietly insane <UNK> body building <UNK> marcus and his retarded boyfriend daisy after a short while in the cell together they stumble upon a hiding place in the wall that contains an old <UNK> after <UNK> part of it they soon realise its magical powers and realise they may be able to use it to break through the prison walls br br black magic is a very interesting topic and i'm actually quite surprised that there aren't more films based on it as there's so much scope for things to do with it it's fair to say that <UNK> makes the best of it's <UNK> as despite it's <UNK> the film never actually feels restrained and manages to flow well throughout director eric <UNK> provides a great atmosphere for the film the fact that most of it takes place inside the central prison cell <UNK> that the film feels very claustrophobic and this immensely benefits the central idea of the prisoners wanting to use magic to break out of the cell it's very easy to get behind them it's often said that the unknown is the thing that really <UNK> people and this film proves that as the director <UNK> that we can never really be sure of exactly what is round the corner and this helps to ensure that <UNK> actually does manage to be quite frightening the film is memorable for a lot of reasons outside the central plot the characters are all very interesting in their own way and the fact that the book itself almost takes on its own character is very well done anyone worried that the film won't deliver by the end won't be disappointed either as the ending both makes sense and manages to be quite horrifying overall <UNK> is a truly great horror film and one of the best of the decade highly recommended viewing\""
            ]
          },
          "metadata": {
            "tags": []
          },
          "execution_count": 10
        }
      ]
    },
    {
      "metadata": {
        "id": "c8gIzXncfaJK",
        "colab_type": "text"
      },
      "cell_type": "markdown",
      "source": [
        "### Creating One-hot word vectors"
      ]
    },
    {
      "metadata": {
        "id": "B9W4yb3rv_E0",
        "colab_type": "text"
      },
      "cell_type": "markdown",
      "source": [
        "It is  common to use one-hot representation as input in Natural Language Processing tasks. In Keras, the Embedding layer takes an index as an input and convert it to one-hot vector with the length of the vocabulary size. Then multiplies these vectors by a normal weight matrix. But there is no way to only get a one-hot vector as the output of a layer in Keras. To solve this we use Lambda() layer and a function that creates the one-hot layer. "
      ]
    },
    {
      "metadata": {
        "id": "RPO_pK9zH4C5",
        "colab_type": "code",
        "colab": {}
      },
      "cell_type": "code",
      "source": [
        "def OneHot(input_dim=None, input_length=None):\n",
        "    \n",
        "    if input_dim is None or input_length is None:\n",
        "        raise TypeError(\"input_dim or input_length is not set\")\n",
        "\n",
        "    \n",
        "    def _one_hot(x, num_classes):\n",
        "        return K.one_hot(K.cast(x, 'uint8'),\n",
        "                          num_classes=num_classes)\n",
        "\n",
        "    return Lambda(_one_hot,\n",
        "                  arguments={'num_classes': input_dim},\n",
        "                  input_shape=(input_length,))"
      ],
      "execution_count": 0,
      "outputs": []
    },
    {
      "metadata": {
        "id": "364d3MAw0ez9",
        "colab_type": "text"
      },
      "cell_type": "markdown",
      "source": [
        "input_dim refers to the length of the one-hot vector and input_length refers to the length of the input sequence. Since the input to K.one_hot should be an integer tensor, we cast x to one (Keras passes around float tensors by default).\n",
        "\n"
      ]
    },
    {
      "metadata": {
        "id": "VHz76GNA2M4r",
        "colab_type": "text"
      },
      "cell_type": "markdown",
      "source": [
        " Each text sequence has in most cases different length of words. Here, we fill sequences with a pad token (0) to fit the size. This special tokens is then masked not to be accounted in averaging, loss calculation etc. We set the maximum length to 256."
      ]
    },
    {
      "metadata": {
        "id": "9G_o7PsvgSFt",
        "colab_type": "text"
      },
      "cell_type": "markdown",
      "source": [
        "### Preparing input data"
      ]
    },
    {
      "metadata": {
        "id": "jiFn7sd_wF5j",
        "colab_type": "code",
        "colab": {}
      },
      "cell_type": "code",
      "source": [
        "VOCAB_SIZE = 10000\n",
        "MAX_SEQUENCE_LENGTH = 256\n",
        "\n",
        "X_train_enc = keras.preprocessing.sequence.pad_sequences(X_train,\n",
        "                                                        value=word_index[\"<PAD>\"],\n",
        "                                                        padding='post',\n",
        "                                                        maxlen=256)\n",
        "\n",
        "X_test_enc = keras.preprocessing.sequence.pad_sequences(X_test,\n",
        "                                                       value=word_index[\"<PAD>\"],\n",
        "                                                       padding='post',\n",
        "                                                       maxlen=256)"
      ],
      "execution_count": 0,
      "outputs": []
    },
    {
      "metadata": {
        "id": "kcjFH1wKF_7d",
        "colab_type": "text"
      },
      "cell_type": "markdown",
      "source": [
        "And to view a padded review:"
      ]
    },
    {
      "metadata": {
        "id": "zwH4dcfW_a18",
        "colab_type": "code",
        "outputId": "fcc38195-3f08-4854-d6f6-6b5c9678a55d",
        "colab": {
          "base_uri": "https://localhost:8080/",
          "height": 350
        }
      },
      "cell_type": "code",
      "source": [
        "print(X_train_enc[1])\n"
      ],
      "execution_count": 13,
      "outputs": [
        {
          "output_type": "stream",
          "text": [
            "[   1  194 1153  194 8255   78  228    5    6 1463 4369 5012  134   26\n",
            "    4  715    8  118 1634   14  394   20   13  119  954  189  102    5\n",
            "  207  110 3103   21   14   69  188    8   30   23    7    4  249  126\n",
            "   93    4  114    9 2300 1523    5  647    4  116    9   35 8163    4\n",
            "  229    9  340 1322    4  118    9    4  130 4901   19    4 1002    5\n",
            "   89   29  952   46   37    4  455    9   45   43   38 1543 1905  398\n",
            "    4 1649   26 6853    5  163   11 3215    2    4 1153    9  194  775\n",
            "    7 8255    2  349 2637  148  605    2 8003   15  123  125   68    2\n",
            " 6853   15  349  165 4362   98    5    4  228    9   43    2 1157   15\n",
            "  299  120    5  120  174   11  220  175  136   50    9 4373  228 8255\n",
            "    5    2  656  245 2350    5    4 9837  131  152  491   18    2   32\n",
            " 7464 1212   14    9    6  371   78   22  625   64 1382    9    8  168\n",
            "  145   23    4 1690   15   16    4 1355    5   28    6   52  154  462\n",
            "   33   89   78  285   16  145   95    0    0    0    0    0    0    0\n",
            "    0    0    0    0    0    0    0    0    0    0    0    0    0    0\n",
            "    0    0    0    0    0    0    0    0    0    0    0    0    0    0\n",
            "    0    0    0    0    0    0    0    0    0    0    0    0    0    0\n",
            "    0    0    0    0    0    0    0    0    0    0    0    0    0    0\n",
            "    0    0    0    0]\n"
          ],
          "name": "stdout"
        }
      ]
    },
    {
      "metadata": {
        "id": "F1zcxFwNGepA",
        "colab_type": "text"
      },
      "cell_type": "markdown",
      "source": [
        "Now we want to build the neural network model. We  are going to have a hidden layer with 16 hidden units. \n",
        "\n",
        "First, we want to transform each index to an embedded vector and then average all vectors to a single one. It has been showed that unweighted average of word vectors outperforms many complicated networks that model semantic and syntactic compositionality. As an example you can take a look at this: (http://anthology.aclweb.org/P/P15/P15-1162.pdf)\n",
        "\n",
        "To average we need to ignore padded zeros:"
      ]
    },
    {
      "metadata": {
        "id": "Yi04MLIvJOGZ",
        "colab_type": "code",
        "colab": {}
      },
      "cell_type": "code",
      "source": [
        "class GlobalAveragePooling1DMasked(GlobalAveragePooling1D):\n",
        "    def call(self, x, mask=None):\n",
        "        if mask != None:\n",
        "            return K.sum(x, axis=1) / K.sum(mask, axis=1)\n",
        "        else:\n",
        "            return super().call(x)\n"
      ],
      "execution_count": 0,
      "outputs": []
    },
    {
      "metadata": {
        "id": "8FPeYWaXBVna",
        "colab_type": "text"
      },
      "cell_type": "markdown",
      "source": [
        ""
      ]
    },
    {
      "metadata": {
        "id": "whgIIB5ggjna",
        "colab_type": "text"
      },
      "cell_type": "markdown",
      "source": [
        "### Neural Network model using one-hot vectors"
      ]
    },
    {
      "metadata": {
        "id": "jlOLnlnSJgrU",
        "colab_type": "text"
      },
      "cell_type": "markdown",
      "source": [
        "The first layer is an one-hot layer. The second layer is to compute average on all word vectors in a sentence without considering padding. The  output vector is piped through a fully-connected layer. The last layer is connected with a single output node with the sigmoid activation function. The final value is a float between 0 and 1. \n",
        "The vocabulary count of the movie reviews (10000) is used as the input shape. At the end we visualize the model summary."
      ]
    },
    {
      "metadata": {
        "id": "_Pn83gBbxiK7",
        "colab_type": "code",
        "outputId": "68e444d4-c150-4a94-8735-2c2c6a3b8157",
        "colab": {
          "base_uri": "https://localhost:8080/",
          "height": 368
        }
      },
      "cell_type": "code",
      "source": [
        "# put your code here\n",
        "\n",
        "\n",
        "model = Sequential()\n",
        "#The first layer is an one-hot layer\n",
        "model.add(OneHot(input_dim=VOCAB_SIZE,\n",
        "                         input_length=MAX_SEQUENCE_LENGTH))\n",
        "\n",
        "\n",
        "#The second layer is to compute average on all word vectors \n",
        "model.add(GlobalAveragePooling1DMasked())\n",
        "\n",
        "\n",
        "#The output vector is piped through a fully-connected layer\n",
        "model.add(keras.layers.Dense(16, activation=K.relu))\n",
        "\n",
        "\n",
        "#The last layer is connected with a single output node with the sigmoid activation function\n",
        "model.add(keras.layers.Dense(1, activation=K.sigmoid))\n",
        "\n",
        "\n",
        "#The final value is a float between 0 and 1\n",
        "\n",
        "model.summary()\n",
        "#model.compile(loss='mse', optimizer='sgd')"
      ],
      "execution_count": 16,
      "outputs": [
        {
          "output_type": "stream",
          "text": [
            "WARNING:tensorflow:From /usr/local/lib/python3.6/dist-packages/tensorflow/python/framework/op_def_library.py:263: colocate_with (from tensorflow.python.framework.ops) is deprecated and will be removed in a future version.\n",
            "Instructions for updating:\n",
            "Colocations handled automatically by placer.\n",
            "_________________________________________________________________\n",
            "Layer (type)                 Output Shape              Param #   \n",
            "=================================================================\n",
            "lambda_1 (Lambda)            (None, 256, 10000)        0         \n",
            "_________________________________________________________________\n",
            "global_average_pooling1d_mas (None, 10000)             0         \n",
            "_________________________________________________________________\n",
            "dense_1 (Dense)              (None, 16)                160016    \n",
            "_________________________________________________________________\n",
            "dense_2 (Dense)              (None, 1)                 17        \n",
            "=================================================================\n",
            "Total params: 160,033\n",
            "Trainable params: 160,033\n",
            "Non-trainable params: 0\n",
            "_________________________________________________________________\n"
          ],
          "name": "stdout"
        }
      ]
    },
    {
      "metadata": {
        "id": "_Mz96xpCgvTj",
        "colab_type": "text"
      },
      "cell_type": "markdown",
      "source": [
        "### Training the model"
      ]
    },
    {
      "metadata": {
        "id": "F3HbW_IKLqwT",
        "colab_type": "text"
      },
      "cell_type": "markdown",
      "source": [
        "To compile the model we need a loss function and an optimizer. We use binary_crossentropy loss function which is just a special case of categorical cross entropy. We also use Adam optimizer that can be used instead of the classical stochastic gradient descent procedure to update network weights iterative based in training data. You can read more about it here:\n",
        "(https://arxiv.org/abs/1412.6980v8\n",
        ")\n"
      ]
    },
    {
      "metadata": {
        "id": "qh1PWTNMxjUw",
        "colab_type": "code",
        "colab": {}
      },
      "cell_type": "code",
      "source": [
        "model.compile(optimizer='adam',\n",
        "              loss='binary_crossentropy',\n",
        "              metrics=['accuracy'])"
      ],
      "execution_count": 0,
      "outputs": []
    },
    {
      "metadata": {
        "id": "E1jwQQqCN5Ia",
        "colab_type": "text"
      },
      "cell_type": "markdown",
      "source": [
        "When training, we want to check the accuracy of the model on data it hasn't seen before. So we create a validation set:"
      ]
    },
    {
      "metadata": {
        "id": "f5lAqzQlxjSM",
        "colab_type": "code",
        "colab": {}
      },
      "cell_type": "code",
      "source": [
        "X_val = np.array(X_train_enc[:10000])\n",
        "partial_X_train = np.array(X_train_enc[10000:])\n",
        "\n",
        "y_val = np.array(y_train[:10000])\n",
        "partial_y_train = np.array(y_train[10000:])"
      ],
      "execution_count": 0,
      "outputs": []
    },
    {
      "metadata": {
        "id": "E8Kpo5G3OJEY",
        "colab_type": "text"
      },
      "cell_type": "markdown",
      "source": [
        "Then we start to train the model for 40 epochs in mini-batches of 512 samples and monitor the model's loss and accuracy on the validation set."
      ]
    },
    {
      "metadata": {
        "id": "99_z39KAxjPi",
        "colab_type": "code",
        "outputId": "67dd9137-f527-451a-c1b2-a93f51183b99",
        "colab": {
          "base_uri": "https://localhost:8080/",
          "height": 1510
        }
      },
      "cell_type": "code",
      "source": [
        "history = model.fit(partial_X_train,\n",
        "                    partial_y_train,\n",
        "                    epochs=40,\n",
        "                    batch_size=512,\n",
        "                    validation_data=(X_val, y_val),\n",
        "                    verbose=1)"
      ],
      "execution_count": 19,
      "outputs": [
        {
          "output_type": "stream",
          "text": [
            "WARNING:tensorflow:From /usr/local/lib/python3.6/dist-packages/tensorflow/python/ops/math_ops.py:3066: to_int32 (from tensorflow.python.ops.math_ops) is deprecated and will be removed in a future version.\n",
            "Instructions for updating:\n",
            "Use tf.cast instead.\n",
            "Train on 15000 samples, validate on 10000 samples\n",
            "Epoch 1/40\n",
            "15000/15000 [==============================] - 11s 733us/step - loss: 0.6924 - acc: 0.5181 - val_loss: 0.6916 - val_acc: 0.4992\n",
            "Epoch 2/40\n",
            "15000/15000 [==============================] - 8s 534us/step - loss: 0.6902 - acc: 0.5849 - val_loss: 0.6892 - val_acc: 0.6301\n",
            "Epoch 3/40\n",
            "15000/15000 [==============================] - 8s 534us/step - loss: 0.6876 - acc: 0.6609 - val_loss: 0.6865 - val_acc: 0.6644\n",
            "Epoch 4/40\n",
            "15000/15000 [==============================] - 8s 534us/step - loss: 0.6846 - acc: 0.6680 - val_loss: 0.6837 - val_acc: 0.6509\n",
            "Epoch 5/40\n",
            "15000/15000 [==============================] - 8s 533us/step - loss: 0.6811 - acc: 0.6743 - val_loss: 0.6802 - val_acc: 0.6601\n",
            "Epoch 6/40\n",
            "15000/15000 [==============================] - 8s 531us/step - loss: 0.6773 - acc: 0.6581 - val_loss: 0.6761 - val_acc: 0.6721\n",
            "Epoch 7/40\n",
            "15000/15000 [==============================] - 8s 536us/step - loss: 0.6730 - acc: 0.6663 - val_loss: 0.6720 - val_acc: 0.6732\n",
            "Epoch 8/40\n",
            "15000/15000 [==============================] - 8s 538us/step - loss: 0.6685 - acc: 0.6806 - val_loss: 0.6676 - val_acc: 0.6762\n",
            "Epoch 9/40\n",
            "15000/15000 [==============================] - 8s 537us/step - loss: 0.6636 - acc: 0.6848 - val_loss: 0.6634 - val_acc: 0.6774\n",
            "Epoch 10/40\n",
            "15000/15000 [==============================] - 8s 537us/step - loss: 0.6586 - acc: 0.6877 - val_loss: 0.6583 - val_acc: 0.6834\n",
            "Epoch 11/40\n",
            "15000/15000 [==============================] - 8s 537us/step - loss: 0.6533 - acc: 0.6899 - val_loss: 0.6534 - val_acc: 0.6856\n",
            "Epoch 12/40\n",
            "15000/15000 [==============================] - 8s 537us/step - loss: 0.6481 - acc: 0.6923 - val_loss: 0.6483 - val_acc: 0.6829\n",
            "Epoch 13/40\n",
            "15000/15000 [==============================] - 8s 536us/step - loss: 0.6428 - acc: 0.6947 - val_loss: 0.6432 - val_acc: 0.6862\n",
            "Epoch 14/40\n",
            "15000/15000 [==============================] - 8s 537us/step - loss: 0.6374 - acc: 0.6970 - val_loss: 0.6383 - val_acc: 0.6979\n",
            "Epoch 15/40\n",
            "15000/15000 [==============================] - 8s 536us/step - loss: 0.6320 - acc: 0.7010 - val_loss: 0.6332 - val_acc: 0.6989\n",
            "Epoch 16/40\n",
            "15000/15000 [==============================] - 8s 537us/step - loss: 0.6267 - acc: 0.7046 - val_loss: 0.6282 - val_acc: 0.7018\n",
            "Epoch 17/40\n",
            "15000/15000 [==============================] - 8s 538us/step - loss: 0.6214 - acc: 0.7058 - val_loss: 0.6238 - val_acc: 0.7022\n",
            "Epoch 18/40\n",
            "15000/15000 [==============================] - 8s 537us/step - loss: 0.6163 - acc: 0.7088 - val_loss: 0.6185 - val_acc: 0.7029\n",
            "Epoch 19/40\n",
            "15000/15000 [==============================] - 8s 537us/step - loss: 0.6114 - acc: 0.7098 - val_loss: 0.6138 - val_acc: 0.7032\n",
            "Epoch 20/40\n",
            "15000/15000 [==============================] - 8s 537us/step - loss: 0.6066 - acc: 0.7122 - val_loss: 0.6092 - val_acc: 0.7075\n",
            "Epoch 21/40\n",
            "15000/15000 [==============================] - 8s 537us/step - loss: 0.6016 - acc: 0.7171 - val_loss: 0.6048 - val_acc: 0.7116\n",
            "Epoch 22/40\n",
            "15000/15000 [==============================] - 8s 537us/step - loss: 0.5970 - acc: 0.7184 - val_loss: 0.6006 - val_acc: 0.7084\n",
            "Epoch 23/40\n",
            "15000/15000 [==============================] - 8s 535us/step - loss: 0.5927 - acc: 0.7181 - val_loss: 0.5962 - val_acc: 0.7135\n",
            "Epoch 24/40\n",
            "15000/15000 [==============================] - 8s 540us/step - loss: 0.5881 - acc: 0.7251 - val_loss: 0.5922 - val_acc: 0.7142\n",
            "Epoch 25/40\n",
            "15000/15000 [==============================] - 8s 535us/step - loss: 0.5840 - acc: 0.7229 - val_loss: 0.5882 - val_acc: 0.7202\n",
            "Epoch 26/40\n",
            "15000/15000 [==============================] - 8s 535us/step - loss: 0.5799 - acc: 0.7253 - val_loss: 0.5847 - val_acc: 0.7163\n",
            "Epoch 27/40\n",
            "15000/15000 [==============================] - 8s 535us/step - loss: 0.5761 - acc: 0.7266 - val_loss: 0.5812 - val_acc: 0.7233\n",
            "Epoch 28/40\n",
            "15000/15000 [==============================] - 8s 535us/step - loss: 0.5723 - acc: 0.7307 - val_loss: 0.5774 - val_acc: 0.7252\n",
            "Epoch 29/40\n",
            "15000/15000 [==============================] - 8s 536us/step - loss: 0.5687 - acc: 0.7320 - val_loss: 0.5740 - val_acc: 0.7257\n",
            "Epoch 30/40\n",
            "15000/15000 [==============================] - 8s 537us/step - loss: 0.5653 - acc: 0.7337 - val_loss: 0.5710 - val_acc: 0.7237\n",
            "Epoch 31/40\n",
            "15000/15000 [==============================] - 8s 536us/step - loss: 0.5623 - acc: 0.7315 - val_loss: 0.5676 - val_acc: 0.7293\n",
            "Epoch 32/40\n",
            "15000/15000 [==============================] - 8s 535us/step - loss: 0.5589 - acc: 0.7367 - val_loss: 0.5651 - val_acc: 0.7318\n",
            "Epoch 33/40\n",
            "15000/15000 [==============================] - 8s 537us/step - loss: 0.5560 - acc: 0.7371 - val_loss: 0.5619 - val_acc: 0.7325\n",
            "Epoch 34/40\n",
            "15000/15000 [==============================] - 8s 536us/step - loss: 0.5531 - acc: 0.7395 - val_loss: 0.5594 - val_acc: 0.7312\n",
            "Epoch 35/40\n",
            "15000/15000 [==============================] - 8s 536us/step - loss: 0.5507 - acc: 0.7402 - val_loss: 0.5568 - val_acc: 0.7353\n",
            "Epoch 36/40\n",
            "15000/15000 [==============================] - 8s 537us/step - loss: 0.5484 - acc: 0.7407 - val_loss: 0.5545 - val_acc: 0.7365\n",
            "Epoch 37/40\n",
            "15000/15000 [==============================] - 8s 538us/step - loss: 0.5460 - acc: 0.7417 - val_loss: 0.5527 - val_acc: 0.7363\n",
            "Epoch 38/40\n",
            "15000/15000 [==============================] - 8s 538us/step - loss: 0.5433 - acc: 0.7437 - val_loss: 0.5503 - val_acc: 0.7375\n",
            "Epoch 39/40\n",
            "15000/15000 [==============================] - 8s 537us/step - loss: 0.5412 - acc: 0.7436 - val_loss: 0.5485 - val_acc: 0.7387\n",
            "Epoch 40/40\n",
            "15000/15000 [==============================] - 8s 538us/step - loss: 0.5391 - acc: 0.7449 - val_loss: 0.5462 - val_acc: 0.7413\n"
          ],
          "name": "stdout"
        }
      ]
    },
    {
      "metadata": {
        "id": "i_9a_rybhG5J",
        "colab_type": "text"
      },
      "cell_type": "markdown",
      "source": [
        "### Evaluating the model"
      ]
    },
    {
      "metadata": {
        "id": "EYLH8kOgOo9W",
        "colab_type": "text"
      },
      "cell_type": "markdown",
      "source": [
        "To evaulate the model on test data:"
      ]
    },
    {
      "metadata": {
        "id": "CFMt2Q7b3taP",
        "colab_type": "code",
        "outputId": "5651bc1e-7e93-4579-cee7-974b7598cf5b",
        "colab": {
          "base_uri": "https://localhost:8080/",
          "height": 35
        }
      },
      "cell_type": "code",
      "source": [
        "results = model.evaluate(X_test_enc, y_test)"
      ],
      "execution_count": 20,
      "outputs": [
        {
          "output_type": "stream",
          "text": [
            "25000/25000 [==============================] - 9s 372us/step\n"
          ],
          "name": "stdout"
        }
      ]
    },
    {
      "metadata": {
        "id": "9RrKiPHcAmQU",
        "colab_type": "code",
        "outputId": "93d6d0be-7576-48f8-8069-8850e5df028c",
        "colab": {
          "base_uri": "https://localhost:8080/",
          "height": 35
        }
      },
      "cell_type": "code",
      "source": [
        "print(results)\n",
        "# loss, accuracay "
      ],
      "execution_count": 21,
      "outputs": [
        {
          "output_type": "stream",
          "text": [
            "[0.5459417387771607, 0.7398]\n"
          ],
          "name": "stdout"
        }
      ]
    },
    {
      "metadata": {
        "id": "pW7IpHxMO6qp",
        "colab_type": "text"
      },
      "cell_type": "markdown",
      "source": [
        "Our first model accuracy using one-hot vectors is \n",
        "\n",
        "\n",
        "\n"
      ]
    },
    {
      "metadata": {
        "id": "OwZk_yoWhPJB",
        "colab_type": "text"
      },
      "cell_type": "markdown",
      "source": [
        "### Plotting the accuracy graph"
      ]
    },
    {
      "metadata": {
        "id": "JIDPH1J7PMzN",
        "colab_type": "text"
      },
      "cell_type": "markdown",
      "source": [
        "To plot a graph of accuracy and loss over time we can use Matplotlib:"
      ]
    },
    {
      "metadata": {
        "id": "LS9k2vvSAqB7",
        "colab_type": "code",
        "outputId": "3c7dbcbb-9759-4229-d373-42cadd6d1b40",
        "colab": {
          "base_uri": "https://localhost:8080/",
          "height": 376
        }
      },
      "cell_type": "code",
      "source": [
        "import matplotlib.pyplot as plt\n",
        "\n",
        "history_dict = history.history\n",
        "\n",
        "acc = history_dict['acc']\n",
        "val_acc = history_dict['val_acc']\n",
        "loss = history_dict['loss']\n",
        "val_loss = history_dict['val_loss']\n",
        "\n",
        "epochs = range(1, len(acc) + 1)\n",
        "\n",
        "plt.plot(epochs, acc, 'bo', label='Training acc')\n",
        "plt.plot(epochs, val_acc, 'b', label='Validation acc')\n",
        "plt.title('Training and validation accuracy')\n",
        "plt.xlabel('Epochs')\n",
        "plt.ylabel('Accuracy')\n",
        "plt.legend()\n",
        "\n",
        "plt.show()"
      ],
      "execution_count": 22,
      "outputs": [
        {
          "output_type": "display_data",
          "data": {
            "image/png": "[encoded data removed]",
            "text/plain": [
              "<Figure size 576x396 with 1 Axes>"
            ]
          },
          "metadata": {
            "tags": []
          }
        }
      ]
    },
    {
      "metadata": {
        "id": "a7OwOQw4h8RX",
        "colab_type": "text"
      },
      "cell_type": "markdown",
      "source": [
        "### Neural Network model using word embeddings"
      ]
    },
    {
      "metadata": {
        "id": "l-QzOMO_P4jc",
        "colab_type": "text"
      },
      "cell_type": "markdown",
      "source": [
        "Now instead of one-hot vectors, we want to use embedding. We change our first layer in model1 to an Embedding layer. This layer takes the integer-encoded vocabulary and looks up the embedding vector for each word-index. These vectors are learned as the model trains. The vectors add a dimension to the output array. The resulting dimensions are: (batch, sequence, embedding)."
      ]
    },
    {
      "metadata": {
        "id": "MFrCsL-NBFVL",
        "colab_type": "code",
        "outputId": "a799feb1-f260-47ad-d7c0-d4cd79e027d1",
        "colab": {
          "base_uri": "https://localhost:8080/",
          "height": 1492
        }
      },
      "cell_type": "code",
      "source": [
        "VOCAB_SIZE= 10000\n",
        "\n",
        "# put the code here\n",
        "\n",
        "#New Model with Embedding Layer\n",
        "model2 = Sequential()\n",
        "\n",
        "#We change our first layer in model1 to an Embedding layer\n",
        "model2.add(keras.layers.Embedding(VOCAB_SIZE,16))\n",
        "\n",
        "\n",
        "#The second layer is to compute average on all word vectors \n",
        "model2.add(GlobalAveragePooling1DMasked())\n",
        "\n",
        "\n",
        "\n",
        "\n",
        "#The output vector is piped through a fully-connected layer\n",
        "model2.add(keras.layers.Dense(16, activation=K.relu))\n",
        "\n",
        "\n",
        "\n",
        "#The last layer is connected with a single output node with the sigmoid activation function\n",
        "model2.add(keras.layers.Dense(1, activation=K.sigmoid))\n",
        "\n",
        "\n",
        "model2.compile(optimizer='adam',\n",
        "              loss='binary_crossentropy',\n",
        "              metrics=['accuracy'])\n",
        "\n",
        "X_val = np.array(X_train_enc[:10000])\n",
        "partial_X_train = np.array(X_train_enc[10000:])\n",
        "\n",
        "history2 = model2.fit(partial_X_train,\n",
        "                    partial_y_train,\n",
        "                    epochs=40,\n",
        "                    batch_size=512,\n",
        "                    validation_data=(X_val, y_val),\n",
        "                    verbose=1)\n",
        "\n",
        "results = model2.evaluate(X_test_enc, y_test)\n",
        "print(results)"
      ],
      "execution_count": 23,
      "outputs": [
        {
          "output_type": "stream",
          "text": [
            "Train on 15000 samples, validate on 10000 samples\n",
            "Epoch 1/40\n",
            "15000/15000 [==============================] - 1s 35us/step - loss: 0.6922 - acc: 0.5271 - val_loss: 0.6910 - val_acc: 0.5048\n",
            "Epoch 2/40\n",
            "15000/15000 [==============================] - 0s 17us/step - loss: 0.6878 - acc: 0.6035 - val_loss: 0.6847 - val_acc: 0.6738\n",
            "Epoch 3/40\n",
            "15000/15000 [==============================] - 0s 18us/step - loss: 0.6775 - acc: 0.7110 - val_loss: 0.6707 - val_acc: 0.7169\n",
            "Epoch 4/40\n",
            "15000/15000 [==============================] - 0s 17us/step - loss: 0.6566 - acc: 0.7513 - val_loss: 0.6460 - val_acc: 0.7560\n",
            "Epoch 5/40\n",
            "15000/15000 [==============================] - 0s 17us/step - loss: 0.6231 - acc: 0.7801 - val_loss: 0.6089 - val_acc: 0.7817\n",
            "Epoch 6/40\n",
            "15000/15000 [==============================] - 0s 17us/step - loss: 0.5781 - acc: 0.8061 - val_loss: 0.5642 - val_acc: 0.7986\n",
            "Epoch 7/40\n",
            "15000/15000 [==============================] - 0s 18us/step - loss: 0.5264 - acc: 0.8253 - val_loss: 0.5173 - val_acc: 0.8176\n",
            "Epoch 8/40\n",
            "15000/15000 [==============================] - 0s 18us/step - loss: 0.4751 - acc: 0.8424 - val_loss: 0.4735 - val_acc: 0.8303\n",
            "Epoch 9/40\n",
            "15000/15000 [==============================] - 0s 17us/step - loss: 0.4290 - acc: 0.8617 - val_loss: 0.4342 - val_acc: 0.8429\n",
            "Epoch 10/40\n",
            "15000/15000 [==============================] - 0s 17us/step - loss: 0.3890 - acc: 0.8725 - val_loss: 0.4033 - val_acc: 0.8518\n",
            "Epoch 11/40\n",
            "15000/15000 [==============================] - 0s 17us/step - loss: 0.3560 - acc: 0.8820 - val_loss: 0.3790 - val_acc: 0.8555\n",
            "Epoch 12/40\n",
            "15000/15000 [==============================] - 0s 18us/step - loss: 0.3287 - acc: 0.8893 - val_loss: 0.3602 - val_acc: 0.8607\n",
            "Epoch 13/40\n",
            "15000/15000 [==============================] - 0s 17us/step - loss: 0.3059 - acc: 0.8947 - val_loss: 0.3440 - val_acc: 0.8689\n",
            "Epoch 14/40\n",
            "15000/15000 [==============================] - 0s 17us/step - loss: 0.2861 - acc: 0.9014 - val_loss: 0.3318 - val_acc: 0.8724\n",
            "Epoch 15/40\n",
            "15000/15000 [==============================] - 0s 18us/step - loss: 0.2691 - acc: 0.9067 - val_loss: 0.3217 - val_acc: 0.8765\n",
            "Epoch 16/40\n",
            "15000/15000 [==============================] - 0s 17us/step - loss: 0.2541 - acc: 0.9107 - val_loss: 0.3138 - val_acc: 0.8760\n",
            "Epoch 17/40\n",
            "15000/15000 [==============================] - 0s 18us/step - loss: 0.2409 - acc: 0.9151 - val_loss: 0.3078 - val_acc: 0.8770\n",
            "Epoch 18/40\n",
            "15000/15000 [==============================] - 0s 17us/step - loss: 0.2289 - acc: 0.9210 - val_loss: 0.3014 - val_acc: 0.8818\n",
            "Epoch 19/40\n",
            "15000/15000 [==============================] - 0s 18us/step - loss: 0.2170 - acc: 0.9254 - val_loss: 0.2971 - val_acc: 0.8818\n",
            "Epoch 20/40\n",
            "15000/15000 [==============================] - 0s 17us/step - loss: 0.2068 - acc: 0.9284 - val_loss: 0.2935 - val_acc: 0.8820\n",
            "Epoch 21/40\n",
            "15000/15000 [==============================] - 0s 18us/step - loss: 0.1972 - acc: 0.9323 - val_loss: 0.2921 - val_acc: 0.8823\n",
            "Epoch 22/40\n",
            "15000/15000 [==============================] - 0s 17us/step - loss: 0.1887 - acc: 0.9364 - val_loss: 0.2899 - val_acc: 0.8820\n",
            "Epoch 23/40\n",
            "15000/15000 [==============================] - 0s 18us/step - loss: 0.1801 - acc: 0.9399 - val_loss: 0.2874 - val_acc: 0.8847\n",
            "Epoch 24/40\n",
            "15000/15000 [==============================] - 0s 18us/step - loss: 0.1725 - acc: 0.9442 - val_loss: 0.2867 - val_acc: 0.8842\n",
            "Epoch 25/40\n",
            "15000/15000 [==============================] - 0s 17us/step - loss: 0.1650 - acc: 0.9476 - val_loss: 0.2859 - val_acc: 0.8840\n",
            "Epoch 26/40\n",
            "15000/15000 [==============================] - 0s 17us/step - loss: 0.1582 - acc: 0.9498 - val_loss: 0.2855 - val_acc: 0.8854\n",
            "Epoch 27/40\n",
            "15000/15000 [==============================] - 0s 18us/step - loss: 0.1515 - acc: 0.9531 - val_loss: 0.2861 - val_acc: 0.8842\n",
            "Epoch 28/40\n",
            "15000/15000 [==============================] - 0s 17us/step - loss: 0.1453 - acc: 0.9555 - val_loss: 0.2864 - val_acc: 0.8852\n",
            "Epoch 29/40\n",
            "15000/15000 [==============================] - 0s 18us/step - loss: 0.1399 - acc: 0.9576 - val_loss: 0.2873 - val_acc: 0.8860\n",
            "Epoch 30/40\n",
            "15000/15000 [==============================] - 0s 17us/step - loss: 0.1339 - acc: 0.9607 - val_loss: 0.2884 - val_acc: 0.8859\n",
            "Epoch 31/40\n",
            "15000/15000 [==============================] - 0s 19us/step - loss: 0.1286 - acc: 0.9623 - val_loss: 0.2906 - val_acc: 0.8849\n",
            "Epoch 32/40\n",
            "15000/15000 [==============================] - 0s 17us/step - loss: 0.1235 - acc: 0.9640 - val_loss: 0.2921 - val_acc: 0.8843\n",
            "Epoch 33/40\n",
            "15000/15000 [==============================] - 0s 17us/step - loss: 0.1194 - acc: 0.9663 - val_loss: 0.2941 - val_acc: 0.8850\n",
            "Epoch 34/40\n",
            "15000/15000 [==============================] - 0s 17us/step - loss: 0.1140 - acc: 0.9680 - val_loss: 0.2963 - val_acc: 0.8838\n",
            "Epoch 35/40\n",
            "15000/15000 [==============================] - 0s 18us/step - loss: 0.1102 - acc: 0.9696 - val_loss: 0.2988 - val_acc: 0.8849\n",
            "Epoch 36/40\n",
            "15000/15000 [==============================] - 0s 17us/step - loss: 0.1055 - acc: 0.9714 - val_loss: 0.3014 - val_acc: 0.8840\n",
            "Epoch 37/40\n",
            "15000/15000 [==============================] - 0s 17us/step - loss: 0.1020 - acc: 0.9720 - val_loss: 0.3043 - val_acc: 0.8844\n",
            "Epoch 38/40\n",
            "15000/15000 [==============================] - 0s 18us/step - loss: 0.0975 - acc: 0.9745 - val_loss: 0.3076 - val_acc: 0.8829\n",
            "Epoch 39/40\n",
            "15000/15000 [==============================] - 0s 17us/step - loss: 0.0941 - acc: 0.9746 - val_loss: 0.3106 - val_acc: 0.8818\n",
            "Epoch 40/40\n",
            "15000/15000 [==============================] - 0s 18us/step - loss: 0.0906 - acc: 0.9769 - val_loss: 0.3166 - val_acc: 0.8799\n",
            "25000/25000 [==============================] - 1s 45us/step\n",
            "[0.3351805537366867, 0.87076]\n"
          ],
          "name": "stdout"
        }
      ]
    },
    {
      "metadata": {
        "id": "I4zIPJDcTPq3",
        "colab_type": "code",
        "outputId": "2412098d-2c93-455d-ee1f-ce0f22d8aa5d",
        "colab": {
          "base_uri": "https://localhost:8080/",
          "height": 35
        }
      },
      "cell_type": "code",
      "source": [
        "results = model2.evaluate(X_test_enc, y_test)"
      ],
      "execution_count": 24,
      "outputs": [
        {
          "output_type": "stream",
          "text": [
            "25000/25000 [==============================] - 1s 47us/step\n"
          ],
          "name": "stdout"
        }
      ]
    },
    {
      "metadata": {
        "id": "waS96edDTRyL",
        "colab_type": "code",
        "outputId": "3ca11f51-8601-4751-a680-9ae24e3e39a2",
        "colab": {
          "base_uri": "https://localhost:8080/",
          "height": 35
        }
      },
      "cell_type": "code",
      "source": [
        "print (results)"
      ],
      "execution_count": 25,
      "outputs": [
        {
          "output_type": "stream",
          "text": [
            "[0.3351805537366867, 0.87076]\n"
          ],
          "name": "stdout"
        }
      ]
    },
    {
      "metadata": {
        "id": "XB7aveVzTC5a",
        "colab_type": "code",
        "outputId": "d711effe-9502-4f59-cf5c-a6589ddab94c",
        "colab": {
          "base_uri": "https://localhost:8080/",
          "height": 376
        }
      },
      "cell_type": "code",
      "source": [
        "import matplotlib.pyplot as plt\n",
        "\n",
        "history_dict = history2.history\n",
        "\n",
        "acc = history_dict['acc']\n",
        "val_acc = history_dict['val_acc']\n",
        "loss = history_dict['loss']\n",
        "val_loss = history_dict['val_loss']\n",
        "\n",
        "epochs = range(1, len(acc) + 1)\n",
        "\n",
        "plt.plot(epochs, acc, 'bo', label='Training acc')\n",
        "plt.plot(epochs, val_acc, 'b', label='Validation acc')\n",
        "plt.title('Training and validation accuracy')\n",
        "plt.xlabel('Epochs')\n",
        "plt.ylabel('Accuracy')\n",
        "plt.legend()\n",
        "\n",
        "plt.show()"
      ],
      "execution_count": 26,
      "outputs": [
        {
          "output_type": "display_data",
          "data": {
            "image/png": "[encoded data removed]",
            "text/plain": [
              "<Figure size 576x396 with 1 Axes>"
            ]
          },
          "metadata": {
            "tags": []
          }
        }
      ]
    },
    {
      "metadata": {
        "id": "7FBpTc_rXGvQ",
        "colab_type": "text"
      },
      "cell_type": "markdown",
      "source": [
        "The accuracy of model2 is 87%. Using Embedding layer instead of one-hot layer improved the performance."
      ]
    },
    {
      "metadata": {
        "id": "--020hfG6rN2",
        "colab_type": "text"
      },
      "cell_type": "markdown",
      "source": [
        "### Using pre-trained word embeddings"
      ]
    },
    {
      "metadata": {
        "id": "J4gBeOyi4gkM",
        "colab_type": "text"
      },
      "cell_type": "markdown",
      "source": [
        "The Embedding layer can be used to load a pre-trained word embedding model. We are going to use GloVe embeddings, which you can read about it here (https://nlp.stanford.edu/projects/glove/). GloVe stands for \"Global Vectors for Word Representation\". It's a somewhat popular embedding technique based on factorizing a matrix of word co-occurence statistics. You can download GloVe and we can seed the Keras Embedding layer with weights from the pre-trained embedding for the words in your dataset.\n",
        "First, we need to read GloVe and map words to GloVe:\n"
      ]
    },
    {
      "metadata": {
        "id": "f_PypdqG9Iis",
        "colab_type": "code",
        "colab": {}
      },
      "cell_type": "code",
      "source": [
        "def readGloveFile(gloveFile):\n",
        "    with open(gloveFile, 'r', encoding=\"utf8\") as f:\n",
        "        wordToGlove = {}  \n",
        "        wordToIndex = {}  \n",
        "        indexToWord = {}  \n",
        "\n",
        "        for line in f:\n",
        "            record = line.strip().split()\n",
        "            token = record[0] \n",
        "            wordToGlove[token] = np.array(record[1:], dtype=np.float64) \n",
        "            \n",
        "        tokens = sorted(wordToGlove.keys())\n",
        "        for idx, tok in enumerate(tokens):\n",
        "            kerasIdx = idx + 1  \n",
        "            wordToIndex[tok] = kerasIdx \n",
        "            indexToWord[kerasIdx] = tok \n",
        "\n",
        "    return wordToIndex, indexToWord, wordToGlove"
      ],
      "execution_count": 0,
      "outputs": []
    },
    {
      "metadata": {
        "id": "ZcIZ3dq59bCh",
        "colab_type": "text"
      },
      "cell_type": "markdown",
      "source": [
        "Now, we create our pre-trained Embedding layer:"
      ]
    },
    {
      "metadata": {
        "id": "gembn7VM3ex8",
        "colab_type": "code",
        "colab": {}
      },
      "cell_type": "code",
      "source": [
        "def createPretrainedEmbeddingLayer(wordToGlove, wordToIndex, isTrainable):\n",
        "    vocabLen = len(wordToIndex) + 1  \n",
        "    embDim = next(iter(wordToGlove.values())).shape[0]  \n",
        "   \n",
        "    embeddingMatrix = np.zeros((vocabLen, embDim))  \n",
        "    for word, index in wordToIndex.items():\n",
        "        embeddingMatrix[index, :] = wordToGlove[word] \n",
        "\n",
        "    embeddingLayer = Embedding(vocabLen, embDim, embeddings_initializer=keras.initializers.Constant(embeddingMatrix), trainable=isTrainable)\n",
        "    return embeddingLayer"
      ],
      "execution_count": 0,
      "outputs": []
    },
    {
      "metadata": {
        "id": "HGxciLK4-xOr",
        "colab_type": "text"
      },
      "cell_type": "markdown",
      "source": [
        "We freeze the weights. To create the model:"
      ]
    },
    {
      "metadata": {
        "id": "PZCPUM0W_Drc",
        "colab_type": "code",
        "outputId": "ab5a0ab7-a5f8-47b5-84b3-7bf283af4efe",
        "colab": {
          "base_uri": "https://localhost:8080/",
          "height": 764
        }
      },
      "cell_type": "code",
      "source": [
        "# put the code here\n",
        "!wget http://nlp.stanford.edu/data/glove.6B.zip\n",
        "import zipfile\n",
        "\n",
        "path_to_zip_file = 'glove.6B.zip'\n",
        "directory_to_extract_to = os.getcwd()  \n",
        "\n",
        "zip_ref = zipfile.ZipFile(path_to_zip_file, 'r')\n",
        "zip_ref.extractall(directory_to_extract_to)\n",
        "zip_ref.close()\n",
        "  "
      ],
      "execution_count": 28,
      "outputs": [
        {
          "output_type": "stream",
          "text": [
            "--2019-02-20 21:05:07--  http://nlp.stanford.edu/data/glove.6B.zip\n",
            "Resolving nlp.stanford.edu (nlp.stanford.edu)... 171.64.67.140\n",
            "Connecting to nlp.stanford.edu (nlp.stanford.edu)|171.64.67.140|:80... connected.\n",
            "HTTP request sent, awaiting response... 302 Found\n",
            "Location: https://nlp.stanford.edu/data/glove.6B.zip [following]\n",
            "--2019-02-20 21:05:07--  https://nlp.stanford.edu/data/glove.6B.zip\n",
            "Connecting to nlp.stanford.edu (nlp.stanford.edu)|171.64.67.140|:443... connected.\n",
            "HTTP request sent, awaiting response... 200 OK\n",
            "Length: 862182613 (822M) [application/zip]\n",
            "Saving to: ‘glove.6B.zip’\n",
            "\n",
            "glove.6B.zip        100%[===================>] 822.24M  29.4MB/s    in 43s     \n",
            "\n",
            "2019-02-20 21:05:49 (19.3 MB/s) - ‘glove.6B.zip’ saved [862182613/862182613]\n",
            "\n"
          ],
          "name": "stdout"
        }
      ]
    },
    {
      "metadata": {
        "id": "rTmaBQjcDljJ",
        "colab_type": "code",
        "colab": {}
      },
      "cell_type": "code",
      "source": [
        "import keras.initializers\n",
        "\n",
        "wordToIndex, indexToWord, wordToGlove = readGloveFile('glove.6B.100d.txt')\n",
        "pretrainedEmbeddingLayer = createPretrainedEmbeddingLayer(wordToGlove, wordToIndex, False)"
      ],
      "execution_count": 0,
      "outputs": []
    },
    {
      "metadata": {
        "id": "M-bZ5SCHiIMl",
        "colab_type": "text"
      },
      "cell_type": "markdown",
      "source": [
        "### Adding another hidden layer to the network"
      ]
    },
    {
      "metadata": {
        "id": "ZbZ6UBDfbjea",
        "colab_type": "text"
      },
      "cell_type": "markdown",
      "source": [
        "In model3, we only add another dense layer to see if that improves the performance."
      ]
    },
    {
      "metadata": {
        "id": "Vw0le1YjDdCa",
        "colab_type": "code",
        "outputId": "a4ac6463-0c05-4c97-9eb7-6738c38c905a",
        "colab": {
          "base_uri": "https://localhost:8080/",
          "height": 315
        }
      },
      "cell_type": "code",
      "source": [
        "# put your code here\n",
        "\n",
        "model3 = Sequential()\n",
        "\n",
        "#We change our first layer in model1 to an Embedding layer\n",
        "#model3.add(pretrainedEmbeddingLayer(VOCAB_SIZE,16))\n",
        "model3.add(keras.layers.Embedding(VOCAB_SIZE,16))\n",
        "\n",
        "\n",
        "#The second layer is to compute average on all word vectors \n",
        "model3.add(GlobalAveragePooling1DMasked())\n",
        "\n",
        "\n",
        "#The output vector is piped through a fully-connected layer\n",
        "model3.add(keras.layers.Dense(16, activation=K.relu))\n",
        "\n",
        "\n",
        "#The last layer is connected with a single output node with the sigmoid activation function\n",
        "# Change this - no need for sigmoid here - try without this layer first \n",
        "model3.add(keras.layers.Dense(1, activation=K.sigmoid))\n",
        "\n",
        "#In model3, we only add another dense layer to see if that improves the performance.\n",
        "model3.add(keras.layers.Dense(1, activation=K.sigmoid))\n",
        "\n",
        "model3.compile(optimizer='adam',\n",
        "              loss='binary_crossentropy',\n",
        "              metrics=['accuracy'])\n",
        "\n",
        "X_val = np.array(X_train_enc[:10000])\n",
        "partial_X_train = np.array(X_train_enc[10000:])\n",
        "\n",
        "model3.summary()"
      ],
      "execution_count": 35,
      "outputs": [
        {
          "output_type": "stream",
          "text": [
            "_________________________________________________________________\n",
            "Layer (type)                 Output Shape              Param #   \n",
            "=================================================================\n",
            "embedding_6 (Embedding)      (None, None, 16)          160000    \n",
            "_________________________________________________________________\n",
            "global_average_pooling1d_mas (None, 16)                0         \n",
            "_________________________________________________________________\n",
            "dense_12 (Dense)             (None, 16)                272       \n",
            "_________________________________________________________________\n",
            "dense_13 (Dense)             (None, 1)                 17        \n",
            "_________________________________________________________________\n",
            "dense_14 (Dense)             (None, 1)                 2         \n",
            "=================================================================\n",
            "Total params: 160,291\n",
            "Trainable params: 160,291\n",
            "Non-trainable params: 0\n",
            "_________________________________________________________________\n"
          ],
          "name": "stdout"
        }
      ]
    },
    {
      "metadata": {
        "id": "bobW1oC9v0-H",
        "colab_type": "code",
        "colab": {
          "base_uri": "https://localhost:8080/",
          "height": 1457
        },
        "outputId": "85a99ade-ff0a-4cb8-e490-8c660e061d3b"
      },
      "cell_type": "code",
      "source": [
        "history3 = model3.fit(partial_X_train,\n",
        "                    partial_y_train,\n",
        "                    epochs=40,\n",
        "                    batch_size=512,\n",
        "                    validation_data=(X_val, y_val),\n",
        "                    verbose=1)"
      ],
      "execution_count": 36,
      "outputs": [
        {
          "output_type": "stream",
          "text": [
            "Train on 15000 samples, validate on 10000 samples\n",
            "Epoch 1/40\n",
            "15000/15000 [==============================] - 1s 48us/step - loss: 0.6998 - acc: 0.5035 - val_loss: 0.7000 - val_acc: 0.4947\n",
            "Epoch 2/40\n",
            "15000/15000 [==============================] - 0s 18us/step - loss: 0.6968 - acc: 0.5035 - val_loss: 0.6971 - val_acc: 0.4947\n",
            "Epoch 3/40\n",
            "15000/15000 [==============================] - 0s 18us/step - loss: 0.6946 - acc: 0.5035 - val_loss: 0.6947 - val_acc: 0.4947\n",
            "Epoch 4/40\n",
            "15000/15000 [==============================] - 0s 17us/step - loss: 0.6929 - acc: 0.5035 - val_loss: 0.6929 - val_acc: 0.4947\n",
            "Epoch 5/40\n",
            "15000/15000 [==============================] - 0s 19us/step - loss: 0.6915 - acc: 0.5035 - val_loss: 0.6914 - val_acc: 0.4947\n",
            "Epoch 6/40\n",
            "15000/15000 [==============================] - 0s 18us/step - loss: 0.6902 - acc: 0.5039 - val_loss: 0.6900 - val_acc: 0.5015\n",
            "Epoch 7/40\n",
            "15000/15000 [==============================] - 0s 18us/step - loss: 0.6885 - acc: 0.5127 - val_loss: 0.6881 - val_acc: 0.5116\n",
            "Epoch 8/40\n",
            "15000/15000 [==============================] - 0s 19us/step - loss: 0.6855 - acc: 0.5500 - val_loss: 0.6842 - val_acc: 0.5436\n",
            "Epoch 9/40\n",
            "15000/15000 [==============================] - 0s 19us/step - loss: 0.6797 - acc: 0.5602 - val_loss: 0.6772 - val_acc: 0.5994\n",
            "Epoch 10/40\n",
            "15000/15000 [==============================] - 0s 19us/step - loss: 0.6701 - acc: 0.6525 - val_loss: 0.6668 - val_acc: 0.6419\n",
            "Epoch 11/40\n",
            "15000/15000 [==============================] - 0s 18us/step - loss: 0.6569 - acc: 0.6906 - val_loss: 0.6530 - val_acc: 0.7171\n",
            "Epoch 12/40\n",
            "15000/15000 [==============================] - 0s 19us/step - loss: 0.6410 - acc: 0.7532 - val_loss: 0.6377 - val_acc: 0.7474\n",
            "Epoch 13/40\n",
            "15000/15000 [==============================] - 0s 19us/step - loss: 0.6246 - acc: 0.7845 - val_loss: 0.6228 - val_acc: 0.7688\n",
            "Epoch 14/40\n",
            "15000/15000 [==============================] - 0s 20us/step - loss: 0.6081 - acc: 0.8211 - val_loss: 0.6078 - val_acc: 0.8142\n",
            "Epoch 15/40\n",
            "15000/15000 [==============================] - 0s 20us/step - loss: 0.5924 - acc: 0.8429 - val_loss: 0.5942 - val_acc: 0.8400\n",
            "Epoch 16/40\n",
            "15000/15000 [==============================] - 0s 19us/step - loss: 0.5781 - acc: 0.8594 - val_loss: 0.5817 - val_acc: 0.8486\n",
            "Epoch 17/40\n",
            "15000/15000 [==============================] - 0s 19us/step - loss: 0.5648 - acc: 0.8706 - val_loss: 0.5702 - val_acc: 0.8538\n",
            "Epoch 18/40\n",
            "15000/15000 [==============================] - 0s 18us/step - loss: 0.5524 - acc: 0.8801 - val_loss: 0.5600 - val_acc: 0.8600\n",
            "Epoch 19/40\n",
            "15000/15000 [==============================] - 0s 19us/step - loss: 0.5409 - acc: 0.8887 - val_loss: 0.5503 - val_acc: 0.8662\n",
            "Epoch 20/40\n",
            "15000/15000 [==============================] - 0s 19us/step - loss: 0.5300 - acc: 0.8965 - val_loss: 0.5413 - val_acc: 0.8676\n",
            "Epoch 21/40\n",
            "15000/15000 [==============================] - 0s 18us/step - loss: 0.5197 - acc: 0.9025 - val_loss: 0.5330 - val_acc: 0.8705\n",
            "Epoch 22/40\n",
            "15000/15000 [==============================] - 0s 18us/step - loss: 0.5099 - acc: 0.9081 - val_loss: 0.5253 - val_acc: 0.8737\n",
            "Epoch 23/40\n",
            "15000/15000 [==============================] - 0s 19us/step - loss: 0.5009 - acc: 0.9123 - val_loss: 0.5182 - val_acc: 0.8734\n",
            "Epoch 24/40\n",
            "15000/15000 [==============================] - 0s 18us/step - loss: 0.4916 - acc: 0.9175 - val_loss: 0.5112 - val_acc: 0.8774\n",
            "Epoch 25/40\n",
            "15000/15000 [==============================] - 0s 18us/step - loss: 0.4830 - acc: 0.9215 - val_loss: 0.5054 - val_acc: 0.8755\n",
            "Epoch 26/40\n",
            "15000/15000 [==============================] - 0s 19us/step - loss: 0.4747 - acc: 0.9245 - val_loss: 0.4988 - val_acc: 0.8816\n",
            "Epoch 27/40\n",
            "15000/15000 [==============================] - 0s 18us/step - loss: 0.4664 - acc: 0.9292 - val_loss: 0.4933 - val_acc: 0.8815\n",
            "Epoch 28/40\n",
            "15000/15000 [==============================] - 0s 19us/step - loss: 0.4585 - acc: 0.9325 - val_loss: 0.4874 - val_acc: 0.8811\n",
            "Epoch 29/40\n",
            "15000/15000 [==============================] - 0s 18us/step - loss: 0.4510 - acc: 0.9358 - val_loss: 0.4822 - val_acc: 0.8833\n",
            "Epoch 30/40\n",
            "15000/15000 [==============================] - 0s 19us/step - loss: 0.4434 - acc: 0.9373 - val_loss: 0.4770 - val_acc: 0.8842\n",
            "Epoch 31/40\n",
            "15000/15000 [==============================] - 0s 18us/step - loss: 0.4360 - acc: 0.9411 - val_loss: 0.4726 - val_acc: 0.8841\n",
            "Epoch 32/40\n",
            "15000/15000 [==============================] - 0s 19us/step - loss: 0.4291 - acc: 0.9437 - val_loss: 0.4675 - val_acc: 0.8852\n",
            "Epoch 33/40\n",
            "15000/15000 [==============================] - 0s 18us/step - loss: 0.4221 - acc: 0.9469 - val_loss: 0.4630 - val_acc: 0.8850\n",
            "Epoch 34/40\n",
            "15000/15000 [==============================] - 0s 19us/step - loss: 0.4154 - acc: 0.9489 - val_loss: 0.4590 - val_acc: 0.8851\n",
            "Epoch 35/40\n",
            "15000/15000 [==============================] - 0s 18us/step - loss: 0.4088 - acc: 0.9512 - val_loss: 0.4547 - val_acc: 0.8853\n",
            "Epoch 36/40\n",
            "15000/15000 [==============================] - 0s 18us/step - loss: 0.4023 - acc: 0.9541 - val_loss: 0.4509 - val_acc: 0.8860\n",
            "Epoch 37/40\n",
            "15000/15000 [==============================] - 0s 19us/step - loss: 0.3959 - acc: 0.9561 - val_loss: 0.4473 - val_acc: 0.8854\n",
            "Epoch 38/40\n",
            "15000/15000 [==============================] - 0s 18us/step - loss: 0.3899 - acc: 0.9578 - val_loss: 0.4440 - val_acc: 0.8846\n",
            "Epoch 39/40\n",
            "15000/15000 [==============================] - 0s 19us/step - loss: 0.3840 - acc: 0.9599 - val_loss: 0.4400 - val_acc: 0.8858\n",
            "Epoch 40/40\n",
            "15000/15000 [==============================] - 0s 19us/step - loss: 0.3780 - acc: 0.9613 - val_loss: 0.4371 - val_acc: 0.8857\n"
          ],
          "name": "stdout"
        }
      ]
    },
    {
      "metadata": {
        "id": "TTilW5GwwBNJ",
        "colab_type": "code",
        "colab": {
          "base_uri": "https://localhost:8080/",
          "height": 52
        },
        "outputId": "69635c4b-3742-48a9-d7ac-d54d0e49a329"
      },
      "cell_type": "code",
      "source": [
        "results = model3.evaluate(X_test_enc, y_test)\n",
        "print(results)"
      ],
      "execution_count": 37,
      "outputs": [
        {
          "output_type": "stream",
          "text": [
            "25000/25000 [==============================] - 1s 47us/step\n",
            "[0.4435266736602783, 0.87688]\n"
          ],
          "name": "stdout"
        }
      ]
    },
    {
      "metadata": {
        "id": "QtsdVeW7UgCu",
        "colab_type": "code",
        "outputId": "2b80cfe7-2f44-4e1e-9dda-f31d138623e0",
        "colab": {
          "base_uri": "https://localhost:8080/",
          "height": 376
        }
      },
      "cell_type": "code",
      "source": [
        "import matplotlib.pyplot as plt\n",
        "\n",
        "history_dict = history3.history\n",
        "\n",
        "acc = history_dict['acc']\n",
        "val_acc = history_dict['val_acc']\n",
        "loss = history_dict['loss']\n",
        "val_loss = history_dict['val_loss']\n",
        "\n",
        "epochs = range(1, len(acc) + 1)\n",
        "\n",
        "plt.plot(epochs, acc, 'bo', label='Training acc')\n",
        "plt.plot(epochs, val_acc, 'b', label='Validation acc')\n",
        "plt.title('Training and validation accuracy')\n",
        "plt.xlabel('Epochs')\n",
        "plt.ylabel('Accuracy')\n",
        "plt.legend()\n",
        "\n",
        "plt.show()"
      ],
      "execution_count": 38,
      "outputs": [
        {
          "output_type": "display_data",
          "data": {
            "image/png": "[encoded data removed]",
            "text/plain": [
              "<Figure size 576x396 with 1 Axes>"
            ]
          },
          "metadata": {
            "tags": []
          }
        }
      ]
    },
    {
      "metadata": {
        "colab_type": "text",
        "id": "Kx--Ytk3ZbLo"
      },
      "cell_type": "markdown",
      "source": [
        "The accuracy of model3 with an additional layer is 85%. Adding more layers can help you to extract more features. But we can do that upto a certain extent. After some point, instead of extracting features, we tend to overfit the data. Overfitting can lead to errors in some or the other form like false positives. It is not easy to choose the number of units in a hidden layer or the number of hidden layers in a neural network. For many applications, one hidden layer is enough. As a general rule, the number of units in that hidden layer is between the number of inputs and the number of outputs.\n",
        " The best way to decide on the number of units and hidden layers is to try various parameters. Train several neural networks with different numbers of hidden layers and neurons, and monitor the performance of them. You will have to experiment using a series of different architectures. \n",
        "\n",
        "\n",
        "\n"
      ]
    },
    {
      "metadata": {
        "id": "gn2GSV4ioyO2",
        "colab_type": "text"
      },
      "cell_type": "markdown",
      "source": [
        "\n",
        "\n",
        "---\n",
        "\n"
      ]
    },
    {
      "metadata": {
        "id": "XYC6DykEox2w",
        "colab_type": "code",
        "colab": {}
      },
      "cell_type": "code",
      "source": [
        ""
      ],
      "execution_count": 0,
      "outputs": []
    },
    {
      "metadata": {
        "id": "GsCJ01StlgCx",
        "colab_type": "text"
      },
      "cell_type": "markdown",
      "source": [
        "This tutorial is substantially based on this document:\n",
        "https://www.tensorflow.org/tutorials/keras/basic_text_classification\n",
        "\n",
        "To read more about Sequential APIs you can go to: https://keras.io/getting-started/sequential-model-guide/\n",
        "\n",
        "The one-hot word vector layer is taken from:\n",
        "https://fdalvi.github.io/blog/2018-04-07-keras-sequential-onehot/\n"
      ]
    },
    {
      "metadata": {
        "id": "jL0UovfaE9GE",
        "colab_type": "code",
        "colab": {}
      },
      "cell_type": "code",
      "source": [
        ""
      ],
      "execution_count": 0,
      "outputs": []
    }
  ]
}