{
  "nbformat": 4,
  "nbformat_minor": 0,
  "metadata": {
    "colab": {
      "name": "Section D - Semeval Task 4 - Arabic.ipynb",
      "version": "0.3.2",
      "provenance": [],
      "collapsed_sections": []
    },
    "kernelspec": {
      "name": "python3",
      "display_name": "Python 3"
    }
  },
  "cells": [
    {
      "metadata": {
        "id": "mCf7xhF6BWaF",
        "colab_type": "code",
        "colab": {}
      },
      "cell_type": "code",
      "source": [
        "import keras\n",
        "from keras_preprocessing import text\n",
        "import numpy as np\n",
        "from keras.layers import Lambda, GlobalAveragePooling1D, Dense, Embedding, Input, Conv1D, MaxPooling1D, LSTM, Dropout\n",
        "from keras import backend as K\n",
        "import keras.initializers\n",
        "from keras.models import Sequential\n",
        "from keras.preprocessing.text import Tokenizer\n",
        "from keras.preprocessing.sequence import pad_sequences\n",
        "import os\n",
        "import zipfile\n",
        "import csv,io\n",
        "import nltk\n",
        "import string\n",
        "from string import punctuation\n",
        "import re\n",
        "import zipfile\n",
        "from sklearn.preprocessing import LabelBinarizer"
      ],
      "execution_count": 0,
      "outputs": []
    },
    {
      "metadata": {
        "id": "QVJMSUX2NNaE",
        "colab_type": "code",
        "outputId": "e0679c66-8965-4f8e-a938-2f3258c03653",
        "colab": {
          "base_uri": "https://localhost:8080/",
          "height": 52
        }
      },
      "cell_type": "code",
      "source": [
        "nltk.download(\"stopwords\")\n",
        "from nltk.corpus import stopwords"
      ],
      "execution_count": 0,
      "outputs": [
        {
          "output_type": "stream",
          "text": [
            "[nltk_data] Downloading package stopwords to /root/nltk_data...\n",
            "[nltk_data]   Package stopwords is already up-to-date!\n"
          ],
          "name": "stdout"
        }
      ]
    },
    {
      "metadata": {
        "id": "vOqSF9t9NUJQ",
        "colab_type": "code",
        "colab": {}
      },
      "cell_type": "code",
      "source": [
        "# Constants\n",
        "\n",
        "EMBED_SIZE=300\n",
        "VOCAB_SIZE = 10000\n",
        "INDEX_FROM = 2\n",
        "#MAXIMUM_LENGTH = 500\n",
        "TRAIN_SPLIT = 0.3"
      ],
      "execution_count": 0,
      "outputs": []
    },
    {
      "metadata": {
        "id": "ieIDEytVNdlz",
        "colab_type": "code",
        "outputId": "66733e0c-a385-4878-cd53-d88ded765200",
        "colab": {
          "base_uri": "https://localhost:8080/",
          "height": 208
        }
      },
      "cell_type": "code",
      "source": [
        "# Get Data\n",
        "!wget http://alt.qcri.org/semeval2017/task4/data/uploads/codalab/4a-arabic.zip"
      ],
      "execution_count": 0,
      "outputs": [
        {
          "output_type": "stream",
          "text": [
            "--2019-02-20 18:16:23--  http://alt.qcri.org/semeval2017/task4/data/uploads/codalab/4a-arabic.zip\n",
            "Resolving alt.qcri.org (alt.qcri.org)... 13.93.27.76\n",
            "Connecting to alt.qcri.org (alt.qcri.org)|13.93.27.76|:80... connected.\n",
            "HTTP request sent, awaiting response... 200 OK\n",
            "Length: 68035 (66K) [application/zip]\n",
            "Saving to: ‘4a-arabic.zip’\n",
            "\n",
            "4a-arabic.zip       100%[===================>]  66.44K   215KB/s    in 0.3s    \n",
            "\n",
            "2019-02-20 18:16:23 (215 KB/s) - ‘4a-arabic.zip’ saved [68035/68035]\n",
            "\n"
          ],
          "name": "stdout"
        }
      ]
    },
    {
      "metadata": {
        "id": "gh_MvnLpzu7L",
        "colab_type": "code",
        "outputId": "7d5d7a94-8198-484e-c60e-6bcd1bdb267d",
        "colab": {
          "base_uri": "https://localhost:8080/",
          "height": 243
        }
      },
      "cell_type": "code",
      "source": [
        "os.listdir()"
      ],
      "execution_count": 0,
      "outputs": [
        {
          "output_type": "execute_result",
          "data": {
            "text/plain": [
              "['.config',\n",
              " 'SemEval2017-task4-dev.subtask-A.english.INPUT.txt',\n",
              " '4a-arabic.zip',\n",
              " 'glove.6B.300d.txt',\n",
              " 'glove.6B.50d.txt',\n",
              " 'glove.6B.zip',\n",
              " '4a-english.zip',\n",
              " 'SemEval2017-task4-test.subtask-A.english.txt',\n",
              " 'SemEval2017-task4-test.subtask-CE.arabic.txt',\n",
              " 'Task4_Eng_lstm4.h5',\n",
              " 'glove.6B.200d.txt',\n",
              " 'glove.6B.100d.txt',\n",
              " 'sample_data']"
            ]
          },
          "metadata": {
            "tags": []
          },
          "execution_count": 5
        }
      ]
    },
    {
      "metadata": {
        "id": "-F2fIRq_NhYo",
        "colab_type": "code",
        "colab": {}
      },
      "cell_type": "code",
      "source": [
        "# Extract Training Data File\n",
        "\n",
        "def extract_without_folder(arc_name, full_item_name, folder):\n",
        "    with zipfile.ZipFile(arc_name) as zf:\n",
        "        file_data = zf.read(full_item_name)\n",
        "    with open(os.path.join(folder, os.path.basename(full_item_name)), \"wb\") as fout:\n",
        "        fout.write(file_data)\n",
        "\n",
        "path_to_zip_file = '4a-arabic.zip'\n",
        "directory_to_extract_to = os.getcwd()  \n",
        "extract_without_folder(path_to_zip_file,'4A-Arabic/SemEval2017-task4-dev.subtask-A.arabic.INPUT.txt',directory_to_extract_to )"
      ],
      "execution_count": 0,
      "outputs": []
    },
    {
      "metadata": {
        "id": "1hkLzt5KQIiO",
        "colab_type": "code",
        "outputId": "58ed0331-6698-40b2-d17a-39b8d8813ab6",
        "colab": {
          "base_uri": "https://localhost:8080/",
          "height": 193
        }
      },
      "cell_type": "code",
      "source": [
        "#Sanity Check: Read and Display data\n",
        "text_file = open(\"SemEval2017-task4-dev.subtask-A.arabic.INPUT.txt\", \"r\")\n",
        "corpus = text_file.read()\n",
        "print(len(corpus))\n",
        "print(corpus[:1000])"
      ],
      "execution_count": 0,
      "outputs": [
        {
          "output_type": "stream",
          "text": [
            "85003\n",
            "781400143144726529\tpositive\t\"إطلالة أنيقة وانثوية من مجموعة غوتشي لخريف/شتاء 2016 https://t.co/2MG7282hjh https://t.co/9p5a6bIAk7\"\n",
            "781476002463711232\tneutral\t\"أخر صيحة من حقائب اليد من فندي وغوتشي https://t.co/x6lG3LrC37#فندي #غوتشي #بنات_الخبر\"\n",
            "781485165000396800\tpositive\t\"تتشرف #باري_غاليري بدعوتكم لحضور ومقابلة #نجوى_محمد #خبيرة_التجميل عند نقطة بيع مستحضرات تجميل #غوتشي يوم 30 سبتمبر… https://t.co/BZR1cRfaa1\"\n",
            "781542717218254848\tneutral\t\"RT @ArabRapMonster: [ستايل]بنطال #نامجون الجينز لصور #WINGS كان بسعر 815 جنيه استرليني من ماركة غوتشي-GUCCIما يعادل3980 ريال سعودي https:…\"\n",
            "781730607919460352\tneutral\t\"RT @wufan_styleee: 160930 كريس في The Amazing Idolازياء كريس جميعها من بربري من المجموعه الاخيره،حذاءه من اديداس اوريجنال ونظارته من غوتشي…\"\n",
            "781795913975140352\tneutral\t\"تعرفي على حذاء #غوتشي الذي يجمع بين الكعب العالي والمسطحعبر الرابط https://t.co/i9W8OUykn9 https://t.co/TtUPpnAbkc\"\n",
            "781828427984797696\tpositive\t\"غوتشي فلورا الأسود فخم  💕💕💕💕 https://t.co/PPbGl9BVgF\"\n",
            "781879836528807936\t\n"
          ],
          "name": "stdout"
        }
      ]
    },
    {
      "metadata": {
        "id": "Cl6QSnsyQy-B",
        "colab_type": "code",
        "colab": {}
      },
      "cell_type": "code",
      "source": [
        "#Preprocessing 1 - Create tweet data and labels\n",
        "\n",
        "labels = []\n",
        "tweets = []\n",
        "f = csv.reader(io.StringIO(corpus), delimiter='\\t')\n",
        "for row in f:\n",
        "  labels.append(row[1])\n",
        "  tweets.append(row[2])\n",
        "    #print(row[1], row[2])"
      ],
      "execution_count": 0,
      "outputs": []
    },
    {
      "metadata": {
        "id": "MCsfkyjHKNV7",
        "colab_type": "code",
        "colab": {}
      },
      "cell_type": "code",
      "source": [
        "remove_terms = punctuation + '0123456789'"
      ],
      "execution_count": 0,
      "outputs": []
    },
    {
      "metadata": {
        "id": "K2d0VC-KKPop",
        "colab_type": "code",
        "colab": {}
      },
      "cell_type": "code",
      "source": [
        "def normalize_document(doc):\n",
        "    stop_words = nltk.corpus.stopwords.words('english')\n",
        "    wpt = nltk.WordPunctTokenizer()\n",
        "\n",
        "\n",
        "    # lower case and remove special characters\\whitespaces\n",
        "\n",
        "    doc = re.sub(r'[^a-zA-Z\\s]', '', doc, re.I|re.A)\n",
        "\n",
        "    doc = doc.lower()\n",
        "\n",
        "    doc = doc.strip()\n",
        "\n",
        "    # tokenize document\n",
        "\n",
        "    tokens = wpt.tokenize(doc)\n",
        "\n",
        "    # filter stopwords out of document\n",
        "\n",
        "    filtered_tokens = [token for token in tokens if token not in stop_words]\n",
        "\n",
        "    # re-create document from filtered tokens\n",
        "\n",
        "    doc = ' '.join(filtered_tokens)\n",
        "\n",
        "    return doc"
      ],
      "execution_count": 0,
      "outputs": []
    },
    {
      "metadata": {
        "id": "YmyeLcRIKeOB",
        "colab_type": "code",
        "colab": {}
      },
      "cell_type": "code",
      "source": [
        "normalize_corpus = np.vectorize(normalize_document)\n",
        "normalized_corpus = [[word.lower() for word in sent if word not in remove_terms] for sent in tweets]\n",
        "\n",
        "normalized_corpus = [''.join(tok_sent) for tok_sent in normalized_corpus]\n",
        "\n",
        "#normalized_corpus = filter(None, normalize_corpus(normalized_corpus))\n",
        "#normalized_corpus = list(normalized_corpus)\n",
        "#normalized_corpus = [tok_sent for tok_sent in normalized_corpus if len(tok_sent.split()) > 2]\n",
        "\n",
        "normalized_corpus = list(normalized_corpus)"
      ],
      "execution_count": 0,
      "outputs": []
    },
    {
      "metadata": {
        "id": "ALPDfKua1xnc",
        "colab_type": "code",
        "outputId": "559acd4e-f640-4f8c-f996-7ee388235e4c",
        "colab": {
          "base_uri": "https://localhost:8080/",
          "height": 86
        }
      },
      "cell_type": "code",
      "source": [
        "print(len(tweets))\n",
        "print(len(normalized_corpus))\n",
        "print(tweets[0])\n",
        "print(normalized_corpus[0])"
      ],
      "execution_count": 0,
      "outputs": [
        {
          "output_type": "stream",
          "text": [
            "671\n",
            "671\n",
            "إطلالة أنيقة وانثوية من مجموعة غوتشي لخريف/شتاء 2016 https://t.co/2MG7282hjh https://t.co/9p5a6bIAk7\n",
            "إطلالة أنيقة وانثوية من مجموعة غوتشي لخريفشتاء  httpstcomghjh httpstcopabiak\n"
          ],
          "name": "stdout"
        }
      ]
    },
    {
      "metadata": {
        "id": "ucGV7cKpQK0S",
        "colab_type": "code",
        "outputId": "61e04dd2-e4f1-4f67-a281-991625b7cf11",
        "colab": {
          "base_uri": "https://localhost:8080/",
          "height": 89
        }
      },
      "cell_type": "code",
      "source": [
        "from keras.preprocessing.text import Tokenizer\n",
        "from keras.preprocessing.sequence import pad_sequences\n",
        "\n",
        "tokenizer = Tokenizer(nb_words=VOCAB_SIZE)\n",
        "tokenizer.fit_on_texts(normalized_corpus)\n",
        "sequences = tokenizer.texts_to_sequences(normalized_corpus)\n",
        "\n",
        "word_index = tokenizer.word_index\n",
        "print('Found %s unique tokens.' % len(word_index))"
      ],
      "execution_count": 0,
      "outputs": [
        {
          "output_type": "stream",
          "text": [
            "Found 5177 unique tokens.\n"
          ],
          "name": "stdout"
        },
        {
          "output_type": "stream",
          "text": [
            "/usr/local/lib/python3.6/dist-packages/keras_preprocessing/text.py:178: UserWarning: The `nb_words` argument in `Tokenizer` has been renamed `num_words`.\n",
            "  warnings.warn('The `nb_words` argument in `Tokenizer` '\n"
          ],
          "name": "stderr"
        }
      ]
    },
    {
      "metadata": {
        "id": "kbkFW5dmCEo1",
        "colab_type": "code",
        "colab": {}
      },
      "cell_type": "code",
      "source": [
        "def lengths(x):\n",
        "    if isinstance(x,list):\n",
        "        yield len(x)\n",
        "        for y in x:\n",
        "            yield from lengths(y)\n",
        "\n",
        "MAXIMUM_LENGTH = max([len(x) for x in normalized_corpus])"
      ],
      "execution_count": 0,
      "outputs": []
    },
    {
      "metadata": {
        "id": "Mpr9G5njR2f-",
        "colab_type": "code",
        "outputId": "69385fac-6b36-4d50-c669-f577c6be1bc6",
        "colab": {
          "base_uri": "https://localhost:8080/",
          "height": 34
        }
      },
      "cell_type": "code",
      "source": [
        "from keras.utils import to_categorical\n",
        "\n",
        "data = pad_sequences(sequences, maxlen=MAXIMUM_LENGTH)\n",
        "\n",
        "#labels = to_categorical(np.asarray(labels))\n",
        "print('Shape of data tensor:', data.shape)\n",
        "#print('Shape of label tensor:', labels.shape)"
      ],
      "execution_count": 0,
      "outputs": [
        {
          "output_type": "stream",
          "text": [
            "Shape of data tensor: (671, 140)\n"
          ],
          "name": "stdout"
        }
      ]
    },
    {
      "metadata": {
        "id": "4k8dQ7cXS3wJ",
        "colab_type": "code",
        "outputId": "71d67248-3dee-41c9-c43e-40acec3f00e1",
        "colab": {
          "base_uri": "https://localhost:8080/",
          "height": 156
        }
      },
      "cell_type": "code",
      "source": [
        "print(data[0])"
      ],
      "execution_count": 0,
      "outputs": [
        {
          "output_type": "stream",
          "text": [
            "[  0   0   0   0   0   0   0   0   0   0   0   0   0   0   0   0   0   0\n",
            "   0   0   0   0   0   0   0   0   0   0   0   0   0   0   0   0   0   0\n",
            "   0   0   0   0   0   0   0   0   0   0   0   0   0   0   0   0   0   0\n",
            "   0   0   0   0   0   0   0   0   0   0   0   0   0   0   0   0   0   0\n",
            "   0   0   0   0   0   0   0   0   0   0   0   0   0   0   0   0   0   0\n",
            "   0   0   0   0   0   0   0   0   0   0   0   0   0   0   0   0   0   0\n",
            "   0   0   0   0   0   0   0   0   0   0   0   0   0   0   0   0   0   0\n",
            "   0   0   0   0   0 939 940 941   3 431  14 942 943 944]\n"
          ],
          "name": "stdout"
        }
      ]
    },
    {
      "metadata": {
        "id": "mU8Q5DNYTFVk",
        "colab_type": "code",
        "outputId": "226373ab-7d89-49df-a8f5-94ced3b7af95",
        "colab": {
          "base_uri": "https://localhost:8080/",
          "height": 175
        }
      },
      "cell_type": "code",
      "source": [
        "os.listdir()"
      ],
      "execution_count": 0,
      "outputs": [
        {
          "output_type": "execute_result",
          "data": {
            "text/plain": [
              "['.config',\n",
              " 'SemEval2017-task4-dev.subtask-A.arabic.INPUT.txt',\n",
              " 'full_grams_sg_100_twitter.zip',\n",
              " '4a-arabic.zip.1',\n",
              " 'full_grams_sg_100_twitter.mdl.wv.vectors.npy',\n",
              " 'full_grams_sg_100_twitter.mdl',\n",
              " 'full_grams_sg_100_twitter.mdl.trainables.syn1neg.npy',\n",
              " '4a-arabic.zip',\n",
              " 'sample_data']"
            ]
          },
          "metadata": {
            "tags": []
          },
          "execution_count": 17
        }
      ]
    },
    {
      "metadata": {
        "id": "rdrzCgrCSnbN",
        "colab_type": "code",
        "colab": {}
      },
      "cell_type": "code",
      "source": [
        "# split the data into a training set and a validation set\n",
        "indices = np.arange(data.shape[0])\n",
        "#np.random.shuffle(indices)\n",
        "data = data[indices]\n",
        "#labels = labels[indices]\n"
      ],
      "execution_count": 0,
      "outputs": []
    },
    {
      "metadata": {
        "id": "9WRdzRvbTxlM",
        "colab_type": "code",
        "colab": {}
      },
      "cell_type": "code",
      "source": [
        "\n",
        "\n",
        "nb_validation_samples = int(TRAIN_SPLIT * data.shape[0])\n",
        "\n",
        "x_train = data[:-nb_validation_samples]\n",
        "y_train = labels[:-nb_validation_samples]\n",
        "x_val = data[-nb_validation_samples:]\n",
        "y_val = labels[-nb_validation_samples:]\n",
        "\n",
        "\n"
      ],
      "execution_count": 0,
      "outputs": []
    },
    {
      "metadata": {
        "id": "zzC8dY4Uf2vl",
        "colab_type": "code",
        "colab": {}
      },
      "cell_type": "code",
      "source": [
        "encoder = LabelBinarizer()\n",
        "encoder.fit(y_train)\n",
        "y_train = encoder.transform(y_train)\n",
        "y_val = encoder.transform(y_val)"
      ],
      "execution_count": 0,
      "outputs": []
    },
    {
      "metadata": {
        "id": "aAexM5pmT-IU",
        "colab_type": "code",
        "outputId": "a683f866-a132-458e-a06d-009dbf6dc2d3",
        "colab": {
          "base_uri": "https://localhost:8080/",
          "height": 208
        }
      },
      "cell_type": "code",
      "source": [
        "# Get Pre-trained Embeddings - Fasttetxt\n",
        "\n",
        "!wget https://dl.fbaipublicfiles.com/fasttext/vectors-crawl/cc.ar.300.vec.gz"
      ],
      "execution_count": 0,
      "outputs": [
        {
          "output_type": "stream",
          "text": [
            "--2019-02-20 18:17:20--  https://dl.fbaipublicfiles.com/fasttext/vectors-crawl/cc.ar.300.vec.gz\n",
            "Resolving dl.fbaipublicfiles.com (dl.fbaipublicfiles.com)... 104.20.22.166, 104.20.6.166, 2606:4700:10::6814:16a6, ...\n",
            "Connecting to dl.fbaipublicfiles.com (dl.fbaipublicfiles.com)|104.20.22.166|:443... connected.\n",
            "HTTP request sent, awaiting response... 200 OK\n",
            "Length: 1272365870 (1.2G) [binary/octet-stream]\n",
            "Saving to: ‘cc.ar.300.vec.gz’\n",
            "\n",
            "cc.ar.300.vec.gz    100%[===================>]   1.18G  54.2MB/s    in 21s     \n",
            "\n",
            "2019-02-20 18:17:42 (57.4 MB/s) - ‘cc.ar.300.vec.gz’ saved [1272365870/1272365870]\n",
            "\n"
          ],
          "name": "stdout"
        }
      ]
    },
    {
      "metadata": {
        "id": "k7ag1Z6s4YfE",
        "colab_type": "code",
        "outputId": "9dfb2231-b298-49b7-f06b-b90423788c6d",
        "colab": {
          "base_uri": "https://localhost:8080/",
          "height": 124
        }
      },
      "cell_type": "code",
      "source": [
        "!pip install patool\n",
        "\n"
      ],
      "execution_count": 0,
      "outputs": [
        {
          "output_type": "stream",
          "text": [
            "Collecting patool\n",
            "\u001b[?25l  Downloading https://files.pythonhosted.org/packages/43/94/52243ddff508780dd2d8110964320ab4851134a55ab102285b46e740f76a/patool-1.12-py2.py3-none-any.whl (77kB)\n",
            "\r\u001b[K    13% |████▎                           | 10kB 13.2MB/s eta 0:00:01\r\u001b[K    26% |████████▌                       | 20kB 3.1MB/s eta 0:00:01\r\u001b[K    39% |████████████▊                   | 30kB 4.4MB/s eta 0:00:01\r\u001b[K    52% |█████████████████               | 40kB 2.9MB/s eta 0:00:01\r\u001b[K    66% |█████████████████████▏          | 51kB 3.6MB/s eta 0:00:01\r\u001b[K    79% |█████████████████████████▍      | 61kB 4.2MB/s eta 0:00:01\r\u001b[K    92% |█████████████████████████████▋  | 71kB 4.9MB/s eta 0:00:01\r\u001b[K    100% |████████████████████████████████| 81kB 5.0MB/s \n",
            "\u001b[?25hInstalling collected packages: patool\n",
            "Successfully installed patool-1.12\n"
          ],
          "name": "stdout"
        }
      ]
    },
    {
      "metadata": {
        "id": "GcGQcNZb6w85",
        "colab_type": "code",
        "outputId": "829786fc-1506-43a7-a9a8-7465226a05aa",
        "colab": {
          "base_uri": "https://localhost:8080/",
          "height": 86
        }
      },
      "cell_type": "code",
      "source": [
        "import patoolib\n",
        "\n",
        "path_to_zip_file = 'cc.ar.300.vec.gz'\n",
        "directory_to_extract_to = os.getcwd()  \n",
        "patoolib.extract_archive(path_to_zip_file,outdir = directory_to_extract_to )"
      ],
      "execution_count": 0,
      "outputs": [
        {
          "output_type": "stream",
          "text": [
            "patool: Extracting cc.ar.300.vec.gz ...\n",
            "patool: running /usr/bin/7z e -o/content -- cc.ar.300.vec.gz\n",
            "patool: ... cc.ar.300.vec.gz extracted to `/content'.\n"
          ],
          "name": "stdout"
        },
        {
          "output_type": "execute_result",
          "data": {
            "text/plain": [
              "'/content'"
            ]
          },
          "metadata": {
            "tags": []
          },
          "execution_count": 23
        }
      ]
    },
    {
      "metadata": {
        "id": "4fVV_FTDUoA8",
        "colab_type": "code",
        "outputId": "e0d51e7e-e6b1-4cc2-8582-7dcb9cc0e486",
        "colab": {
          "base_uri": "https://localhost:8080/",
          "height": 210
        }
      },
      "cell_type": "code",
      "source": [
        "\n",
        "os.listdir()"
      ],
      "execution_count": 0,
      "outputs": [
        {
          "output_type": "execute_result",
          "data": {
            "text/plain": [
              "['.config',\n",
              " 'cc.ar.300.vec.gz',\n",
              " 'SemEval2017-task4-dev.subtask-A.arabic.INPUT.txt',\n",
              " 'full_grams_sg_100_twitter.zip',\n",
              " '4a-arabic.zip.1',\n",
              " 'full_grams_sg_100_twitter.mdl.wv.vectors.npy',\n",
              " 'full_grams_sg_100_twitter.mdl',\n",
              " 'cc.ar.300.vec',\n",
              " 'full_grams_sg_100_twitter.mdl.trainables.syn1neg.npy',\n",
              " '4a-arabic.zip',\n",
              " 'sample_data']"
            ]
          },
          "metadata": {
            "tags": []
          },
          "execution_count": 26
        }
      ]
    },
    {
      "metadata": {
        "id": "ogmwkrpkV4if",
        "colab_type": "code",
        "outputId": "e6feacd0-985a-4fa4-ae00-bbf5089719d2",
        "colab": {
          "base_uri": "https://localhost:8080/",
          "height": 34
        }
      },
      "cell_type": "code",
      "source": [
        "embeddings_index = {}\n",
        "f = open('cc.ar.300.vec')\n",
        "for line in f:\n",
        "    values = line.split()\n",
        "    word = values[0]\n",
        "    coefs = np.asarray(values[1:], dtype='float32')\n",
        "    embeddings_index[word] = coefs\n",
        "f.close()\n",
        "\n",
        "print('Found %s word vectors.' % len(embeddings_index))"
      ],
      "execution_count": 0,
      "outputs": [
        {
          "output_type": "stream",
          "text": [
            "Found 2000000 word vectors.\n"
          ],
          "name": "stdout"
        }
      ]
    },
    {
      "metadata": {
        "id": "_0DvjSvWWPWl",
        "colab_type": "code",
        "colab": {}
      },
      "cell_type": "code",
      "source": [
        "embedding_matrix = np.zeros((len(word_index) + 1, EMBED_SIZE))\n",
        "for word, i in word_index.items():\n",
        "    embedding_vector = embeddings_index.get(word)\n",
        "    if embedding_vector is not None:\n",
        "        # words not found in embedding index will be all-zeros.\n",
        "        embedding_matrix[i] = embedding_vector"
      ],
      "execution_count": 0,
      "outputs": []
    },
    {
      "metadata": {
        "id": "WK_Lj9d8WfGI",
        "colab_type": "code",
        "colab": {}
      },
      "cell_type": "code",
      "source": [
        "from keras.layers import Embedding\n",
        "\n",
        "embedding_layer = Embedding(len(word_index) + 1,\n",
        "                            EMBED_SIZE,\n",
        "                            weights=[embedding_matrix],\n",
        "                            input_length=MAXIMUM_LENGTH,\n",
        "                            trainable=False)"
      ],
      "execution_count": 0,
      "outputs": []
    },
    {
      "metadata": {
        "id": "EG9VjLzyXpt3",
        "colab_type": "code",
        "colab": {}
      },
      "cell_type": "code",
      "source": [
        "class GlobalAveragePooling1DMasked(GlobalAveragePooling1D):\n",
        "    def call(self, x, mask=None):\n",
        "        if mask != None:\n",
        "            return K.sum(x, axis=1) / K.sum(mask, axis=1)\n",
        "        else:\n",
        "            return super().call(x)"
      ],
      "execution_count": 0,
      "outputs": []
    },
    {
      "metadata": {
        "id": "Fd2dGgGXXOZl",
        "colab_type": "code",
        "outputId": "a7ac87ed-6485-4566-dc9d-0bd9b857201b",
        "colab": {
          "base_uri": "https://localhost:8080/",
          "height": 278
        }
      },
      "cell_type": "code",
      "source": [
        "# Model with Embedding Layer\n",
        "model = Sequential()\n",
        "\n",
        "#We change our first layer in model1 to an Embedding layer\n",
        "model.add(keras.layers.Embedding(VOCAB_SIZE,16))\n",
        "\n",
        "\n",
        "#The second layer is to compute average on all word vectors \n",
        "model.add(GlobalAveragePooling1DMasked())\n",
        "\n",
        "\n",
        "\n",
        "#The output vector is piped through a fully-connected layer\n",
        "model.add(keras.layers.Dense(16, activation=K.relu))\n",
        "\n",
        "\n",
        "\n",
        "#The last layer is connected with a single output node with the sigmoid activation function\n",
        "model.add(keras.layers.Dense(3, activation=K.softmax))\n",
        "\n",
        "\n",
        "model.compile(optimizer='adam',\n",
        "              loss='categorical_crossentropy',\n",
        "              metrics=['accuracy'])\n",
        "\n",
        "model.summary()"
      ],
      "execution_count": 0,
      "outputs": [
        {
          "output_type": "stream",
          "text": [
            "_________________________________________________________________\n",
            "Layer (type)                 Output Shape              Param #   \n",
            "=================================================================\n",
            "embedding_2 (Embedding)      (None, None, 16)          160000    \n",
            "_________________________________________________________________\n",
            "global_average_pooling1d_mas (None, 16)                0         \n",
            "_________________________________________________________________\n",
            "dense_3 (Dense)              (None, 16)                272       \n",
            "_________________________________________________________________\n",
            "dense_4 (Dense)              (None, 3)                 51        \n",
            "=================================================================\n",
            "Total params: 160,323\n",
            "Trainable params: 160,323\n",
            "Non-trainable params: 0\n",
            "_________________________________________________________________\n"
          ],
          "name": "stdout"
        }
      ]
    },
    {
      "metadata": {
        "id": "PbOSqBD7Xy9s",
        "colab_type": "code",
        "outputId": "4e8c7f47-b269-41f3-fe4d-c04330074213",
        "colab": {
          "base_uri": "https://localhost:8080/",
          "height": 139
        }
      },
      "cell_type": "code",
      "source": [
        "history = model.fit(x_train,\n",
        "                    np.array(y_train),\n",
        "                    epochs=3,\n",
        "                    batch_size=100,\n",
        "                    validation_data=(x_val, np.array(y_val)),\n",
        "                    verbose=1)\n"
      ],
      "execution_count": 0,
      "outputs": [
        {
          "output_type": "stream",
          "text": [
            "Train on 470 samples, validate on 201 samples\n",
            "Epoch 1/3\n",
            "470/470 [==============================] - 0s 978us/step - loss: 1.0869 - acc: 0.3957 - val_loss: 1.0979 - val_acc: 0.1741\n",
            "Epoch 2/3\n",
            "470/470 [==============================] - 0s 86us/step - loss: 1.0796 - acc: 0.3979 - val_loss: 1.0989 - val_acc: 0.1741\n",
            "Epoch 3/3\n",
            "470/470 [==============================] - 0s 73us/step - loss: 1.0717 - acc: 0.3979 - val_loss: 1.0996 - val_acc: 0.1741\n"
          ],
          "name": "stdout"
        }
      ]
    },
    {
      "metadata": {
        "id": "nWWHGRJ_YAt8",
        "colab_type": "code",
        "outputId": "b71b9ce3-192d-456e-d224-d90a8102a077",
        "colab": {
          "base_uri": "https://localhost:8080/",
          "height": 227
        }
      },
      "cell_type": "code",
      "source": [
        "#print(x_train[0])\n",
        "#print(y_train[0])\n",
        "print(x_val[0])\n",
        "print(y_val[0])"
      ],
      "execution_count": 0,
      "outputs": [
        {
          "output_type": "stream",
          "text": [
            "[ 0  0  0  0  0  0  0  0  0  0  0  0  0  0  0  0  0  0  0  0  0  0  0  0\n",
            "  0  0  0  0  0  0  0  0  0  0  0  0  0  0  0  0  0  0  0  0  0  0  0  0\n",
            "  0  0  0  0  0  0  0  0  0  0  0  0  0  0  0  0  0  0  0  0  0  0  0  0\n",
            "  0  0  0  0  0  0  0  0  0  0  0  0  0  0  0  0  0  0  0  0  0  0  0  0\n",
            "  0  0  0  0  0  0  0  0  0  0  0  0  0  0  0  0  0  0  0  0  0  0  0  0\n",
            "  0  0  0  0  0  0  0  0  0  0  0  0  0  0  0  0  0  0  0  0  0  0  0  0\n",
            "  0  0  0  0  0  0  0  0  0  0  0  0  0  0  0  0  0  0  0  0  0  0  0  0\n",
            "  0  0  0  0  0  0  0  0  0  0  0  0  0  0  0  0  0  0  0  0  0  0  0  0\n",
            "  0  0  0  0  0  0  0  0  0  0 17 37 30 35 20 22 39 17 37 30  1 16  8  9\n",
            " 14  2 29  4 29  3  6 13  7  2 28 16  4  9  2  4 15  8 24 12  1  3 28  5\n",
            " 23 45 46]\n",
            "[0 1 0]\n"
          ],
          "name": "stdout"
        }
      ]
    },
    {
      "metadata": {
        "id": "PHjs_Oat6Jl5",
        "colab_type": "code",
        "outputId": "cf09e82a-94b8-4be5-8720-f37a467cbcac",
        "colab": {
          "base_uri": "https://localhost:8080/",
          "height": 243
        }
      },
      "cell_type": "code",
      "source": [
        "model_lstm = Sequential() \n",
        "\n",
        "model_lstm.add(embedding_layer)\n",
        "\n",
        "#model_lstm.add(GlobalAveragePooling1DMasked())\n",
        "\n",
        "model_lstm.add(LSTM(100)) \n",
        "model_lstm.add(Dense(3, activation='softmax')) \n",
        "model_lstm.compile(loss='categorical_crossentropy',optimizer='adam', metrics=['accuracy']) \n",
        "\n",
        "model_lstm.summary()"
      ],
      "execution_count": 0,
      "outputs": [
        {
          "output_type": "stream",
          "text": [
            "_________________________________________________________________\n",
            "Layer (type)                 Output Shape              Param #   \n",
            "=================================================================\n",
            "embedding_1 (Embedding)      (None, 140, 300)          1553400   \n",
            "_________________________________________________________________\n",
            "lstm_2 (LSTM)                (None, 100)               160400    \n",
            "_________________________________________________________________\n",
            "dense_2 (Dense)              (None, 3)                 303       \n",
            "=================================================================\n",
            "Total params: 1,714,103\n",
            "Trainable params: 160,703\n",
            "Non-trainable params: 1,553,400\n",
            "_________________________________________________________________\n"
          ],
          "name": "stdout"
        }
      ]
    },
    {
      "metadata": {
        "id": "QbyCWZN6-VIb",
        "colab_type": "code",
        "outputId": "e35ef492-8a1b-4ed8-ccfc-4b46eb03d8fe",
        "colab": {
          "base_uri": "https://localhost:8080/",
          "height": 315
        }
      },
      "cell_type": "code",
      "source": [
        "history = model_lstm.fit(x_train,\n",
        "                    y_train,\n",
        "                    epochs=6,\n",
        "                    batch_size=100,\n",
        "                    validation_data=(x_val, y_val),\n",
        "                    verbose=1)"
      ],
      "execution_count": 0,
      "outputs": [
        {
          "output_type": "stream",
          "text": [
            "WARNING:tensorflow:From /usr/local/lib/python3.6/dist-packages/tensorflow/python/ops/math_ops.py:3066: to_int32 (from tensorflow.python.ops.math_ops) is deprecated and will be removed in a future version.\n",
            "Instructions for updating:\n",
            "Use tf.cast instead.\n",
            "Train on 470 samples, validate on 201 samples\n",
            "Epoch 1/6\n",
            "470/470 [==============================] - 4s 8ms/step - loss: 1.0832 - acc: 0.4255 - val_loss: 1.0955 - val_acc: 0.4677\n",
            "Epoch 2/6\n",
            "470/470 [==============================] - 3s 7ms/step - loss: 1.0278 - acc: 0.5128 - val_loss: 1.1239 - val_acc: 0.5075\n",
            "Epoch 3/6\n",
            "470/470 [==============================] - 3s 7ms/step - loss: 0.9946 - acc: 0.5298 - val_loss: 1.1912 - val_acc: 0.5075\n",
            "Epoch 4/6\n",
            "470/470 [==============================] - 3s 6ms/step - loss: 0.9735 - acc: 0.5574 - val_loss: 1.1321 - val_acc: 0.4826\n",
            "Epoch 5/6\n",
            "470/470 [==============================] - 3s 6ms/step - loss: 0.9453 - acc: 0.5809 - val_loss: 1.0976 - val_acc: 0.4826\n",
            "Epoch 6/6\n",
            "470/470 [==============================] - 3s 6ms/step - loss: 0.9104 - acc: 0.5830 - val_loss: 1.3420 - val_acc: 0.1940\n"
          ],
          "name": "stdout"
        }
      ]
    },
    {
      "metadata": {
        "id": "ioHFth40ScVA",
        "colab_type": "code",
        "outputId": "04ea3907-68ee-41c8-adb9-a8bbe684f7f6",
        "colab": {
          "base_uri": "https://localhost:8080/",
          "height": 52
        }
      },
      "cell_type": "code",
      "source": [
        "results_lstm = model_lstm.evaluate(x_val,y_val)\n",
        "print('Test Loss: ', results_lstm[0], 'Test Accuracy: ',results_lstm[1])"
      ],
      "execution_count": 0,
      "outputs": [
        {
          "output_type": "stream",
          "text": [
            "201/201 [==============================] - 1s 3ms/step\n",
            "Test Loss:  0.9832397290130159 Test Accuracy:  0.6467661695990397\n"
          ],
          "name": "stdout"
        }
      ]
    },
    {
      "metadata": {
        "id": "TVbK0_h0SmrC",
        "colab_type": "code",
        "outputId": "77dd513a-fc10-4ec9-879d-32f974c0c938",
        "colab": {
          "base_uri": "https://localhost:8080/",
          "height": 376
        }
      },
      "cell_type": "code",
      "source": [
        "import matplotlib.pyplot as plt\n",
        "\n",
        "history_dict = history.history\n",
        "\n",
        "acc = history_dict['acc']\n",
        "val_acc = history_dict['val_acc']\n",
        "loss = history_dict['loss']\n",
        "val_loss = history_dict['val_loss']\n",
        "\n",
        "epochs = range(1, len(acc) + 1)\n",
        "\n",
        "plt.plot(epochs, acc, 'bo', label='Training acc')\n",
        "plt.plot(epochs, val_acc, 'b', label='Validation acc')\n",
        "plt.title('Training and validation accuracy')\n",
        "plt.xlabel('Epochs')\n",
        "plt.ylabel('Accuracy')\n",
        "plt.legend()\n",
        "\n",
        "plt.show()"
      ],
      "execution_count": 0,
      "outputs": [
        {
          "output_type": "display_data",
          "data": {
            "image/png": "[encoded data removed]",
            "text/plain": [
              "<Figure size 576x396 with 1 Axes>"
            ]
          },
          "metadata": {
            "tags": []
          }
        }
      ]
    },
    {
      "metadata": {
        "id": "QsSTBvVDOtEV",
        "colab_type": "code",
        "outputId": "b1a500e5-c3d3-424b-a702-a0e0641b57e8",
        "colab": {
          "base_uri": "https://localhost:8080/",
          "height": 315
        }
      },
      "cell_type": "code",
      "source": [
        "model_lstm2 = Sequential() \n",
        "\n",
        "model_lstm2.add(embedding_layer)\n",
        "model_lstm2.add(Dropout(0.1))\n",
        "#model_lstm.add(GlobalAveragePooling1DMasked())\n",
        "\n",
        "model_lstm2.add(LSTM(100)) \n",
        "model_lstm2.add(Dropout(0.1))\n",
        "model_lstm2.add(Dense(3, activation='softmax')) \n",
        "model_lstm2.compile(loss='categorical_crossentropy',optimizer='adam', metrics=['accuracy']) \n",
        "\n",
        "model_lstm2.summary()"
      ],
      "execution_count": 0,
      "outputs": [
        {
          "output_type": "stream",
          "text": [
            "_________________________________________________________________\n",
            "Layer (type)                 Output Shape              Param #   \n",
            "=================================================================\n",
            "embedding_7 (Embedding)      (None, 140, 300)          1553400   \n",
            "_________________________________________________________________\n",
            "dropout_15 (Dropout)         (None, 140, 300)          0         \n",
            "_________________________________________________________________\n",
            "lstm_11 (LSTM)               (None, 100)               160400    \n",
            "_________________________________________________________________\n",
            "dropout_16 (Dropout)         (None, 100)               0         \n",
            "_________________________________________________________________\n",
            "dense_17 (Dense)             (None, 3)                 303       \n",
            "=================================================================\n",
            "Total params: 1,714,103\n",
            "Trainable params: 160,703\n",
            "Non-trainable params: 1,553,400\n",
            "_________________________________________________________________\n"
          ],
          "name": "stdout"
        }
      ]
    },
    {
      "metadata": {
        "id": "lICuKkIyOu18",
        "colab_type": "code",
        "outputId": "a73187a9-77b4-4fc1-f3c3-d9636c55ffbf",
        "colab": {
          "base_uri": "https://localhost:8080/",
          "height": 245
        }
      },
      "cell_type": "code",
      "source": [
        "history_lstm2 = model_lstm2.fit(x_train,\n",
        "                    y_train,\n",
        "                    epochs=6,\n",
        "                    batch_size=100,\n",
        "                    validation_data=(x_val, y_val),\n",
        "                    verbose=1)"
      ],
      "execution_count": 0,
      "outputs": [
        {
          "output_type": "stream",
          "text": [
            "Train on 470 samples, validate on 201 samples\n",
            "Epoch 1/6\n",
            "470/470 [==============================] - 7s 15ms/step - loss: 1.0822 - acc: 0.4319 - val_loss: 1.0780 - val_acc: 0.5274\n",
            "Epoch 2/6\n",
            "470/470 [==============================] - 3s 6ms/step - loss: 1.0342 - acc: 0.4574 - val_loss: 1.1022 - val_acc: 0.5274\n",
            "Epoch 3/6\n",
            "470/470 [==============================] - 3s 6ms/step - loss: 1.0028 - acc: 0.4596 - val_loss: 1.1479 - val_acc: 0.5274\n",
            "Epoch 4/6\n",
            "470/470 [==============================] - 3s 6ms/step - loss: 0.9853 - acc: 0.5170 - val_loss: 1.1638 - val_acc: 0.3532\n",
            "Epoch 5/6\n",
            "470/470 [==============================] - 3s 6ms/step - loss: 0.9670 - acc: 0.5745 - val_loss: 1.1177 - val_acc: 0.4478\n",
            "Epoch 6/6\n",
            "470/470 [==============================] - 3s 6ms/step - loss: 0.9457 - acc: 0.5979 - val_loss: 1.1114 - val_acc: 0.4577\n"
          ],
          "name": "stdout"
        }
      ]
    }
  ]
}