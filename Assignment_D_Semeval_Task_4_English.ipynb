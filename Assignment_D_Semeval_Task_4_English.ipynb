{
  "nbformat": 4,
  "nbformat_minor": 0,
  "metadata": {
    "colab": {
      "name": "Submit Section D Semeval_Task_4_English.ipynb",
      "version": "0.3.2",
      "provenance": [],
      "collapsed_sections": []
    },
    "kernelspec": {
      "name": "python3",
      "display_name": "Python 3"
    }
  },
  "cells": [
    {
      "metadata": {
        "id": "mCf7xhF6BWaF",
        "colab_type": "code",
        "outputId": "1823a861-15be-4d2a-d6d5-87ccdfdda95a",
        "colab": {
          "base_uri": "https://localhost:8080/",
          "height": 34
        }
      },
      "cell_type": "code",
      "source": [
        "import keras\n",
        "from keras_preprocessing import text\n",
        "import numpy as np\n",
        "from keras.layers import Lambda, GlobalAveragePooling1D, Dense, Embedding, Input, Conv1D, MaxPooling1D, LSTM, Dropout\n",
        "from keras import backend as K\n",
        "import keras.initializers\n",
        "from keras.models import Sequential\n",
        "from keras.preprocessing.text import Tokenizer\n",
        "from keras.preprocessing.sequence import pad_sequences\n",
        "import os\n",
        "import zipfile\n",
        "import csv,io\n",
        "import nltk\n",
        "import string\n",
        "from string import punctuation\n",
        "import re\n",
        "from sklearn.preprocessing import LabelBinarizer"
      ],
      "execution_count": 0,
      "outputs": [
        {
          "output_type": "stream",
          "text": [
            "Using TensorFlow backend.\n"
          ],
          "name": "stderr"
        }
      ]
    },
    {
      "metadata": {
        "id": "QVJMSUX2NNaE",
        "colab_type": "code",
        "outputId": "fbc25a00-a50f-42af-afb9-ff405525390c",
        "colab": {
          "base_uri": "https://localhost:8080/",
          "height": 52
        }
      },
      "cell_type": "code",
      "source": [
        "nltk.download(\"stopwords\")\n",
        "from nltk.corpus import stopwords"
      ],
      "execution_count": 0,
      "outputs": [
        {
          "output_type": "stream",
          "text": [
            "[nltk_data] Downloading package stopwords to /root/nltk_data...\n",
            "[nltk_data]   Unzipping corpora/stopwords.zip.\n"
          ],
          "name": "stdout"
        }
      ]
    },
    {
      "metadata": {
        "id": "vOqSF9t9NUJQ",
        "colab_type": "code",
        "colab": {}
      },
      "cell_type": "code",
      "source": [
        "# Constants\n",
        "\n",
        "EMBED_SIZE=100\n",
        "VOCAB_SIZE = 10000\n",
        "INDEX_FROM = 2\n",
        "#MAXIMUM_LENGTH = 500\n",
        "TRAIN_SPLIT = 0.5"
      ],
      "execution_count": 0,
      "outputs": []
    },
    {
      "metadata": {
        "id": "ieIDEytVNdlz",
        "colab_type": "code",
        "outputId": "229c5e0f-6785-4c12-a8ee-6e71447abc0a",
        "colab": {
          "base_uri": "https://localhost:8080/",
          "height": 228
        }
      },
      "cell_type": "code",
      "source": [
        "# Get Data\n",
        "\n",
        "!wget http://alt.qcri.org/semeval2017/task4/data/uploads/codalab/4a-english.zip"
      ],
      "execution_count": 0,
      "outputs": [
        {
          "output_type": "stream",
          "text": [
            "--2019-02-20 16:07:16--  http://alt.qcri.org/semeval2017/task4/data/uploads/codalab/4a-english.zip\n",
            "Resolving alt.qcri.org (alt.qcri.org)... 13.93.27.76\n",
            "Connecting to alt.qcri.org (alt.qcri.org)|13.93.27.76|:80... connected.\n",
            "HTTP request sent, awaiting response... 200 OK\n",
            "Length: 1670639 (1.6M) [application/zip]\n",
            "Saving to: ‘4a-english.zip’\n",
            "\n",
            "4a-english.zip      100%[===================>]   1.59M  1.68MB/s    in 1.0s    \n",
            "\n",
            "2019-02-20 16:07:18 (1.68 MB/s) - ‘4a-english.zip’ saved [1670639/1670639]\n",
            "\n"
          ],
          "name": "stdout"
        }
      ]
    },
    {
      "metadata": {
        "id": "-F2fIRq_NhYo",
        "colab_type": "code",
        "colab": {}
      },
      "cell_type": "code",
      "source": [
        "# Extract Training Data File\n",
        "\n",
        "def extract_without_folder(arc_name, full_item_name, folder):\n",
        "    with zipfile.ZipFile(arc_name) as zf:\n",
        "        file_data = zf.read(full_item_name)\n",
        "    with open(os.path.join(folder, os.path.basename(full_item_name)), \"wb\") as fout:\n",
        "        fout.write(file_data)\n",
        "\n",
        "path_to_zip_file = '4a-english.zip'\n",
        "directory_to_extract_to = os.getcwd()  \n",
        "extract_without_folder(path_to_zip_file,'4A-English/SemEval2017-task4-dev.subtask-A.english.INPUT.txt',directory_to_extract_to )"
      ],
      "execution_count": 0,
      "outputs": []
    },
    {
      "metadata": {
        "id": "1hkLzt5KQIiO",
        "colab_type": "code",
        "outputId": "25e66451-ca01-40c7-de12-317f20b5ee5b",
        "colab": {
          "base_uri": "https://localhost:8080/",
          "height": 176
        }
      },
      "cell_type": "code",
      "source": [
        "#Sanity Check: Read and Display data\n",
        "text_file = open(\"SemEval2017-task4-dev.subtask-A.english.INPUT.txt\", \"r\")\n",
        "corpus = text_file.read()\n",
        "print(len(corpus))\n",
        "print(corpus[:1000])"
      ],
      "execution_count": 0,
      "outputs": [
        {
          "output_type": "stream",
          "text": [
            "2995085\n",
            "619950566786113536\tneutral\t\"Picturehouse's, Pink Floyd's, 'Roger Waters: The Walll - opening 29 Sept is now making waves. Watch the trailer on Rolling Stone - look...\"\t\n",
            "619969366986235905\tneutral\tOrder Go Set a Watchman in store or through our website before Tuesday and get it half price! #GSAW @GSAWatchmanBook https://t.co/KET6EGD1an\t\n",
            "619971047195045888\tnegative\t\"If these runway renovations at the airport prevent me from seeing Taylor Swift on Monday, Bad Blood will have a new meaning.\"\t\n",
            "619974445185302528\tneutral\t\"If you could ask an onstage interview question at Miss USA tomorrow, what would it be?\"\t\n",
            "619987808317407232\tpositive\tA portion of book sales from our Harper Lee/Go Set a Watchman release party on Mon. 7/13 will support @CAP_Tulsa and the great work they do.\t\n",
            "619994586182619136\tpositive\t\"Excited to read \"\"Go Set a Watchman\"\" on Tuesday.  But can it possibly live up to \"\"To Kill a Mockingbird?\"\"  Any opinions?\"\t\n",
            "619998879447162881\tpositive\t\"Watching Miss USA tomorrow JUST to \n"
          ],
          "name": "stdout"
        }
      ]
    },
    {
      "metadata": {
        "id": "Cl6QSnsyQy-B",
        "colab_type": "code",
        "colab": {}
      },
      "cell_type": "code",
      "source": [
        "#Preprocessing 1 - Create tweet data and labels\n",
        "\n",
        "labels = []\n",
        "tweets = []\n",
        "f = csv.reader(io.StringIO(corpus), delimiter='\\t')\n",
        "for row in f:\n",
        "  labels.append(row[1])\n",
        "  tweets.append(row[2])\n",
        "    #print(row[1], row[2])"
      ],
      "execution_count": 0,
      "outputs": []
    },
    {
      "metadata": {
        "id": "7R4nBUSKmcF8",
        "colab_type": "code",
        "colab": {}
      },
      "cell_type": "code",
      "source": [
        "remove_terms = punctuation + '0123456789'"
      ],
      "execution_count": 0,
      "outputs": []
    },
    {
      "metadata": {
        "id": "4_E60Zd9mmuW",
        "colab_type": "code",
        "colab": {}
      },
      "cell_type": "code",
      "source": [
        "def normalize_document(doc):\n",
        "    stop_words = nltk.corpus.stopwords.words('english')\n",
        "    wpt = nltk.WordPunctTokenizer()\n",
        "\n",
        "\n",
        "    # lower case and remove special characters\\whitespaces\n",
        "\n",
        "    doc = re.sub(r'[^a-zA-Z\\s]', '', doc, re.I|re.A)\n",
        "\n",
        "    doc = doc.lower()\n",
        "\n",
        "    doc = doc.strip()\n",
        "\n",
        "    # tokenize document\n",
        "\n",
        "    tokens = wpt.tokenize(doc)\n",
        "\n",
        "    # filter stopwords out of document\n",
        "\n",
        "    filtered_tokens = [token for token in tokens if token not in stop_words]\n",
        "\n",
        "    # re-create document from filtered tokens\n",
        "\n",
        "    doc = ' '.join(filtered_tokens)\n",
        "\n",
        "    return doc\n",
        " "
      ],
      "execution_count": 0,
      "outputs": []
    },
    {
      "metadata": {
        "id": "YH9kzS8jmxrp",
        "colab_type": "code",
        "colab": {}
      },
      "cell_type": "code",
      "source": [
        "normalize_corpus = np.vectorize(normalize_document)\n",
        "normalized_corpus = [[word.lower() for word in sent if word not in remove_terms] for sent in tweets]\n",
        "\n",
        "normalized_corpus = [''.join(tok_sent) for tok_sent in normalized_corpus]\n",
        "\n",
        "#normalized_corpus = filter(None, normalize_corpus(normalized_corpus))\n",
        "#normalized_corpus = list(normalized_corpus)\n",
        "#normalized_corpus = [tok_sent for tok_sent in normalized_corpus if len(tok_sent.split()) > 2]\n",
        "\n",
        "normalized_corpus = list(normalized_corpus)"
      ],
      "execution_count": 0,
      "outputs": []
    },
    {
      "metadata": {
        "id": "VaVJbQuGm6mn",
        "colab_type": "code",
        "outputId": "d9e30700-67ed-4dfd-cbd0-a5478b377ff2",
        "colab": {
          "base_uri": "https://localhost:8080/",
          "height": 72
        }
      },
      "cell_type": "code",
      "source": [
        "print(tweets[0])\n",
        "print(normalized_corpus[0])"
      ],
      "execution_count": 0,
      "outputs": [
        {
          "output_type": "stream",
          "text": [
            "Picturehouse's, Pink Floyd's, 'Roger Waters: The Walll - opening 29 Sept is now making waves. Watch the trailer on Rolling Stone - look...\n",
            "picturehouses pink floyds roger waters the walll  opening  sept is now making waves watch the trailer on rolling stone  look\n"
          ],
          "name": "stdout"
        }
      ]
    },
    {
      "metadata": {
        "id": "ucGV7cKpQK0S",
        "colab_type": "code",
        "outputId": "f28b64ce-3ba5-46b8-d30c-3800766b69c0",
        "colab": {
          "base_uri": "https://localhost:8080/",
          "height": 89
        }
      },
      "cell_type": "code",
      "source": [
        "from keras.preprocessing.text import Tokenizer\n",
        "from keras.preprocessing.sequence import pad_sequences\n",
        "\n",
        "tokenizer = Tokenizer(nb_words=VOCAB_SIZE)\n",
        "tokenizer.fit_on_texts(normalized_corpus)\n",
        "sequences = tokenizer.texts_to_sequences(normalized_corpus)\n",
        "\n",
        "word_index = tokenizer.word_index\n",
        "print('Found %s unique tokens.' % len(word_index))"
      ],
      "execution_count": 0,
      "outputs": [
        {
          "output_type": "stream",
          "text": [
            "/usr/local/lib/python3.6/dist-packages/keras_preprocessing/text.py:178: UserWarning: The `nb_words` argument in `Tokenizer` has been renamed `num_words`.\n",
            "  warnings.warn('The `nb_words` argument in `Tokenizer` '\n"
          ],
          "name": "stderr"
        },
        {
          "output_type": "stream",
          "text": [
            "Found 37028 unique tokens.\n"
          ],
          "name": "stdout"
        }
      ]
    },
    {
      "metadata": {
        "id": "kbkFW5dmCEo1",
        "colab_type": "code",
        "colab": {}
      },
      "cell_type": "code",
      "source": [
        "def lengths(x):\n",
        "    if isinstance(x,list):\n",
        "        yield len(x)\n",
        "        for y in x:\n",
        "            yield from lengths(y)\n",
        "\n",
        "MAXIMUM_LENGTH = max([len(x) for x in normalized_corpus])"
      ],
      "execution_count": 0,
      "outputs": []
    },
    {
      "metadata": {
        "id": "Mpr9G5njR2f-",
        "colab_type": "code",
        "outputId": "e410a049-4e72-4d3f-d694-892f808ebc77",
        "colab": {
          "base_uri": "https://localhost:8080/",
          "height": 34
        }
      },
      "cell_type": "code",
      "source": [
        "from keras.utils import to_categorical\n",
        "\n",
        "data = pad_sequences(sequences, maxlen=MAXIMUM_LENGTH)\n",
        "\n",
        "#labels = to_categorical(np.asarray(labels))\n",
        "print('Shape of data tensor:', data.shape)\n",
        "#print('Shape of label tensor:', labels.shape)"
      ],
      "execution_count": 0,
      "outputs": [
        {
          "output_type": "stream",
          "text": [
            "Shape of data tensor: (20632, 144)\n"
          ],
          "name": "stdout"
        }
      ]
    },
    {
      "metadata": {
        "id": "4k8dQ7cXS3wJ",
        "colab_type": "code",
        "outputId": "8a9ba06a-9a1d-4503-c2cb-cfa02dafda63",
        "colab": {
          "base_uri": "https://localhost:8080/",
          "height": 295
        }
      },
      "cell_type": "code",
      "source": [
        "print(len(tweets))\n",
        "print(len(labels))\n",
        "print(len(data))\n",
        "print(len(sequences))\n",
        "print(len(normalized_corpus))\n",
        "print(data[0])"
      ],
      "execution_count": 0,
      "outputs": [
        {
          "output_type": "stream",
          "text": [
            "20632\n",
            "20632\n",
            "20632\n",
            "20632\n",
            "20632\n",
            "[   0    0    0    0    0    0    0    0    0    0    0    0    0    0\n",
            "    0    0    0    0    0    0    0    0    0    0    0    0    0    0\n",
            "    0    0    0    0    0    0    0    0    0    0    0    0    0    0\n",
            "    0    0    0    0    0    0    0    0    0    0    0    0    0    0\n",
            "    0    0    0    0    0    0    0    0    0    0    0    0    0    0\n",
            "    0    0    0    0    0    0    0    0    0    0    0    0    0    0\n",
            "    0    0    0    0    0    0    0    0    0    0    0    0    0    0\n",
            "    0    0    0    0    0    0    0    0    0    0    0    0    0    0\n",
            "    0    0    0    0    0    0    0    0    0    0    0    0    0    0\n",
            "    0 1665 3032 7939    1  911  445    9   65  591 6255  122    1 1191\n",
            "    7  405  422  331]\n"
          ],
          "name": "stdout"
        }
      ]
    },
    {
      "metadata": {
        "id": "mU8Q5DNYTFVk",
        "colab_type": "code",
        "outputId": "577092fb-97d5-47cb-9ee9-b69fa59d9202",
        "colab": {
          "base_uri": "https://localhost:8080/",
          "height": 86
        }
      },
      "cell_type": "code",
      "source": [
        "os.listdir()"
      ],
      "execution_count": 0,
      "outputs": [
        {
          "output_type": "execute_result",
          "data": {
            "text/plain": [
              "['.config',\n",
              " 'SemEval2017-task4-dev.subtask-A.english.INPUT.txt',\n",
              " '4a-english.zip',\n",
              " 'sample_data']"
            ]
          },
          "metadata": {
            "tags": []
          },
          "execution_count": 17
        }
      ]
    },
    {
      "metadata": {
        "id": "rdrzCgrCSnbN",
        "colab_type": "code",
        "colab": {}
      },
      "cell_type": "code",
      "source": [
        "# split the data into a training set and a validation set\n",
        "indices = np.arange(data.shape[0])\n",
        "#np.random.shuffle(indices)\n",
        "data = data[indices]\n",
        "#labels = labels[indices]\n"
      ],
      "execution_count": 0,
      "outputs": []
    },
    {
      "metadata": {
        "id": "9WRdzRvbTxlM",
        "colab_type": "code",
        "outputId": "ef1df347-d732-494c-ba75-9095d1ad2aa9",
        "colab": {
          "base_uri": "https://localhost:8080/",
          "height": 104
        }
      },
      "cell_type": "code",
      "source": [
        "\n",
        "\n",
        "nb_validation_samples = int(TRAIN_SPLIT * data.shape[0])\n",
        "\n",
        "x_train = data[:-nb_validation_samples]\n",
        "y_train = labels[:-nb_validation_samples]\n",
        "x_val = data[-nb_validation_samples:]\n",
        "y_val = labels[-nb_validation_samples:]\n",
        "\n",
        "\n",
        "print(nb_validation_samples)\n",
        "print(len(x_train))\n",
        "print(len(y_train))\n",
        "\n",
        "print(len(x_val))\n",
        "print(len(y_val))"
      ],
      "execution_count": 0,
      "outputs": [
        {
          "output_type": "stream",
          "text": [
            "10316\n",
            "10316\n",
            "10316\n",
            "10316\n",
            "10316\n"
          ],
          "name": "stdout"
        }
      ]
    },
    {
      "metadata": {
        "id": "zzC8dY4Uf2vl",
        "colab_type": "code",
        "colab": {}
      },
      "cell_type": "code",
      "source": [
        "encoder = LabelBinarizer()\n",
        "encoder.fit(y_train)\n",
        "y_train = encoder.transform(y_train)\n",
        "y_val = encoder.transform(y_val)"
      ],
      "execution_count": 0,
      "outputs": []
    },
    {
      "metadata": {
        "id": "aAexM5pmT-IU",
        "colab_type": "code",
        "outputId": "84e6f51c-5573-4f4e-e7c6-4ad3401ef6af",
        "colab": {
          "base_uri": "https://localhost:8080/",
          "height": 278
        }
      },
      "cell_type": "code",
      "source": [
        "# Get Pre-trained Embeddings\n",
        "\n",
        "!wget http://nlp.stanford.edu/data/glove.6B.zip"
      ],
      "execution_count": 0,
      "outputs": [
        {
          "output_type": "stream",
          "text": [
            "--2019-02-20 16:08:02--  http://nlp.stanford.edu/data/glove.6B.zip\n",
            "Resolving nlp.stanford.edu (nlp.stanford.edu)... 171.64.67.140\n",
            "Connecting to nlp.stanford.edu (nlp.stanford.edu)|171.64.67.140|:80... connected.\n",
            "HTTP request sent, awaiting response... 302 Found\n",
            "Location: https://nlp.stanford.edu/data/glove.6B.zip [following]\n",
            "--2019-02-20 16:08:02--  https://nlp.stanford.edu/data/glove.6B.zip\n",
            "Connecting to nlp.stanford.edu (nlp.stanford.edu)|171.64.67.140|:443... connected.\n",
            "HTTP request sent, awaiting response... 200 OK\n",
            "Length: 862182613 (822M) [application/zip]\n",
            "Saving to: ‘glove.6B.zip’\n",
            "\n",
            "glove.6B.zip        100%[===================>] 822.24M  10.1MB/s    in 75s     \n",
            "\n",
            "2019-02-20 16:09:17 (11.0 MB/s) - ‘glove.6B.zip’ saved [862182613/862182613]\n",
            "\n"
          ],
          "name": "stdout"
        }
      ]
    },
    {
      "metadata": {
        "id": "4fVV_FTDUoA8",
        "colab_type": "code",
        "colab": {}
      },
      "cell_type": "code",
      "source": [
        "#Unzip the embedding files\n",
        "\n",
        "path_to_zip_file = 'glove.6B.zip'\n",
        "directory_to_extract_to = os.getcwd()  \n",
        "\n",
        "zip_ref = zipfile.ZipFile(path_to_zip_file, 'r')\n",
        "zip_ref.extractall(directory_to_extract_to)\n",
        "zip_ref.close()"
      ],
      "execution_count": 0,
      "outputs": []
    },
    {
      "metadata": {
        "id": "ogmwkrpkV4if",
        "colab_type": "code",
        "outputId": "3e4f65fd-3e16-4253-936f-c58b0be8aba1",
        "colab": {
          "base_uri": "https://localhost:8080/",
          "height": 34
        }
      },
      "cell_type": "code",
      "source": [
        "embeddings_index = {}\n",
        "f = open('glove.6B.100d.txt')\n",
        "for line in f:\n",
        "    values = line.split()\n",
        "    word = values[0]\n",
        "    coefs = np.asarray(values[1:], dtype='float32')\n",
        "    embeddings_index[word] = coefs\n",
        "f.close()\n",
        "\n",
        "print('Found %s word vectors.' % len(embeddings_index))"
      ],
      "execution_count": 0,
      "outputs": [
        {
          "output_type": "stream",
          "text": [
            "Found 400000 word vectors.\n"
          ],
          "name": "stdout"
        }
      ]
    },
    {
      "metadata": {
        "id": "_0DvjSvWWPWl",
        "colab_type": "code",
        "colab": {}
      },
      "cell_type": "code",
      "source": [
        "embedding_matrix = np.zeros((len(word_index) + 1, EMBED_SIZE))\n",
        "for word, i in word_index.items():\n",
        "    embedding_vector = embeddings_index.get(word)\n",
        "    if embedding_vector is not None:\n",
        "        # words not found in embedding index will be all-zeros.\n",
        "        embedding_matrix[i] = embedding_vector"
      ],
      "execution_count": 0,
      "outputs": []
    },
    {
      "metadata": {
        "id": "WK_Lj9d8WfGI",
        "colab_type": "code",
        "colab": {}
      },
      "cell_type": "code",
      "source": [
        "from keras.layers import Embedding\n",
        "\n",
        "embedding_layer = Embedding(len(word_index) + 1,\n",
        "                            EMBED_SIZE,\n",
        "                            weights=[embedding_matrix],\n",
        "                            input_length=MAXIMUM_LENGTH,\n",
        "                            trainable=False)"
      ],
      "execution_count": 0,
      "outputs": []
    },
    {
      "metadata": {
        "id": "EG9VjLzyXpt3",
        "colab_type": "code",
        "colab": {}
      },
      "cell_type": "code",
      "source": [
        "class GlobalAveragePooling1DMasked(GlobalAveragePooling1D):\n",
        "    def call(self, x, mask=None):\n",
        "        if mask != None:\n",
        "            return K.sum(x, axis=1) / K.sum(mask, axis=1)\n",
        "        else:\n",
        "            return super().call(x)"
      ],
      "execution_count": 0,
      "outputs": []
    },
    {
      "metadata": {
        "id": "Fd2dGgGXXOZl",
        "colab_type": "code",
        "outputId": "a1b38638-b12b-4baa-cf7a-a2e16fe346dc",
        "colab": {
          "base_uri": "https://localhost:8080/",
          "height": 356
        }
      },
      "cell_type": "code",
      "source": [
        "# Model with Embedding Layer\n",
        "model = Sequential()\n",
        "\n",
        "#We change our first layer in model1 to an Embedding layer\n",
        "model.add(keras.layers.Embedding(VOCAB_SIZE,16))\n",
        "\n",
        "\n",
        "#The second layer is to compute average on all word vectors \n",
        "model.add(GlobalAveragePooling1DMasked())\n",
        "\n",
        "\n",
        "\n",
        "#The output vector is piped through a fully-connected layer\n",
        "model.add(keras.layers.Dense(16, activation=K.relu))\n",
        "\n",
        "\n",
        "\n",
        "#The last layer is connected with a single output node with the sigmoid activation function\n",
        "model.add(keras.layers.Dense(3, activation=K.sigmoid))\n",
        "\n",
        "\n",
        "model.compile(optimizer='adam',\n",
        "              loss='categorical_crossentropy',\n",
        "              metrics=['accuracy'])\n",
        "\n",
        "model.summary()"
      ],
      "execution_count": 0,
      "outputs": [
        {
          "output_type": "stream",
          "text": [
            "WARNING:tensorflow:From /usr/local/lib/python3.6/dist-packages/tensorflow/python/framework/op_def_library.py:263: colocate_with (from tensorflow.python.framework.ops) is deprecated and will be removed in a future version.\n",
            "Instructions for updating:\n",
            "Colocations handled automatically by placer.\n",
            "_________________________________________________________________\n",
            "Layer (type)                 Output Shape              Param #   \n",
            "=================================================================\n",
            "embedding_2 (Embedding)      (None, None, 16)          160000    \n",
            "_________________________________________________________________\n",
            "global_average_pooling1d_mas (None, 16)                0         \n",
            "_________________________________________________________________\n",
            "dense_1 (Dense)              (None, 16)                272       \n",
            "_________________________________________________________________\n",
            "dense_2 (Dense)              (None, 3)                 51        \n",
            "=================================================================\n",
            "Total params: 160,323\n",
            "Trainable params: 160,323\n",
            "Non-trainable params: 0\n",
            "_________________________________________________________________\n"
          ],
          "name": "stdout"
        }
      ]
    },
    {
      "metadata": {
        "id": "PbOSqBD7Xy9s",
        "colab_type": "code",
        "outputId": "eebd215d-a0df-48af-e4a9-aef00a9064c8",
        "colab": {
          "base_uri": "https://localhost:8080/",
          "height": 230
        }
      },
      "cell_type": "code",
      "source": [
        "history = model.fit(x_train,\n",
        "                    np.array(y_train),\n",
        "                    epochs=3,\n",
        "                    batch_size=100,\n",
        "                    validation_data=(x_val, np.array(y_val)),\n",
        "                    verbose=1)\n"
      ],
      "execution_count": 0,
      "outputs": [
        {
          "output_type": "stream",
          "text": [
            "WARNING:tensorflow:From /usr/local/lib/python3.6/dist-packages/tensorflow/python/ops/math_ops.py:3066: to_int32 (from tensorflow.python.ops.math_ops) is deprecated and will be removed in a future version.\n",
            "Instructions for updating:\n",
            "Use tf.cast instead.\n",
            "Train on 16505 samples, validate on 4127 samples\n",
            "Epoch 1/3\n",
            "16505/16505 [==============================] - 2s 131us/step - loss: 1.0556 - acc: 0.4869 - val_loss: 0.9949 - val_acc: 0.4650\n",
            "Epoch 2/3\n",
            "16505/16505 [==============================] - 1s 73us/step - loss: 1.0009 - acc: 0.5103 - val_loss: 0.9986 - val_acc: 0.4650\n",
            "Epoch 3/3\n",
            "16505/16505 [==============================] - 1s 64us/step - loss: 0.9972 - acc: 0.5103 - val_loss: 0.9958 - val_acc: 0.4650\n"
          ],
          "name": "stdout"
        }
      ]
    },
    {
      "metadata": {
        "id": "cWiREfHqvr73",
        "colab_type": "code",
        "outputId": "9ce2b313-5626-4ae5-bab9-bbc3a613bf48",
        "colab": {
          "base_uri": "https://localhost:8080/",
          "height": 376
        }
      },
      "cell_type": "code",
      "source": [
        "import matplotlib.pyplot as plt\n",
        "\n",
        "history_dict = history.history\n",
        "\n",
        "acc = history_dict['acc']\n",
        "val_acc = history_dict['val_acc']\n",
        "loss = history_dict['loss']\n",
        "val_loss = history_dict['val_loss']\n",
        "\n",
        "epochs = range(1, len(acc) + 1)\n",
        "\n",
        "plt.plot(epochs, acc, 'bo', label='Training acc')\n",
        "plt.plot(epochs, val_acc, 'b', label='Validation acc')\n",
        "plt.title('Training and validation accuracy')\n",
        "plt.xlabel('Epochs')\n",
        "plt.ylabel('Accuracy')\n",
        "plt.legend()\n",
        "\n",
        "plt.show()"
      ],
      "execution_count": 0,
      "outputs": [
        {
          "output_type": "display_data",
          "data": {
            "image/png": "[encoded data removed]",
            "text/plain": [
              "<Figure size 576x396 with 1 Axes>"
            ]
          },
          "metadata": {
            "tags": []
          }
        }
      ]
    },
    {
      "metadata": {
        "id": "nWWHGRJ_YAt8",
        "colab_type": "code",
        "outputId": "0345a037-07ba-49bb-80fe-976e3c2b320a",
        "colab": {
          "base_uri": "https://localhost:8080/",
          "height": 210
        }
      },
      "cell_type": "code",
      "source": [
        "#print(x_train[0])\n",
        "#print(y_train[0])\n",
        "print(x_val[0])\n",
        "print(y_val[0])"
      ],
      "execution_count": 0,
      "outputs": [
        {
          "output_type": "stream",
          "text": [
            "[   0    0    0    0    0    0    0    0    0    0    0    0    0    0\n",
            "    0    0    0    0    0    0    0    0    0    0    0    0    0    0\n",
            "    0    0    0    0    0    0    0    0    0    0    0    0    0    0\n",
            "    0    0    0    0    0    0    0    0    0    0    0    0    0    0\n",
            "    0    0    0    0    0    0    0    0    0    0    0    0    0    0\n",
            "    0    0    0    0    0    0    0    0    0    0    0    0    0    0\n",
            "    0    0    0    0    0    0    0    0    0    0    0    0    0    0\n",
            "    0    0    0    0    0    0    0    0    0    0    0    0    0    0\n",
            "    0    0    0    0    0    0    0    0    0  444  451 1982    9   60\n",
            "  319 1982 5376    2    1   27  172]\n",
            "[0 1 0]\n"
          ],
          "name": "stdout"
        }
      ]
    },
    {
      "metadata": {
        "id": "PHjs_Oat6Jl5",
        "colab_type": "code",
        "colab": {}
      },
      "cell_type": "code",
      "source": [
        "model_lstm = Sequential() \n",
        "\n",
        "model_lstm.add(embedding_layer)\n",
        "\n",
        "#model_lstm.add(GlobalAveragePooling1DMasked())\n",
        "\n",
        "model_lstm.add(LSTM(100)) \n",
        "model_lstm.add(Dense(3, activation='softmax')) \n",
        "model_lstm.compile(loss='categorical_crossentropy',optimizer='adam', metrics=['accuracy']) \n"
      ],
      "execution_count": 0,
      "outputs": []
    },
    {
      "metadata": {
        "id": "g94zY33X957a",
        "colab_type": "code",
        "outputId": "6abad2aa-479e-4059-92ce-617ee391d5e7",
        "colab": {
          "base_uri": "https://localhost:8080/",
          "height": 262
        }
      },
      "cell_type": "code",
      "source": [
        "print(model_lstm.summary())"
      ],
      "execution_count": 0,
      "outputs": [
        {
          "output_type": "stream",
          "text": [
            "_________________________________________________________________\n",
            "Layer (type)                 Output Shape              Param #   \n",
            "=================================================================\n",
            "embedding_3 (Embedding)      (None, 144, 100)          3702900   \n",
            "_________________________________________________________________\n",
            "lstm_1 (LSTM)                (None, 100)               80400     \n",
            "_________________________________________________________________\n",
            "dense_3 (Dense)              (None, 3)                 303       \n",
            "=================================================================\n",
            "Total params: 3,783,603\n",
            "Trainable params: 80,703\n",
            "Non-trainable params: 3,702,900\n",
            "_________________________________________________________________\n",
            "None\n"
          ],
          "name": "stdout"
        }
      ]
    },
    {
      "metadata": {
        "id": "QbyCWZN6-VIb",
        "colab_type": "code",
        "outputId": "abc8f314-3c01-4917-b99f-f459b3ff770f",
        "colab": {
          "base_uri": "https://localhost:8080/",
          "height": 140
        }
      },
      "cell_type": "code",
      "source": [
        "history = model_lstm.fit(x_train,\n",
        "                    y_train,\n",
        "                    epochs=3,\n",
        "                    batch_size=100,\n",
        "                    validation_data=(x_val, y_val),\n",
        "                    verbose=1)"
      ],
      "execution_count": 0,
      "outputs": [
        {
          "output_type": "stream",
          "text": [
            "Train on 10316 samples, validate on 10316 samples\n",
            "Epoch 1/3\n",
            "10316/10316 [==============================] - 49s 5ms/step - loss: 0.7433 - acc: 0.6543 - val_loss: 0.8158 - val_acc: 0.6185\n",
            "Epoch 2/3\n",
            "10316/10316 [==============================] - 49s 5ms/step - loss: 0.7144 - acc: 0.6748 - val_loss: 0.8128 - val_acc: 0.6201\n",
            "Epoch 3/3\n",
            "10316/10316 [==============================] - 51s 5ms/step - loss: 0.6934 - acc: 0.6866 - val_loss: 0.8096 - val_acc: 0.6283\n"
          ],
          "name": "stdout"
        }
      ]
    },
    {
      "metadata": {
        "id": "bw69OEtw6FgE",
        "colab_type": "code",
        "outputId": "fce0d3a4-a8fc-41ab-d411-379a68074bfc",
        "colab": {
          "base_uri": "https://localhost:8080/",
          "height": 52
        }
      },
      "cell_type": "code",
      "source": [
        "results_lstm = model_lstm.evaluate(x_val,y_val)\n",
        "print('Test Loss: ', results_lstm[0], 'Test Accuracy: ',results_lstm[1])"
      ],
      "execution_count": 0,
      "outputs": [
        {
          "output_type": "stream",
          "text": [
            "10316/10316 [==============================] - 11s 1ms/step\n",
            "Test Loss:  0.8095827415822411 Test Accuracy:  0.6283443195267951\n"
          ],
          "name": "stdout"
        }
      ]
    },
    {
      "metadata": {
        "id": "JEwoNUcOvxuW",
        "colab_type": "code",
        "outputId": "04991727-ed84-419e-e3f2-14a50423a813",
        "colab": {
          "base_uri": "https://localhost:8080/",
          "height": 379
        }
      },
      "cell_type": "code",
      "source": [
        "import matplotlib.pyplot as plt\n",
        "\n",
        "history_dict = history.history\n",
        "\n",
        "acc = history_dict['acc']\n",
        "val_acc = history_dict['val_acc']\n",
        "loss = history_dict['loss']\n",
        "val_loss = history_dict['val_loss']\n",
        "\n",
        "epochs = range(1, len(acc) + 1)\n",
        "\n",
        "plt.plot(epochs, acc, 'bo', label='Training acc')\n",
        "plt.plot(epochs, val_acc, 'b', label='Validation acc')\n",
        "plt.title('Training and validation accuracy')\n",
        "plt.xlabel('Epochs')\n",
        "plt.ylabel('Accuracy')\n",
        "plt.legend()\n",
        "\n",
        "plt.show()"
      ],
      "execution_count": 0,
      "outputs": [
        {
          "output_type": "display_data",
          "data": {
            "image/png": "[encoded data removed]",
            "text/plain": [
              "<Figure size 576x396 with 1 Axes>"
            ]
          },
          "metadata": {
            "tags": []
          }
        }
      ]
    },
    {
      "metadata": {
        "id": "3RXYrCretYsy",
        "colab_type": "code",
        "outputId": "05da47e9-6826-4b27-ea13-e2a2c71f65d3",
        "colab": {
          "base_uri": "https://localhost:8080/",
          "height": 391
        }
      },
      "cell_type": "code",
      "source": [
        "model_lstm2 = Sequential() \n",
        "\n",
        "model_lstm2.add(embedding_layer)\n",
        "model_lstm2.add(Dropout(0.5))\n",
        "#model_lstm.add(GlobalAveragePooling1DMasked())\n",
        "\n",
        "model_lstm2.add(LSTM(100)) \n",
        "model_lstm2.add(Dropout(0.5))\n",
        "model_lstm2.add(Dense(3, activation='softmax')) \n",
        "model_lstm2.compile(loss='categorical_crossentropy',optimizer='adam', metrics=['accuracy']) \n",
        "\n",
        "model_lstm2.summary()"
      ],
      "execution_count": 0,
      "outputs": [
        {
          "output_type": "stream",
          "text": [
            "WARNING:tensorflow:From /usr/local/lib/python3.6/dist-packages/keras/backend/tensorflow_backend.py:3445: calling dropout (from tensorflow.python.ops.nn_ops) with keep_prob is deprecated and will be removed in a future version.\n",
            "Instructions for updating:\n",
            "Please use `rate` instead of `keep_prob`. Rate should be set to `rate = 1 - keep_prob`.\n",
            "_________________________________________________________________\n",
            "Layer (type)                 Output Shape              Param #   \n",
            "=================================================================\n",
            "embedding_3 (Embedding)      (None, 144, 100)          3702900   \n",
            "_________________________________________________________________\n",
            "dropout_1 (Dropout)          (None, 144, 100)          0         \n",
            "_________________________________________________________________\n",
            "lstm_2 (LSTM)                (None, 100)               80400     \n",
            "_________________________________________________________________\n",
            "dropout_2 (Dropout)          (None, 100)               0         \n",
            "_________________________________________________________________\n",
            "dense_4 (Dense)              (None, 3)                 303       \n",
            "=================================================================\n",
            "Total params: 3,783,603\n",
            "Trainable params: 80,703\n",
            "Non-trainable params: 3,702,900\n",
            "_________________________________________________________________\n"
          ],
          "name": "stdout"
        }
      ]
    },
    {
      "metadata": {
        "id": "62TbopMRuY22",
        "colab_type": "code",
        "outputId": "db1ca63a-622f-4e2f-8d15-f88682ef50ca",
        "colab": {
          "base_uri": "https://localhost:8080/",
          "height": 140
        }
      },
      "cell_type": "code",
      "source": [
        "history_lstm2 = model_lstm2.fit(x_train,\n",
        "                    y_train,\n",
        "                    epochs=3,\n",
        "                    batch_size=100,\n",
        "                    validation_data=(x_val, y_val),\n",
        "                    verbose=1)"
      ],
      "execution_count": 0,
      "outputs": [
        {
          "output_type": "stream",
          "text": [
            "Train on 10316 samples, validate on 10316 samples\n",
            "Epoch 1/3\n",
            "10316/10316 [==============================] - 51s 5ms/step - loss: 0.9588 - acc: 0.5197 - val_loss: 0.8945 - val_acc: 0.5675\n",
            "Epoch 2/3\n",
            "10316/10316 [==============================] - 50s 5ms/step - loss: 0.8801 - acc: 0.5731 - val_loss: 0.8901 - val_acc: 0.5644\n",
            "Epoch 3/3\n",
            "10316/10316 [==============================] - 50s 5ms/step - loss: 0.8562 - acc: 0.5867 - val_loss: 0.8895 - val_acc: 0.5845\n"
          ],
          "name": "stdout"
        }
      ]
    },
    {
      "metadata": {
        "id": "lJlMdSdg-g3y",
        "colab_type": "code",
        "outputId": "e6634454-0f98-4c2a-808f-d16dfcff5a8b",
        "colab": {
          "base_uri": "https://localhost:8080/",
          "height": 52
        }
      },
      "cell_type": "code",
      "source": [
        "results_lstm2 = model_lstm2.evaluate(x_val,y_val)\n",
        "print('Test Loss: ', results_lstm2[0], 'Test Accuracy: ',results_lstm2[1])"
      ],
      "execution_count": 0,
      "outputs": [
        {
          "output_type": "stream",
          "text": [
            "10316/10316 [==============================] - 11s 1ms/step\n",
            "Test Loss:  0.8894706201349963 Test Accuracy:  0.5845288871424565\n"
          ],
          "name": "stdout"
        }
      ]
    },
    {
      "metadata": {
        "id": "h7UFX0TQv3Yg",
        "colab_type": "code",
        "outputId": "18457815-c8b4-4d06-aa20-d16a8aa841d9",
        "colab": {
          "base_uri": "https://localhost:8080/",
          "height": 376
        }
      },
      "cell_type": "code",
      "source": [
        "import matplotlib.pyplot as plt\n",
        "\n",
        "history_dict_lstm2 = history_lstm2.history\n",
        "\n",
        "acc = history_dict_lstm2['acc']\n",
        "val_acc = history_dict_lstm2['val_acc']\n",
        "loss = history_dict_lstm2['loss']\n",
        "val_loss = history_dict_lstm2['val_loss']\n",
        "\n",
        "epochs = range(1, len(acc) + 1)\n",
        "\n",
        "plt.plot(epochs, acc, 'bo', label='Training acc')\n",
        "plt.plot(epochs, val_acc, 'b', label='Validation acc')\n",
        "plt.title('Training and validation accuracy')\n",
        "plt.xlabel('Epochs')\n",
        "plt.ylabel('Accuracy')\n",
        "plt.legend()\n",
        "\n",
        "plt.show()"
      ],
      "execution_count": 0,
      "outputs": [
        {
          "output_type": "display_data",
          "data": {
            "image/png": "[encoded data removed]",
            "text/plain": [
              "<Figure size 576x396 with 1 Axes>"
            ]
          },
          "metadata": {
            "tags": []
          }
        }
      ]
    },
    {
      "metadata": {
        "id": "DRes4vLn-v4D",
        "colab_type": "code",
        "outputId": "a7df007f-bebb-405f-abbb-9342a1f4655d",
        "colab": {
          "base_uri": "https://localhost:8080/",
          "height": 315
        }
      },
      "cell_type": "code",
      "source": [
        "model_lstm3 = Sequential() \n",
        "\n",
        "model_lstm3.add(embedding_layer)\n",
        "model_lstm3.add(Dropout(0.5))\n",
        "#model_lstm.add(GlobalAveragePooling1DMasked())\n",
        "\n",
        "model_lstm3.add(LSTM(100)) \n",
        "model_lstm3.add(Dropout(0.5))\n",
        "model_lstm3.add(Dense(3, activation='softmax')) \n",
        "model_lstm3.compile(loss='categorical_crossentropy',optimizer='adam', metrics=['accuracy']) \n",
        "\n",
        "model_lstm3.summary()"
      ],
      "execution_count": 0,
      "outputs": [
        {
          "output_type": "stream",
          "text": [
            "_________________________________________________________________\n",
            "Layer (type)                 Output Shape              Param #   \n",
            "=================================================================\n",
            "embedding_3 (Embedding)      (None, 144, 100)          3702900   \n",
            "_________________________________________________________________\n",
            "dropout_3 (Dropout)          (None, 144, 100)          0         \n",
            "_________________________________________________________________\n",
            "lstm_3 (LSTM)                (None, 100)               80400     \n",
            "_________________________________________________________________\n",
            "dropout_4 (Dropout)          (None, 100)               0         \n",
            "_________________________________________________________________\n",
            "dense_5 (Dense)              (None, 3)                 303       \n",
            "=================================================================\n",
            "Total params: 3,783,603\n",
            "Trainable params: 80,703\n",
            "Non-trainable params: 3,702,900\n",
            "_________________________________________________________________\n"
          ],
          "name": "stdout"
        }
      ]
    },
    {
      "metadata": {
        "id": "4rqoec7M_ITj",
        "colab_type": "code",
        "outputId": "83bd1461-04e7-49fd-a3a6-c515b1e92272",
        "colab": {
          "base_uri": "https://localhost:8080/",
          "height": 245
        }
      },
      "cell_type": "code",
      "source": [
        "history_lstm3 = model_lstm3.fit(x_train,\n",
        "                    y_train,\n",
        "                    epochs=6,\n",
        "                    batch_size=100,\n",
        "                    validation_data=(x_val, y_val),\n",
        "                    verbose=1)"
      ],
      "execution_count": 0,
      "outputs": [
        {
          "output_type": "stream",
          "text": [
            "Train on 10316 samples, validate on 10316 samples\n",
            "Epoch 1/6\n",
            "10316/10316 [==============================] - 53s 5ms/step - loss: 0.9652 - acc: 0.5070 - val_loss: 1.0727 - val_acc: 0.4490\n",
            "Epoch 2/6\n",
            "10316/10316 [==============================] - 52s 5ms/step - loss: 0.8810 - acc: 0.5704 - val_loss: 0.9499 - val_acc: 0.5554\n",
            "Epoch 3/6\n",
            "10316/10316 [==============================] - 52s 5ms/step - loss: 0.8594 - acc: 0.5848 - val_loss: 0.8717 - val_acc: 0.5870\n",
            "Epoch 4/6\n",
            "10316/10316 [==============================] - 51s 5ms/step - loss: 0.8318 - acc: 0.6010 - val_loss: 0.8710 - val_acc: 0.5827\n",
            "Epoch 5/6\n",
            "10316/10316 [==============================] - 51s 5ms/step - loss: 0.8345 - acc: 0.6035 - val_loss: 0.8484 - val_acc: 0.6024\n",
            "Epoch 6/6\n",
            "10316/10316 [==============================] - 50s 5ms/step - loss: 0.8173 - acc: 0.6085 - val_loss: 0.8551 - val_acc: 0.6022\n"
          ],
          "name": "stdout"
        }
      ]
    },
    {
      "metadata": {
        "id": "wgse552wCuqR",
        "colab_type": "code",
        "outputId": "00622c51-775e-4d0a-a4b4-86c60de62b84",
        "colab": {
          "base_uri": "https://localhost:8080/",
          "height": 52
        }
      },
      "cell_type": "code",
      "source": [
        "results_lstm3 = model_lstm3.evaluate(x_val,y_val)\n",
        "print('Test Loss: ', results_lstm3[0], 'Test Accuracy: ',results_lstm3[1])"
      ],
      "execution_count": 0,
      "outputs": [
        {
          "output_type": "stream",
          "text": [
            "10316/10316 [==============================] - 11s 1ms/step\n",
            "Test Loss:  0.8550839383225887 Test Accuracy:  0.6021713842805757\n"
          ],
          "name": "stdout"
        }
      ]
    },
    {
      "metadata": {
        "id": "-ITVXrkWArZS",
        "colab_type": "code",
        "outputId": "5fb3dd73-fbdf-42d5-a53c-fbdadee5a07d",
        "colab": {
          "base_uri": "https://localhost:8080/",
          "height": 379
        }
      },
      "cell_type": "code",
      "source": [
        "import matplotlib.pyplot as plt\n",
        "\n",
        "history_dict_lstm3 = history_lstm3.history\n",
        "\n",
        "acc = history_dict_lstm3['acc']\n",
        "val_acc = history_dict_lstm3['val_acc']\n",
        "loss = history_dict_lstm3['loss']\n",
        "val_loss = history_dict_lstm3['val_loss']\n",
        "\n",
        "epochs = range(1, len(acc) + 1)\n",
        "\n",
        "plt.plot(epochs, acc, 'bo', label='Training acc')\n",
        "plt.plot(epochs, val_acc, 'b', label='Validation acc')\n",
        "plt.title('Training and validation accuracy')\n",
        "plt.xlabel('Epochs')\n",
        "plt.ylabel('Accuracy')\n",
        "plt.legend()\n",
        "\n",
        "plt.show()"
      ],
      "execution_count": 0,
      "outputs": [
        {
          "output_type": "display_data",
          "data": {
            "image/png": "[encoded data removed]",
            "text/plain": [
              "<Figure size 576x396 with 1 Axes>"
            ]
          },
          "metadata": {
            "tags": []
          }
        }
      ]
    },
    {
      "metadata": {
        "id": "8F-Be18zDcMd",
        "colab_type": "code",
        "outputId": "a90b95fd-4522-433c-e22a-ae7037027a3b",
        "colab": {
          "base_uri": "https://localhost:8080/",
          "height": 436
        }
      },
      "cell_type": "code",
      "source": [
        "model_lstm4 = Sequential() \n",
        "\n",
        "model_lstm4.add(embedding_layer)\n",
        "model_lstm4.add(Dropout(0.3))\n",
        "\n",
        "model_lstm4.add(LSTM(100)) \n",
        "model_lstm4.add(Dropout(0.3))\n",
        "model_lstm4.add(Dense(3, activation='softmax')) \n",
        "model_lstm4.compile(loss='categorical_crossentropy',optimizer='adam', metrics=['accuracy']) \n",
        "\n",
        "model_lstm4.summary()"
      ],
      "execution_count": 0,
      "outputs": [
        {
          "output_type": "stream",
          "text": [
            "WARNING:tensorflow:From /usr/local/lib/python3.6/dist-packages/tensorflow/python/framework/op_def_library.py:263: colocate_with (from tensorflow.python.framework.ops) is deprecated and will be removed in a future version.\n",
            "Instructions for updating:\n",
            "Colocations handled automatically by placer.\n",
            "WARNING:tensorflow:From /usr/local/lib/python3.6/dist-packages/keras/backend/tensorflow_backend.py:3445: calling dropout (from tensorflow.python.ops.nn_ops) with keep_prob is deprecated and will be removed in a future version.\n",
            "Instructions for updating:\n",
            "Please use `rate` instead of `keep_prob`. Rate should be set to `rate = 1 - keep_prob`.\n",
            "_________________________________________________________________\n",
            "Layer (type)                 Output Shape              Param #   \n",
            "=================================================================\n",
            "embedding_1 (Embedding)      (None, 144, 100)          3702900   \n",
            "_________________________________________________________________\n",
            "dropout_1 (Dropout)          (None, 144, 100)          0         \n",
            "_________________________________________________________________\n",
            "lstm_1 (LSTM)                (None, 100)               80400     \n",
            "_________________________________________________________________\n",
            "dropout_2 (Dropout)          (None, 100)               0         \n",
            "_________________________________________________________________\n",
            "dense_1 (Dense)              (None, 3)                 303       \n",
            "=================================================================\n",
            "Total params: 3,783,603\n",
            "Trainable params: 80,703\n",
            "Non-trainable params: 3,702,900\n",
            "_________________________________________________________________\n"
          ],
          "name": "stdout"
        }
      ]
    },
    {
      "metadata": {
        "id": "q5w8IRxbDrMT",
        "colab_type": "code",
        "outputId": "e649de9a-1f43-404c-8425-1360a090ba3b",
        "colab": {
          "base_uri": "https://localhost:8080/",
          "height": 315
        }
      },
      "cell_type": "code",
      "source": [
        "history_lstm4 = model_lstm4.fit(x_train,\n",
        "                    y_train,\n",
        "                    epochs=6,\n",
        "                    batch_size=100,\n",
        "                    validation_data=(x_val, y_val),\n",
        "                    verbose=1)"
      ],
      "execution_count": 0,
      "outputs": [
        {
          "output_type": "stream",
          "text": [
            "WARNING:tensorflow:From /usr/local/lib/python3.6/dist-packages/tensorflow/python/ops/math_ops.py:3066: to_int32 (from tensorflow.python.ops.math_ops) is deprecated and will be removed in a future version.\n",
            "Instructions for updating:\n",
            "Use tf.cast instead.\n",
            "Train on 10316 samples, validate on 10316 samples\n",
            "Epoch 1/6\n",
            "10316/10316 [==============================] - 53s 5ms/step - loss: 0.9206 - acc: 0.5478 - val_loss: 0.8763 - val_acc: 0.5693\n",
            "Epoch 2/6\n",
            "10316/10316 [==============================] - 52s 5ms/step - loss: 0.8393 - acc: 0.5989 - val_loss: 0.8971 - val_acc: 0.5778\n",
            "Epoch 3/6\n",
            "10316/10316 [==============================] - 52s 5ms/step - loss: 0.8187 - acc: 0.6103 - val_loss: 0.8726 - val_acc: 0.5790\n",
            "Epoch 4/6\n",
            "10316/10316 [==============================] - 52s 5ms/step - loss: 0.7970 - acc: 0.6207 - val_loss: 0.9045 - val_acc: 0.5641\n",
            "Epoch 5/6\n",
            "10316/10316 [==============================] - 52s 5ms/step - loss: 0.7890 - acc: 0.6278 - val_loss: 0.8307 - val_acc: 0.6081\n",
            "Epoch 6/6\n",
            "10316/10316 [==============================] - 52s 5ms/step - loss: 0.7666 - acc: 0.6380 - val_loss: 0.8250 - val_acc: 0.6143\n"
          ],
          "name": "stdout"
        }
      ]
    },
    {
      "metadata": {
        "id": "U1huchf_GikU",
        "colab_type": "code",
        "outputId": "35d5a5b9-39a7-4a1d-fccf-a26c06d3e7cb",
        "colab": {
          "base_uri": "https://localhost:8080/",
          "height": 52
        }
      },
      "cell_type": "code",
      "source": [
        "results_lstm4 = model_lstm4.evaluate(x_val,y_val)\n",
        "print('Test Loss: ', results_lstm4[0], 'Test Accuracy: ',results_lstm4[1])"
      ],
      "execution_count": 0,
      "outputs": [
        {
          "output_type": "stream",
          "text": [
            "10316/10316 [==============================] - 11s 1ms/step\n",
            "Test Loss:  0.8249738464849131 Test Accuracy:  0.6142884839316032\n"
          ],
          "name": "stdout"
        }
      ]
    },
    {
      "metadata": {
        "id": "TFRyo8GPGvcs",
        "colab_type": "code",
        "outputId": "58f6f8ec-2cee-4580-d657-afc002e4bc8e",
        "colab": {
          "base_uri": "https://localhost:8080/",
          "height": 376
        }
      },
      "cell_type": "code",
      "source": [
        "import matplotlib.pyplot as plt\n",
        "\n",
        "history_dict_lstm4 = history_lstm4.history\n",
        "\n",
        "acc = history_dict_lstm4['acc']\n",
        "val_acc = history_dict_lstm4['val_acc']\n",
        "loss = history_dict_lstm4['loss']\n",
        "val_loss = history_dict_lstm4['val_loss']\n",
        "\n",
        "epochs = range(1, len(acc) + 1)\n",
        "\n",
        "plt.plot(epochs, acc, 'bo', label='Training acc')\n",
        "plt.plot(epochs, val_acc, 'b', label='Validation acc')\n",
        "plt.title('Training and validation accuracy')\n",
        "plt.xlabel('Epochs')\n",
        "plt.ylabel('Accuracy')\n",
        "plt.legend()\n",
        "\n",
        "plt.show()"
      ],
      "execution_count": 0,
      "outputs": [
        {
          "output_type": "display_data",
          "data": {
            "image/png": "[encoded data removed]",
            "text/plain": [
              "<Figure size 576x396 with 1 Axes>"
            ]
          },
          "metadata": {
            "tags": []
          }
        }
      ]
    },
    {
      "metadata": {
        "id": "ExtFobxEd8mK",
        "colab_type": "code",
        "colab": {}
      },
      "cell_type": "code",
      "source": [
        "model_lstm4.save('Task4_Eng_lstm4.h5')"
      ],
      "execution_count": 0,
      "outputs": []
    },
    {
      "metadata": {
        "id": "CZahsfhbeZw8",
        "colab_type": "code",
        "outputId": "618ddd88-ec7e-448b-f2ff-a73d64292a8a",
        "colab": {
          "base_uri": "https://localhost:8080/",
          "height": 192
        }
      },
      "cell_type": "code",
      "source": [
        "os.listdir()"
      ],
      "execution_count": 0,
      "outputs": [
        {
          "output_type": "execute_result",
          "data": {
            "text/plain": [
              "['.config',\n",
              " 'SemEval2017-task4-dev.subtask-A.english.INPUT.txt',\n",
              " 'glove.6B.300d.txt',\n",
              " 'glove.6B.50d.txt',\n",
              " 'glove.6B.zip',\n",
              " '4a-english.zip',\n",
              " 'Task4_Eng_lstm4.h5',\n",
              " 'glove.6B.200d.txt',\n",
              " 'glove.6B.100d.txt',\n",
              " 'sample_data']"
            ]
          },
          "metadata": {
            "tags": []
          },
          "execution_count": 32
        }
      ]
    },
    {
      "metadata": {
        "id": "PsVYFxCnjYph",
        "colab_type": "code",
        "outputId": "02bc691c-d4fc-43d1-e5ed-b1f7b11ab60d",
        "colab": {
          "base_uri": "https://localhost:8080/",
          "height": 319
        }
      },
      "cell_type": "code",
      "source": [
        "!wget https://qmplus.qmul.ac.uk/pluginfile.php/1555056/mod_folder/content/0/semeval2017-task4-test.zip"
      ],
      "execution_count": 0,
      "outputs": [
        {
          "output_type": "stream",
          "text": [
            "--2019-02-20 10:57:52--  https://qmplus.qmul.ac.uk/pluginfile.php/1555056/mod_folder/content/0/semeval2017-task4-test.zip\n",
            "Resolving qmplus.qmul.ac.uk (qmplus.qmul.ac.uk)... 128.86.140.87\n",
            "Connecting to qmplus.qmul.ac.uk (qmplus.qmul.ac.uk)|128.86.140.87|:443... connected.\n",
            "HTTP request sent, awaiting response... 303 See Other\n",
            "Location: https://qmplus.qmul.ac.uk/enrol/index.php?id=10574 [following]\n",
            "--2019-02-20 10:57:53--  https://qmplus.qmul.ac.uk/enrol/index.php?id=10574\n",
            "Connecting to qmplus.qmul.ac.uk (qmplus.qmul.ac.uk)|128.86.140.87|:443... connected.\n",
            "HTTP request sent, awaiting response... 200 OK\n",
            "Length: unspecified [text/html]\n",
            "Saving to: ‘semeval2017-task4-test.zip’\n",
            "\n",
            "semeval2017-task4-t     [  <=>               ]  64.54K   244KB/s    in 0.3s    \n",
            "\n",
            "2019-02-20 10:57:55 (244 KB/s) - ‘semeval2017-task4-test.zip’ saved [66086]\n",
            "\n"
          ],
          "name": "stdout"
        }
      ]
    },
    {
      "metadata": {
        "id": "6fhTXAobjVLq",
        "colab_type": "code",
        "colab": {}
      },
      "cell_type": "code",
      "source": [
        ""
      ],
      "execution_count": 0,
      "outputs": []
    },
    {
      "metadata": {
        "id": "kyFuqIVhf_C8",
        "colab_type": "code",
        "outputId": "0efd62e8-66dc-4d53-d991-aa6fea20455a",
        "colab": {
          "base_uri": "https://localhost:8080/",
          "height": 176
        }
      },
      "cell_type": "code",
      "source": [
        "text_file = open(\"SemEval2017-task4-test.subtask-A.english.txt\", \"r\")\n",
        "test_corpus = text_file.read()\n",
        "print(len(test_corpus))\n",
        "print(test_corpus[:1000])"
      ],
      "execution_count": 0,
      "outputs": [
        {
          "output_type": "stream",
          "text": [
            "1694351\n",
            "801989080477154944\tneutral\t#ArianaGrande Ari By Ariana Grande 80% Full https://t.co/ylhCMETHHW #Singer #Actress https://t.co/lTrb1JQiEA\n",
            "801989272341453952\tpositive\tAriana Grande KIIS FM Yours Truly CD listening party in Burbank https://t.co/ClQIcx8Z6V #ArianaGrande\n",
            "801990978424962944\tpositive\tAriana Grande White House Easter Egg Roll in Washington https://t.co/jdjL9swWM8 #ArianaGrande\n",
            "801996232553963008\tpositive\t#CD #Musics Ariana Grande Sweet Like Candy 3.4 oz 100 ML Sealed In Box 100% Authenic New https://t.co/oFmp0bOvZy… https://t.co/WIHLch9KtK\n",
            "801998343442407040\tneutral\tSIDE TO SIDE 😘 @arianagrande #sidetoside #arianagrande #musically #comunidadgay #lgbt🌈  #LOTB… https://t.co/tEd8rftAxV\n",
            "802001659970744064\tpositive\tHairspray Live! Previews at the Macy's Thanksgiving Day Parade! https://t.co/GaFTqInolL #arianagrande #televisionnbc\n",
            "802003380973568000\tpositive\t#LindsayLohan Is ‘Feeling Thankful’ After Blasting #ArianaGrande For Wearing ‘#TooMuch… https://t.co/Acf8ogvPxd https://t.co/EO\n"
          ],
          "name": "stdout"
        }
      ]
    },
    {
      "metadata": {
        "id": "xKjKgvGuphVa",
        "colab_type": "code",
        "outputId": "4dbe334c-9117-4f70-8820-5f6d1d09e42f",
        "colab": {
          "base_uri": "https://localhost:8080/",
          "height": 89
        }
      },
      "cell_type": "code",
      "source": [
        "labels = []\n",
        "tweets = []\n",
        "f = csv.reader(io.StringIO(test_corpus), delimiter='\\t')\n",
        "for row in f:\n",
        "  labels.append(row[1])\n",
        "  tweets.append(row[2])\n",
        "\n",
        "normalize_corpus = np.vectorize(normalize_document)\n",
        "normalized_corpus = [[word.lower() for word in sent if word not in remove_terms] for sent in tweets]\n",
        "\n",
        "normalized_corpus = [''.join(tok_sent) for tok_sent in normalized_corpus]\n",
        "\n",
        "#normalized_corpus = filter(None, normalize_corpus(normalized_corpus))\n",
        "#normalized_corpus = list(normalized_corpus)\n",
        "#normalized_corpus = [tok_sent for tok_sent in normalized_corpus if len(tok_sent.split()) > 2]\n",
        "\n",
        "normalized_corpus = list(normalized_corpus)\n",
        "\n",
        "\n",
        "\n",
        "\n",
        "tokenizer = Tokenizer(nb_words=VOCAB_SIZE)\n",
        "tokenizer.fit_on_texts(normalized_corpus)\n",
        "sequences = tokenizer.texts_to_sequences(normalized_corpus)\n",
        "\n",
        "word_index = tokenizer.word_index\n",
        "print('Found %s unique tokens.' % len(word_index))\n",
        "\n",
        "\n",
        "\n",
        "\n",
        "\n",
        "\n"
      ],
      "execution_count": 0,
      "outputs": [
        {
          "output_type": "stream",
          "text": [
            "/usr/local/lib/python3.6/dist-packages/keras_preprocessing/text.py:178: UserWarning: The `nb_words` argument in `Tokenizer` has been renamed `num_words`.\n",
            "  warnings.warn('The `nb_words` argument in `Tokenizer` '\n"
          ],
          "name": "stderr"
        },
        {
          "output_type": "stream",
          "text": [
            "Found 34617 unique tokens.\n"
          ],
          "name": "stdout"
        }
      ]
    },
    {
      "metadata": {
        "id": "d-Hx6JLLr-OV",
        "colab_type": "code",
        "outputId": "96e27b45-0b07-419c-d88c-8e065d0e51b2",
        "colab": {
          "base_uri": "https://localhost:8080/",
          "height": 121
        }
      },
      "cell_type": "code",
      "source": [
        "data = pad_sequences(sequences, maxlen=MAXIMUM_LENGTH)\n",
        "\n",
        "#labels = to_categorical(np.asarray(labels))\n",
        "print('Shape of data tensor:', data.shape)\n",
        "#print('Shape of label tensor:', labels.shape)\n",
        "\n",
        "\n",
        "# split the data into a training set and a validation set\n",
        "indices = np.arange(data.shape[0])\n",
        "#np.random.shuffle(indices)\n",
        "data = data[indices]\n",
        "#labels = labels[indices]\n",
        "\n",
        "\n",
        "nb_validation_samples = int(TRAIN_SPLIT * data.shape[0])\n",
        "\n",
        "x_train = data[:-nb_validation_samples]\n",
        "y_train = labels[:-nb_validation_samples]\n",
        "x_val = data[-nb_validation_samples:]\n",
        "y_val = labels[-nb_validation_samples:]\n",
        "\n",
        "\n",
        "print(nb_validation_samples)\n",
        "print(len(x_train))\n",
        "print(len(y_train))\n",
        "\n",
        "print(len(x_val))\n",
        "print(len(y_val))\n",
        "\n",
        "encoder = LabelBinarizer()\n",
        "encoder.fit(y_train)\n",
        "y_train = encoder.transform(y_train)\n",
        "y_val = encoder.transform(y_val)"
      ],
      "execution_count": 0,
      "outputs": [
        {
          "output_type": "stream",
          "text": [
            "Shape of data tensor: (11906, 144)\n",
            "5953\n",
            "5953\n",
            "5953\n",
            "5953\n",
            "5953\n"
          ],
          "name": "stdout"
        }
      ]
    },
    {
      "metadata": {
        "id": "QrCysV7KhV9_",
        "colab_type": "code",
        "outputId": "cdcd976e-997a-4e62-e038-f315550f3513",
        "colab": {
          "base_uri": "https://localhost:8080/",
          "height": 121
        }
      },
      "cell_type": "code",
      "source": [
        "nb_validation_samples = int(TRAIN_SPLIT * data.shape[0])\n",
        "\n",
        "x_train = data[:-nb_validation_samples]\n",
        "y_train = labels[:-nb_validation_samples]\n",
        "x_val = data[-nb_validation_samples:]\n",
        "y_val = labels[-nb_validation_samples:]\n",
        "\n",
        "encoder = LabelBinarizer()\n",
        "encoder.fit(y_train)\n",
        "y_train = encoder.transform(y_train)\n",
        "y_val = encoder.transform(y_val)\n",
        "\n",
        "print(nb_validation_samples)\n",
        "print(len(x_train))\n",
        "print(len(y_train))\n",
        "\n",
        "print(len(x_val))\n",
        "print(len(y_val))\n",
        "print(y_val[0])"
      ],
      "execution_count": 0,
      "outputs": [
        {
          "output_type": "stream",
          "text": [
            "5953\n",
            "5953\n",
            "5953\n",
            "5953\n",
            "5953\n",
            "[1 0 0]\n"
          ],
          "name": "stdout"
        }
      ]
    },
    {
      "metadata": {
        "colab_type": "code",
        "outputId": "778364a2-78d6-4648-ea00-f7dcac85ce89",
        "id": "ACP0iarU942L",
        "colab": {
          "base_uri": "https://localhost:8080/",
          "height": 52
        }
      },
      "cell_type": "code",
      "source": [
        "test_lstm4 = model_lstm4.evaluate(x_val,y_val)\n",
        "print('Test Loss: ', results_lstm4[0], 'Test Accuracy: ',results_lstm4[1])"
      ],
      "execution_count": 0,
      "outputs": [
        {
          "output_type": "stream",
          "text": [
            "5953/5953 [==============================] - 6s 1ms/step\n",
            "Test Loss:  0.8249738464849131 Test Accuracy:  0.6142884839316032\n"
          ],
          "name": "stdout"
        }
      ]
    }
  ]
}